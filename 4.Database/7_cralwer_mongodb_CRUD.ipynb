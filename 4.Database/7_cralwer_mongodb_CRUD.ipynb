{
  "nbformat": 4,
  "nbformat_minor": 0,
  "metadata": {
    "colab": {
      "provenance": []
    },
    "kernelspec": {
      "name": "python3",
      "display_name": "Python 3"
    },
    "language_info": {
      "name": "python"
    }
  },
  "cells": [
    {
      "cell_type": "code",
      "source": [
        "!pip3 install pymongo"
      ],
      "metadata": {
        "id": "w_q1Yhp3oFtr"
      },
      "execution_count": null,
      "outputs": []
    },
    {
      "cell_type": "code",
      "execution_count": 2,
      "metadata": {
        "id": "7yR2eDC9904M"
      },
      "outputs": [],
      "source": [
        "import requests\n",
        "import pymongo\n",
        "import configparser\n",
        "import ssl\n",
        "import json\n",
        "import datetime\n",
        "from lxml import etree\n",
        "from bson.objectid import ObjectId"
      ]
    },
    {
      "cell_type": "code",
      "source": [
        "# 查詢本機 Colab 的對外 IP，加到 MongoDB Atlas 的 Security -> Network Access 裡\n",
        "response = requests.get('https://api.ipify.org')\n",
        "if response.status_code == 200:\n",
        "    print('My public IP address is:', response.text.strip())\n",
        "else:\n",
        "    print('Failed to get public IP address')"
      ],
      "metadata": {
        "id": "JjgD_BPCpd9m"
      },
      "execution_count": null,
      "outputs": []
    },
    {
      "cell_type": "markdown",
      "source": [
        "config.ini ，內容如下\n",
        "\n",
        "```\n",
        "[mongodb]\n",
        "username = <username>\n",
        "password = <password>\n",
        "clustername = <clustername>\n",
        "```\n",
        "\n",
        "\n"
      ],
      "metadata": {
        "id": "e8X6STe0-blP"
      }
    },
    {
      "cell_type": "code",
      "source": [
        "# 讀取外部配置檔案\n",
        "config = configparser.ConfigParser()\n",
        "config.read('config.ini')"
      ],
      "metadata": {
        "id": "pEoAFerEnDKm"
      },
      "execution_count": null,
      "outputs": []
    },
    {
      "cell_type": "code",
      "source": [
        "# 取得 MongoDB 連線 URI\n",
        "username = config.get('mongodb', 'username')\n",
        "password = config.get('mongodb', 'password')\n",
        "clustername = config.get('mongodb', 'clustername')\n",
        "dbUri = f\"mongodb+srv://{username}:{password}@{clustername}/?retryWrites=true&w=majority\"\n"
      ],
      "metadata": {
        "id": "HEOkdn_QnGXT"
      },
      "execution_count": 5,
      "outputs": []
    },
    {
      "cell_type": "code",
      "source": [
        "# 資料庫連線設定\n",
        "connection = pymongo.MongoClient(\n",
        "    dbUri\n",
        ")\n",
        "db = connection['dataScience']\n",
        "sourceCollection = db['crawlerSource']"
      ],
      "metadata": {
        "id": "6tZCEk7I-FXI"
      },
      "execution_count": 6,
      "outputs": []
    },
    {
      "cell_type": "code",
      "source": [
        "cursor = sourceCollection.find()\n",
        "# 遍歷 Cursor 物件，取得查詢結果\n",
        "for document in cursor:\n",
        "    print(document)"
      ],
      "metadata": {
        "id": "Ubnq15-lmjqj"
      },
      "execution_count": null,
      "outputs": []
    },
    {
      "cell_type": "code",
      "source": [
        "# Crawler Source Model\n",
        "def initSourceModel(source):\n",
        "  timestamp = int(datetime.datetime.now().timestamp() * 1000)\n",
        "\n",
        "  topics = []\n",
        "  for topic in source[\"topics\"]:\n",
        "    topics.append(\n",
        "        {\"topic\": topic[\"topic\"],\n",
        "         \"description\": topic[\"description\"],\n",
        "         \"requestUrl\": topic[\"requestUrl\"],\n",
        "         \"createdAt\":{\"$numberLong\":str(timestamp)},\n",
        "         \"updatedAt\": None,\n",
        "         \"lastSync\": None,\n",
        "         \"available\": True})\n",
        "\n",
        "  model = {\n",
        "    \"name\": source[\"name\"],\n",
        "    \"description\": source[\"description\"],\n",
        "    \"topics\": topics,\n",
        "    \"sourceDomain\": source[\"domain\"],\n",
        "    \"crawlerSchema\": source[\"schema\"],\n",
        "    \"createdAt\":{\"$numberLong\":str(timestamp)},\n",
        "    \"updatedAt\": None,\n",
        "    \"scheduleSync\": None,\n",
        "    \"lastSync\": None,\n",
        "    \"enabled\": True\n",
        "  }\n",
        "\n",
        "  return model"
      ],
      "metadata": {
        "id": "cs_ERs_9-Nx1"
      },
      "execution_count": 14,
      "outputs": []
    },
    {
      "cell_type": "code",
      "source": [
        "# 創建 Crawler Source 內容\n",
        "source = {\n",
        "    \"name\": \"天下雜誌\",\n",
        "    \"description\": \"天下雜誌，是台灣第一本專業的新聞財經雜誌。每日精選財經、國際、管理、教育、經濟學人、評論、時尚；互動圖表、影音等多媒體報導，深入解讀世界脈動，掌握前瞻觀念。\",\n",
        "    \"topics\": [{\n",
        "        \"topic\": \"美國銀行\",\n",
        "        \"description\": \"因為美國矽谷銀行倒閉事件，欲觀察美國 Nasdaq 指數與該事件之關係，使用 Google 新聞搜尋關鍵字【美國銀行】，並指定網站，取得天下雜誌關於列表。\",\n",
        "        \"requestUrl\": \"https://www.google.com/search?q=%E7%BE%8E%E5%9C%8B%E9%8A%80%E8%A1%8C+site:cw.com.tw&tbm=nws\"\n",
        "    }],\n",
        "    \"domain\": \"www.cw.com.tw\",\n",
        "    \"schema\": \"\"\n",
        "}\n",
        "\n",
        "# 初始化 MongoDB 所需的 Source Model 映射欄位\n",
        "sourceModel = initSourceModel(source)\n",
        "# 將 dict 轉成 MongoDB 的 document 格式\n",
        "sourceDocument = json.loads(json.dumps(sourceModel))\n",
        "\n",
        "# 插入 document 到 collection，並取得回傳物件\n",
        "try:\n",
        "    sourceResult = sourceCollection.insert_one(sourceDocument)\n",
        "    source[\"oid\"] = sourceResult.inserted_id\n",
        "    print(\"Document inserted with oid: \", source[\"oid\"])\n",
        "except Exception as e:\n",
        "    print(\"Error inserting document: \", e)"
      ],
      "metadata": {
        "id": "nIyFrXSmRbtS"
      },
      "execution_count": 15,
      "outputs": []
    },
    {
      "cell_type": "markdown",
      "source": [
        "JSON 檔案來源： https://github.com/jungyu/bigdata-scrapy/blob/master/1.BasicWithColab/3.Basic_Fetech_List_Articles.ipynb\n"
      ],
      "metadata": {
        "id": "WlLicKvaK0ba"
      }
    },
    {
      "cell_type": "code",
      "source": [
        "# 讀取 JSON 檔案\n",
        "with open('天下雜誌_美國銀行.json', 'r') as f:\n",
        "    jsonData = json.load(f)"
      ],
      "metadata": {
        "id": "pBI4B-y2-Itr"
      },
      "execution_count": 25,
      "outputs": []
    },
    {
      "cell_type": "code",
      "source": [
        "def jsonToDataModel(source, data):\n",
        "  timestamp = int(datetime.datetime.now().timestamp() * 1000)\n",
        "\n",
        "  if \"tags\" in data:\n",
        "    ','.join(data[\"tags\"])\n",
        "  else:\n",
        "    data[\"tags\"] = None\n",
        "\n",
        "  dataModel = {\n",
        "    \"sourceId\":{\"$oid\": str(source[\"oid\"])},\n",
        "    \"sourceName\": source[\"name\"],\n",
        "    \"topic\": source[\"topic\"],\n",
        "    \"sourceUrl\": data[\"link\"],\n",
        "    \"sourceUpdatedAt\": None,\n",
        "    \"sourceAvailable\": True,\n",
        "    \"title\": data[\"title\"],\n",
        "    \"content\": data[\"content\"],\n",
        "    \"featuredImage\": data[\"image\"],\n",
        "    \"Images\": None,\n",
        "    \"metas\":[\n",
        "      {\"metaKey\":\"tags\",\"metaValue\": data[\"tags\"], \"available\": True}\n",
        "    ],\n",
        "    \"createdAt\":{\"$numberLong\":str(timestamp)},\n",
        "    \"updatedAt\": None,\n",
        "    \"lastSync\":{\"$numberLong\":str(timestamp)},\n",
        "    \"available\": True\n",
        "  }\n",
        "\n",
        "  return dataModel"
      ],
      "metadata": {
        "id": "KRQR_Ew4OM3l"
      },
      "execution_count": 23,
      "outputs": []
    },
    {
      "cell_type": "code",
      "source": [
        "# 插入多筆爬蟲取得的 Document 寫到 crawlerData 集合裡\n",
        "dataCollection = db['crawlerData']\n",
        "\n",
        "source[\"topic\"] = \"美國銀行\"\n",
        "\n",
        "dataDocuments = []\n",
        "for data in jsonData:\n",
        "  model = jsonToDataModel(source, data)\n",
        "  # 將 dict 轉成 MongoDB 的 document 格式\n",
        "  dataDocuments.append(json.loads(json.dumps(model)))\n",
        "\n",
        "try:\n",
        "    # 插入多筆 document 到 collection\n",
        "    dataResult = dataCollection.insert_many(dataDocuments)\n",
        "    print('Inserted documents:', dataResult.inserted_ids)\n",
        "except pymongo.errors.BulkWriteError as e:\n",
        "    print('Error:', e.details['writeErrors'])"
      ],
      "metadata": {
        "id": "ltmGr2wk5eHH"
      },
      "execution_count": null,
      "outputs": []
    },
    {
      "cell_type": "code",
      "source": [
        "# 使用 update_one 更新 Source 集合指定 id 之文件中的 lastSync 欄位\n",
        "timestamp = int(datetime.datetime.now().timestamp() * 1000)\n",
        "updateResult = sourceCollection.update_one(\n",
        "    {'_id': source[\"oid\"]},\n",
        "    {'$set': {'lastSync': {\"$numberLong\":str(timestamp)}}}\n",
        ")"
      ],
      "metadata": {
        "id": "rapGSVy5KV1U"
      },
      "execution_count": 76,
      "outputs": []
    },
    {
      "cell_type": "code",
      "source": [
        "from bson.objectid import ObjectId\n",
        "# 讀出多筆相同 source id 之 crawlerData 集合裡的文件\n",
        "# 以 find 方法查詢(指定顯示欄位)\n",
        "from bson.objectid import ObjectId\n",
        "\n",
        "try:\n",
        "  # print(type(source[\"oid\"]))\n",
        "  # 因為 sourceId 欄位的資料型別是 BSON ObjectID，在查詢時需要透過 $oid operator 來指定，其它型別的欄位就不用這樣\n",
        "  findResult = dataCollection.find({\"sourceId.$oid\": str(source[\"oid\"])}, {\"_id\": 0, \"title\": 1, \"content\": 1})\n",
        "\n",
        "except Exception as e:\n",
        "  print(\"Error:\", e)\n",
        "\n",
        "# 逐一印出結果\n",
        "for r in findResult:\n",
        "    print(r)"
      ],
      "metadata": {
        "id": "l_csfpCjOoTE"
      },
      "execution_count": null,
      "outputs": []
    },
    {
      "cell_type": "code",
      "source": [
        "print(type(source[\"oid\"]))"
      ],
      "metadata": {
        "id": "20yK7ddFVTSS"
      },
      "execution_count": null,
      "outputs": []
    },
    {
      "cell_type": "code",
      "source": [
        "# 查詢共有多少筆數\n",
        "#count = sourceCollection.count_documents({\"_id\": source[\"oid\"]})\n",
        "count = dataCollection.count_documents({\"sourceId.$oid\": str(source[\"oid\"])}) #懷疑 sourceId 欄位不是關鍵索引，所以沒法直接用 ObjectId 型別\n",
        "print(\"Total number of documents:\", count)"
      ],
      "metadata": {
        "id": "qZ1rkbbpRJnd"
      },
      "execution_count": null,
      "outputs": []
    },
    {
      "cell_type": "code",
      "source": [
        "# 刪除指定文件 dataCollection 依 sourceId\n",
        "try:\n",
        "    print(str(source[\"oid\"]))\n",
        "    deleteResult = dataCollection.delete_many({\"sourceId.$oid\": str(source[\"oid\"])})\n",
        "    print(deleteResult.deleted_count, \"Data deleted\")\n",
        "except Exception as e:\n",
        "    print(\"Error:\", e)"
      ],
      "metadata": {
        "id": "ioLPBJ77SZ80"
      },
      "execution_count": null,
      "outputs": []
    }
  ]
}