{
  "nbformat": 4,
  "nbformat_minor": 0,
  "metadata": {
    "colab": {
      "provenance": []
    },
    "kernelspec": {
      "name": "python3",
      "display_name": "Python 3"
    },
    "language_info": {
      "name": "python"
    }
  },
  "cells": [
    {
      "cell_type": "markdown",
      "source": [
        "參考： https://github.com/OmniXRI/Colab_OpenCV_Display/blob/main/Colab_OpenCV_Display.ipynb"
      ],
      "metadata": {
        "id": "QpUPqwPCGqdy"
      }
    },
    {
      "cell_type": "code",
      "source": [
        "#安裝 translate 套件\n",
        "!pip install translate"
      ],
      "metadata": {
        "id": "54Q4CWkaVXNU"
      },
      "execution_count": null,
      "outputs": []
    },
    {
      "cell_type": "code",
      "execution_count": null,
      "metadata": {
        "id": "w9FdGm7BCMVz"
      },
      "outputs": [],
      "source": [
        "import datetime\n",
        "import matplotlib.pyplot as plt # 導入matplotlib.pyplot函式庫\n",
        "import textwrap\n",
        "import unicodedata\n",
        "import requests\n",
        "import configparser\n",
        "from PIL import ImageFont, ImageDraw, Image    # 載入 PIL 相關函式庫\n",
        "from typing import List, Tuple\n",
        "from lxml import etree\n",
        "import re"
      ]
    },
    {
      "cell_type": "markdown",
      "source": [
        "elder_config.ini ，內容如下\n",
        "\n",
        "[unsplash]\n",
        "client_id = \n",
        "[openai]\n",
        "api_key = \n",
        "[cwb]\n",
        "authorization = \n",
        "[ninjas]\n",
        "api_key = "
      ],
      "metadata": {
        "id": "UL29DTq2POVi"
      }
    },
    {
      "cell_type": "code",
      "source": [
        "def get_formatted_date():\n",
        "    today = datetime.date.today()\n",
        "\n",
        "    week_dict = {0: '星期一', 1: '星期二', 2: '星期三', 3: '星期四', 4: '星期五', 5: '星期六', 6: '星期日'}\n",
        "    weekday = week_dict[today.weekday()]\n",
        "    formatted_date = f\"{today.strftime('%Y.%m.%d')} {weekday}\"\n",
        "    \n",
        "    return formatted_date"
      ],
      "metadata": {
        "id": "ebIJXTwwePMg"
      },
      "execution_count": null,
      "outputs": []
    },
    {
      "cell_type": "code",
      "source": [
        "#當字串中有中文時，每個中文字視為2個英文字母\n",
        "def get_max_count_perline(text: str):\n",
        "    max_count = 0\n",
        "    lines = text.split('\\n')\n",
        "    for line in lines:\n",
        "        count = 0\n",
        "        for char in line:\n",
        "            if unicodedata.category(char) == 'Lo': \n",
        "                count += 0.5\n",
        "            else:\n",
        "                count += 1\n",
        "        if count > max_count:\n",
        "          max_count = count\n",
        "    return round(max_count)"
      ],
      "metadata": {
        "id": "uMXq6HeoxOKY"
      },
      "execution_count": null,
      "outputs": []
    },
    {
      "cell_type": "code",
      "source": [
        "#TOFIX: TextWrapper 的斷行判斷不夠聰明\n",
        "def wrap_text_with_newline(text: str, wrap_width: int):\n",
        "    # 先將 \\n 替換為空白字元\n",
        "    text = text.replace('\\n', ' ')\n",
        "    # 將斷行寬度調整為 wrap_width - 1，因為要留一個位置給 \\n 字元\n",
        "    wrapper = textwrap.TextWrapper(width=wrap_width - 1)\n",
        "    lines = wrapper.wrap(text)\n",
        "    # 將每行的末尾加上 \\n 字元\n",
        "    lines_with_newline = [line + '\\n' for line in lines]\n",
        "\n",
        "    return lines_with_newline"
      ],
      "metadata": {
        "id": "RaUscJnF2Xnd"
      },
      "execution_count": null,
      "outputs": []
    },
    {
      "cell_type": "code",
      "source": [
        "# 計算多行文字寬度及高度\n",
        "def get_total_size(font: ImageFont, lines: List[str], width_per_char: int) -> Tuple[int, int]:\n",
        "  max_width = 0\n",
        "  total_height = 0\n",
        "  for line in lines:\n",
        "      width = len(line) * width_per_char\n",
        "      max_width = max(max_width, width)\n",
        "      height = font.getsize(line)[1]\n",
        "      total_height += int(round(height * 1.4))\n",
        "  return max_width, total_height"
      ],
      "metadata": {
        "id": "8s6qVVEpkmoJ"
      },
      "execution_count": null,
      "outputs": []
    },
    {
      "cell_type": "code",
      "source": [
        "def generate_title_image(title: str, font_file: str, font_size: int, stroke_width: int, stroke_color: tuple, fill_color: tuple):\n",
        "    # 設定字型\n",
        "    font = ImageFont.truetype(font_file, font_size)\n",
        "\n",
        "    # (單行)文字寬度和高度\n",
        "    width, height = font.getsize(title)\n",
        "\n",
        "    img_title = Image.new('RGBA', (width+10, height+10), color=(255, 255, 255, 0))\n",
        "    draw_title = ImageDraw.Draw(img_title)\n",
        "    # 繪製標題\n",
        "    draw_title.text((5, 5), title, font=font, fill=fill_color, stroke_width=stroke_width, stroke_fill=stroke_color)\n",
        "    \n",
        "    # 顯示和儲存圖片\n",
        "    plt.clf()\n",
        "    plt.axis(\"off\") # 設定關閉XY軸刻尺\n",
        "    plt.imshow(img_title) # 繪製單張影像\n",
        "    # 將圖表存檔時使用緊湊的邊界框\n",
        "    plt.savefig('title.png', bbox_inches='tight', pad_inches=0.5)\n",
        "    plt.show() # 顯示影像\n",
        "\n",
        "    return img_title"
      ],
      "metadata": {
        "id": "UoecTv7_e6uZ"
      },
      "execution_count": null,
      "outputs": []
    },
    {
      "cell_type": "code",
      "source": [
        "# 名言佳句\n",
        "def generate_image_with_quotes(text: str, font_file: str, font_size: int, stroke_width: int, stroke_color: tuple, fill_color: tuple, wrap_width: int):\n",
        "    # 設定字型\n",
        "    font = ImageFont.truetype(font_file, font_size)\n",
        "    lines = wrap_text_with_newline(text, wrap_width)\n",
        "\n",
        "    width_per_char = font.getsize('安')[0]\n",
        "    max_width, total_height = get_total_size(font, lines, width_per_char)\n",
        "\n",
        "    img_quotes = Image.new('RGBA', (max_width, total_height), color=(255, 255, 255, 0))\n",
        "    draw_quotes = ImageDraw.Draw(img_quotes)\n",
        "\n",
        "    # 繪製文字\n",
        "    y = 0\n",
        "    for line in lines:\n",
        "        width, height = font.getsize(line)\n",
        "        draw_quotes.text((0, y), line, font=font, fill=fill_color, stroke_width=stroke_width, stroke_fill=stroke_color)\n",
        "        y += height + int(round(height * 0.4))\n",
        "\n",
        "    plt.axis(\"off\") # 設定關閉XY軸刻尺\n",
        "    plt.imshow(img_quotes) # 繪製單張影像\n",
        "\n",
        "    # 將圖表存檔時使用緊湊的邊界框\n",
        "    plt.savefig('quotes.png', bbox_inches='tight', pad_inches=0.8)\n",
        "\n",
        "    plt.show() # 顯示影像\n",
        "    return img_quotes"
      ],
      "metadata": {
        "id": "DRETTWG8gTVa"
      },
      "execution_count": null,
      "outputs": []
    },
    {
      "cell_type": "code",
      "source": [
        "# 讀取外部配置檔案\n",
        "config = configparser.ConfigParser()\n",
        "config.read('elder_config.ini')"
      ],
      "metadata": {
        "id": "XwWAVBSpQspF"
      },
      "execution_count": null,
      "outputs": []
    },
    {
      "cell_type": "code",
      "source": [
        "title_config = {\n",
        "    'title': \"早安\",\n",
        "    'font_file': 'Iansui0.92-Regular.ttf',\n",
        "    'font_size': 96,\n",
        "    'stroke_width': 5,\n",
        "    'stroke_color': (255, 255, 255, 255),\n",
        "    'fill_color': (64, 128, 0, 255)\n",
        "}\n",
        "img_title = generate_title_image(**title_config)"
      ],
      "metadata": {
        "id": "D6eBCbLpJkA0"
      },
      "execution_count": null,
      "outputs": []
    },
    {
      "cell_type": "code",
      "source": [
        "text = \"祝您今天有個美好的開始。\\nGood morning and have a nice day!\\n您的摯友~\\n\" + str(get_formatted_date())\n",
        "\n",
        "quotes_config = {\n",
        "    'text': text,\n",
        "    'font_file': 'Iansui0.92-Regular.ttf',\n",
        "    'font_size': 48,\n",
        "    'stroke_width': 5,\n",
        "    'stroke_color': (255, 255, 255, 255),\n",
        "    'fill_color': (0, 0, 0, 255),\n",
        "    'wrap_width': get_max_count_perline(text)\n",
        "}\n",
        "\n",
        "img_quotes = generate_image_with_quotes(**quotes_config)"
      ],
      "metadata": {
        "id": "VZ_JH-_ag3Ox"
      },
      "execution_count": null,
      "outputs": []
    },
    {
      "cell_type": "code",
      "source": [
        "# 讀取底圖\n",
        "img_bg = Image.open(\"animal.webp\").convert('RGBA')\n",
        "img_bg.paste(img_title, (30, 96), mask=img_title)\n",
        "img_bg.paste(img_quotes, (30, img_bg.height - img_quotes.height - 30), mask=img_quotes)\n",
        "\n",
        "# 儲存合成後的圖片\n",
        "img_bg.save(\"早安.png\")"
      ],
      "metadata": {
        "id": "i3Dd8PNkMmey"
      },
      "execution_count": null,
      "outputs": []
    },
    {
      "cell_type": "code",
      "source": [
        "# 使用 unsplash 圖庫\n",
        "url = 'https://api.unsplash.com/photos/random'\n",
        "params = {\n",
        "    'query': 'buddha',\n",
        "    'client_id': config.get('unsplash', 'client_id')\n",
        "}\n",
        "\n",
        "response = requests.get(url, params=params)\n",
        "\n",
        "if response.status_code == 200:\n",
        "    data = response.json()\n",
        "    image_url = data['urls']['regular']\n",
        "    image_data = requests.get(image_url).content\n",
        "\n",
        "    with open('unsplash.jpeg', 'wb') as f:\n",
        "        f.write(image_data)\n",
        "else:\n",
        "    print('Failed to get image:', response.status_code)\n",
        "\n",
        "# 讀取底圖\n",
        "img_bg = Image.open(\"unsplash.jpeg\").convert('RGBA')\n",
        "\n",
        "img_bg.paste(img_title, (30, 96), mask=img_title)\n",
        "img_bg.paste(img_quotes, (30, img_bg.height - img_quotes.height - 30), mask=img_quotes)\n",
        "\n",
        "# 儲存合成後的圖片\n",
        "img_bg.save(\"unsplash_早安.png\")"
      ],
      "metadata": {
        "id": "uAMVPrGISmnb"
      },
      "execution_count": 98,
      "outputs": []
    },
    {
      "cell_type": "code",
      "source": [
        "#DALL-E ver.1\n",
        "import requests\n",
        "import json\n",
        "from PIL import Image\n",
        "\n",
        "api_endpoint = \"https://api.openai.com/v1/images/generations\"\n",
        "api_key = config.get('openai', 'api_key')\n",
        "\n",
        "# 設定請求標頭\n",
        "headers = {\n",
        "    \"Content-Type\": \"application/json\",\n",
        "    \"Authorization\": f\"Bearer {api_key}\"\n",
        "}\n",
        "\n",
        "# 設定模型 ID 和輸入文本\n",
        "model = \"image-alpha-001\"\n",
        "prompt = \"Golden buddha statue with cherry blossom. compact baby face, Mediation and zen concept, high quality in Chinese style, full body, dynamic pose, perfect anatomy, centered, freedom, soul, approach to perfection, cell shading, 4k , cinematic dramatic atmosphere, global illumination, detailed and intricate environment, fluid and sharp focus\"\n",
        "\n",
        "# 設定請求內容\n",
        "data = {\n",
        "    \"model\": model,\n",
        "    \"prompt\": prompt,\n",
        "    \"num_images\": 1,\n",
        "    \"size\": \"1024x1024\",\n",
        "    \"response_format\": \"url\"\n",
        "}\n",
        "\n",
        "# 發送請求\n",
        "response = requests.post(api_endpoint, headers=headers, data=json.dumps(data))\n",
        "\n",
        "# 解析回傳結果\n",
        "if response.status_code == 200:\n",
        "    result = response.json()\n",
        "    image_url = result['data'][0]['url']\n",
        "    print(f\"Generated image URL: {image_url}\")\n",
        "else:\n",
        "    print(f\"Failed to generate image: {response.status_code} - {response.text}\")\n",
        "\n",
        "# 提取文本生成的圖片 URL\n",
        "print(response)\n",
        "# 下載並儲存結果圖片\n",
        "dalle = requests.get(image_url)\n",
        "with open(\"dalle.jpeg\", \"wb\") as f:\n",
        "    f.write(dalle.content)\n",
        "\n",
        "# 讀取底圖\n",
        "img_bg = Image.open(\"dalle.jpeg\").convert('RGBA')\n",
        "img_bg.paste(img_title, (30, 96), mask=img_title)\n",
        "img_bg.paste(img_quotes, (30, img_bg.height - img_quotes.height - 30), mask=img_quotes)\n",
        "\n",
        "# 儲存合成後的圖片\n",
        "img_bg.save(\"dalle_早安.png\")\n"
      ],
      "metadata": {
        "id": "FdemuHZhY-oI"
      },
      "execution_count": null,
      "outputs": []
    },
    {
      "cell_type": "code",
      "source": [
        "#DALL-E 2"
      ],
      "metadata": {
        "id": "AOeGioJ6K9LJ"
      },
      "execution_count": null,
      "outputs": []
    },
    {
      "cell_type": "code",
      "source": [
        "# 中央氣象局之當地縣縣市氣象\n",
        "def get_local_weather(location):\n",
        "    \"\"\"\n",
        "    :param location: 縣市名稱，例如 \"臺北市\"、\"新北市\"、\"高雄市\"\n",
        "    :return: 當地天氣資訊的 JSON 格式資料\n",
        "    \"\"\"\n",
        "    # API 連結\n",
        "    url = 'https://opendata.cwb.gov.tw/api/v1/rest/datastore/F-C0032-001'\n",
        "    # 臺灣各鄉鎮市區預報資料-臺灣各鄉鎮市區未來2天(逐3小時)及未來1週天氣預報\n",
        "    # https://opendata.cwb.gov.tw/api/v1/rest/datastore/F-D0047-033\n",
        "\n",
        "    # 請在下方填入您的授權碼\n",
        "    authorization = config.get('cwb', 'authorization')\n",
        "\n",
        "    # 參數設定\n",
        "    params = {\n",
        "        'locationName': location,\n",
        "        'Authorization': authorization,\n",
        "        'format': 'JSON'\n",
        "    }\n",
        "\n",
        "    try:\n",
        "        # 發送 GET 請求\n",
        "        response = requests.get(url, params=params)\n",
        "        response.raise_for_status()  # 檢查請求是否成功\n",
        "\n",
        "        # 取得 JSON 格式資料\n",
        "        weather_data = response.json()\n",
        "\n",
        "        return weather_data\n",
        "\n",
        "    except requests.exceptions.RequestException as e:\n",
        "        print('發生錯誤: ', e)\n",
        "        return None"
      ],
      "metadata": {
        "id": "9LpbjAbDUw6E"
      },
      "execution_count": null,
      "outputs": []
    },
    {
      "cell_type": "code",
      "source": [
        "# 測試範例：取得該縣市當地天氣資訊\n",
        "location = '屏東縣'\n",
        "weather_data = get_local_weather(location)\n",
        "\n",
        "# 取得屏東縣的氣象資料\n",
        "location = weather_data['records']['location'][0]\n",
        "location_name = location['locationName']\n",
        "weather_elements = location['weatherElement']\n",
        "\n",
        "# 取得氣候狀態\n",
        "wx = None\n",
        "# 取得溫度資料\n",
        "min_t = None\n",
        "max_t = None\n",
        "for element in weather_elements:\n",
        "    if element['elementName'] == 'Wx':\n",
        "        wx = element['time'][0]['parameter']['parameterName']\n",
        "    elif element['elementName'] == 'MinT':\n",
        "        min_t = element['time'][0]['parameter']['parameterName']\n",
        "    elif element['elementName'] == 'MaxT':\n",
        "        max_t = element['time'][0]['parameter']['parameterName']\n",
        "\n",
        "# 顯示氣候資料\n",
        "quote_text = f'地區名稱: {location_name}\\n氣候: {wx}\\n氣溫：{min_t}~{max_t}°C'\n",
        "\n",
        "# 印出名言(以氣象資料回報)\n",
        "quotes_config['text'] = quote_text\n",
        "quotes_config['wrap_width'] = 12\n",
        "\n",
        "img_quotes = generate_image_with_quotes(**quotes_config)"
      ],
      "metadata": {
        "id": "T4gvacZvQ41L"
      },
      "execution_count": null,
      "outputs": []
    },
    {
      "cell_type": "code",
      "source": [
        "# 有很多種的 API 服務：https://api-ninjas.com/\n",
        "# 取得名言佳句\n",
        "def get_ninjas_quote(category, api_key):\n",
        "    api_url = f\"https://api.api-ninjas.com/v1/quotes?category={category}\"\n",
        "    response = requests.get(api_url, headers={'X-Api-Key': api_key})\n",
        "    if response.status_code == requests.codes.ok:\n",
        "        data = response.json()[0]\n",
        "        quote_text = data[\"quote\"]\n",
        "        author_name = data[\"author\"]\n",
        "        return quote_text, author_name\n",
        "    else:\n",
        "        print(\"Error:\", response.status_code, response.text)\n",
        "        return None, None"
      ],
      "metadata": {
        "id": "6DB-oIXLU1yz"
      },
      "execution_count": null,
      "outputs": []
    },
    {
      "cell_type": "code",
      "source": [
        "# 設定要取得的名言佳句類別\n",
        "category = 'morning'\n",
        "api_key = config.get('ninjas', 'api_key')\n",
        "\n",
        "# 呼叫函式取得名言佳句文字和作者\n",
        "quote_text, author_name = get_ninjas_quote(category, api_key)\n",
        "\n",
        "# 印出名言\n",
        "if quote_text and author_name:\n",
        "  quotes_config['text'] = f\"{quote_text} -- {author_name}\"\n",
        "  quotes_config['wrap_width'] = 40\n",
        "  print(f\"{quote_text} -- {author_name}\")\n",
        "\n",
        "img_quotes = generate_image_with_quotes(**quotes_config)"
      ],
      "metadata": {
        "id": "QNrP468t9mbE"
      },
      "execution_count": null,
      "outputs": []
    },
    {
      "cell_type": "code",
      "source": [
        "from translate import Translator\n",
        "\n",
        "translator= Translator(to_lang=\"zh-hant\")\n",
        "\n",
        "quote_text = translator.translate(quote_text)\n",
        "\n",
        "# 顯示翻譯結果\n",
        "print(\"中文翻譯:\", quote_text)\n",
        "\n",
        "# 印出名言\n",
        "if quote_text and author_name:\n",
        "  quotes_config['text'] = f\"{quote_text} -- {author_name}\"\n",
        "  quotes_config['wrap_width'] = 20\n",
        "  print(f\"{quote_text} -- {author_name}\")\n",
        "\n",
        "img_quotes = generate_image_with_quotes(**quotes_config)"
      ],
      "metadata": {
        "id": "sJYu-OSpEFjQ"
      },
      "execution_count": null,
      "outputs": []
    },
    {
      "cell_type": "code",
      "source": [
        "# 讀取底圖\n",
        "img_bg = Image.open(\"unsplash.jpeg\").convert('RGBA')\n",
        "\n",
        "img_bg.paste(img_title, (30, 96), mask=img_title)\n",
        "img_bg.paste(img_quotes, (30, img_bg.height - img_quotes.height - 30), mask=img_quotes)\n",
        "\n",
        "# 儲存合成後的圖片\n",
        "img_bg.save(\"unsplash_早安.png\")"
      ],
      "metadata": {
        "id": "GQaA5BVAD9mF"
      },
      "execution_count": null,
      "outputs": []
    },
    {
      "cell_type": "code",
      "source": [
        "# 請求網頁\n",
        "def requestHtml(url, data=None):\n",
        "  s = requests.Session()\n",
        "  r = s.post(url, data=data)  # 使用 POST 方法\n",
        "  r.encoding = r.apparent_encoding\n",
        "  # print(r.text)\n",
        "  return etree.HTML(r.text)"
      ],
      "metadata": {
        "id": "E0kzVo9DZYCi"
      },
      "execution_count": null,
      "outputs": []
    },
    {
      "cell_type": "code",
      "source": [
        "# 孔明神數 https://pay.ncc.com.tw/s.php?word3=nccsoft&ID=ncc&p=ba_bm\n",
        "# 設定查詢的 URL\n",
        "url = 'https://pay.ncc.com.tw/s.php?word3=nccsoft&ID=ncc&p=ba_bm'\n",
        "spell = '問吉凶'\n",
        "\n",
        "# 設定 POST 方法的參數\n",
        "data = {\n",
        "    'ps' : '',\n",
        "    'chgps': '0',\n",
        "    'ShowAdd': '1',\n",
        "    '_Name': spell\n",
        "}\n",
        "\n",
        "# 發送 POST 請求\n",
        "dom = requestHtml(url, data)\n",
        "\n",
        "poem = dom.xpath(\"//p[contains(text(),'籤詩')]/text()\")[0].replace(\"籤詩: \", \"\")\n",
        "print(poem)\n",
        "# 使用正則表達式取代標點符號為空白\n",
        "poem = re.sub(r'[^\\w\\s]', ' ', poem)\n",
        "\n",
        "quotes_config['text'] = poem\n",
        "quotes_config['wrap_width'] = 8\n",
        "\n",
        "img_quotes = generate_image_with_quotes(**quotes_config)\n",
        "\n",
        "# 讀取底圖\n",
        "img_bg = Image.open(\"unsplash.jpeg\").convert('RGBA')\n",
        "\n",
        "img_bg.paste(img_title, (30, 96), mask=img_title)\n",
        "img_bg.paste(img_quotes, (30, img_bg.height - img_quotes.height - 30), mask=img_quotes)\n",
        "\n",
        "# 儲存合成後的圖片\n",
        "img_bg.save(\"unsplash_吉凶.png\")"
      ],
      "metadata": {
        "id": "y9p_U_nraqHL"
      },
      "execution_count": null,
      "outputs": []
    }
  ]
}
