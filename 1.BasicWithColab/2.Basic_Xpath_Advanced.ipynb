{
  "cells": [
    {
      "cell_type": "code",
      "execution_count": null,
      "metadata": {
        "colab": {
          "base_uri": "https://localhost:8080/"
        },
        "id": "Qx2-x52Jukta",
        "outputId": "c7cbe05e-4e65-43b3-9b02-8431077402ab"
      },
      "outputs": [
        {
          "name": "stdout",
          "output_type": "stream",
          "text": [
            "Requirement already satisfied: requests in /usr/local/lib/python3.7/dist-packages (2.23.0)\n",
            "Requirement already satisfied: urllib3!=1.25.0,!=1.25.1,<1.26,>=1.21.1 in /usr/local/lib/python3.7/dist-packages (from requests) (1.24.3)\n",
            "Requirement already satisfied: idna<3,>=2.5 in /usr/local/lib/python3.7/dist-packages (from requests) (2.10)\n",
            "Requirement already satisfied: certifi>=2017.4.17 in /usr/local/lib/python3.7/dist-packages (from requests) (2021.10.8)\n",
            "Requirement already satisfied: chardet<4,>=3.0.2 in /usr/local/lib/python3.7/dist-packages (from requests) (3.0.4)\n"
          ]
        }
      ],
      "source": [
        "#安裝相關函式庫\n",
        "#!pip install requests"
      ]
    },
    {
      "cell_type": "code",
      "execution_count": null,
      "metadata": {
        "id": "ik4lks-CvyhA"
      },
      "outputs": [],
      "source": [
        "import requests\n",
        "import ssl\n",
        "from urllib3 import poolmanager\n",
        "from lxml import etree\n"
      ]
    },
    {
      "cell_type": "code",
      "execution_count": null,
      "metadata": {
        "id": "B5H5veQTEdOD"
      },
      "outputs": [],
      "source": [
        "class TLSAdapter(requests.adapters.HTTPAdapter):\n",
        "\n",
        "    def init_poolmanager(self, connections, maxsize, block=False):\n",
        "        \"\"\"Create and initialize the urllib3 PoolManager.\"\"\"\n",
        "        ctx = ssl.create_default_context()\n",
        "        ctx.set_ciphers('DEFAULT@SECLEVEL=1')\n",
        "        self.poolmanager = poolmanager.PoolManager(\n",
        "                num_pools=connections,\n",
        "                maxsize=maxsize,\n",
        "                block=block,\n",
        "                ssl_version=ssl.PROTOCOL_TLS,\n",
        "                ssl_context=ctx)"
      ]
    },
    {
      "cell_type": "code",
      "execution_count": null,
      "metadata": {
        "id": "A7uNjPcyyBnr"
      },
      "outputs": [],
      "source": [
        "#可以從瀏覽器的開發者工具取得 request 的 header 資訊\n",
        "headers_Get = {\n",
        "        'User-Agent': 'Mozilla/5.0 (Macintosh; Intel Mac OS X 10_15_7) AppleWebKit/537.36 (KHTML, like Gecko) Chrome/100.0.4896.75 Safari/537.36'\n",
        "    }"
      ]
    },
    {
      "cell_type": "code",
      "execution_count": null,
      "metadata": {
        "id": "1ypo36eCxHkC"
      },
      "outputs": [],
      "source": [
        "#請求網頁\n",
        "def requestHtml(url):\n",
        "  s = requests.Session()\n",
        "  #s.mount('https://', TLSAdapter())\n",
        "  r = s.get(url, headers=headers_Get)\n",
        "  #r = s.get(url)\n",
        "  #r.encoding = r.apparent_encoding\n",
        "  #print(r.text)\n",
        "  return etree.HTML(r.text)"
      ]
    },
    {
      "cell_type": "code",
      "execution_count": null,
      "metadata": {
        "colab": {
          "base_uri": "https://localhost:8080/"
        },
        "id": "mpf_p7toxk8w",
        "outputId": "0fdf9ea7-533b-4440-bd17-f66796fea44d"
      },
      "outputs": [
        {
          "name": "stdout",
          "output_type": "stream",
          "text": [
            "['https://news.ltn.com.tw/news/world/breakingnews/3893762', 'https://news.ltn.com.tw/news/world/breakingnews/3893798', 'https://news.ltn.com.tw/news/world/breakingnews/3893838', 'https://news.ltn.com.tw/news/world/paper/1511675', 'https://news.ltn.com.tw/news/world/paper/1511672', 'https://news.ltn.com.tw/news/world/paper/1511673', 'https://news.ltn.com.tw/news/world/paper/1511670', 'https://news.ltn.com.tw/news/world/paper/1511676', 'https://news.ltn.com.tw/news/world/paper/1511719', 'https://news.ltn.com.tw/news/world/paper/1511671', 'https://news.ltn.com.tw/news/world/paper/1511674', 'https://news.ltn.com.tw/news/world/paper/1511669', 'https://news.ltn.com.tw/news/world/breakingnews/3893880', 'https://news.ltn.com.tw/news/world/breakingnews/3893877', 'https://news.ltn.com.tw/news/world/breakingnews/3893876', 'https://news.ltn.com.tw/news/world/breakingnews/3893873', 'https://news.ltn.com.tw/news/world/breakingnews/3893872', 'https://news.ltn.com.tw/news/world/breakingnews/3893869', 'https://news.ltn.com.tw/news/world/breakingnews/3893847', 'https://news.ltn.com.tw/news/world/breakingnews/3893759']\n",
            "['軍情動態》「莫斯科號」收驚文？俄官媒：新護衛艦開始海試', '韭菜不忍了！ 上海居民突破封鎖上街抗議 與警方爆發衝突！', '普廷堅持5/9取勝 《彭博》：俄軍恐在烏克蘭再次慘敗', '日撤銷對俄最惠國待遇', '「大翻譯運動」揭親俄言論 中國惱怒', '俄又核威脅芬瑞 立陶宛譏沒新意', '美歐增加軍援 拜登加碼情資分享', '烏俄戰事威脅窮國 世界陷「三度空間危機」', '中英對照讀新聞》Asia Welcomes Travelers, but Japan Says, Not Yet 亞洲各國歡迎遊客，但日本說還沒', '馬克宏稱烏俄「兄弟」拒指控俄種族滅絕', '美財長警告援俄後果 特別點名中國', '俄莫斯科號爆炸 全員棄艦', '台灣尚未收到WHA邀請函 美國務院挺有意義參與\\r', '俄羅斯黑海艦隊旗艦爆炸起火 俄國防部證實船沉沒\\r', '英國第2所台灣華語文中心揭牌 力推多元學習環境\\r', '熱帶風暴梅姬襲菲律賓 增至148死、逾百人仍失蹤\\r', '南非暴雨釀洪災增至341死 當局擴大搜救生還者\\r', '俄軍艦莫斯科號起火 美方認為船沒沉但火未滅\\r', '俄警告勿加入北約  芬蘭外長霸氣回嗆：已為各種威脅做好準備', '真狂！ 中國長髮女露乳脫褲任擺佈 「育才花園」當街激戰']\n"
          ]
        }
      ],
      "source": [
        "url = 'https://news.ltn.com.tw/list/breakingnews/world'\n",
        "dom = requestHtml(url)\n",
        "\n",
        "#取得父(祖)層屬性的3種寫法\n",
        "links = dom.xpath('//a[.//h3[@class=\"title\"]]/@href')\n",
        "#links = dom.xpath('//h3[@class=\"title\"]/parent::*/parent::a[@class=\"tit\"]/@href')\n",
        "#links = dom.xpath('//h3[@class=\"title\"]/ancestor::a[@class=\"tit\"]/@href')\n",
        "titles = dom.xpath('//h3[@class=\"title\"]/text()')\n",
        "print(links)\n",
        "print(titles)"
      ]
    },
    {
      "cell_type": "code",
      "execution_count": null,
      "metadata": {
        "colab": {
          "base_uri": "https://localhost:8080/"
        },
        "id": "5558U0y6OV0F",
        "outputId": "b43ddc0c-b1fa-44aa-c610-ccfdf305def0"
      },
      "outputs": [
        {
          "name": "stdout",
          "output_type": "stream",
          "text": [
            "['https://www.books.com.tw/products/0010921963?loc=P_0003_001', 'https://www.books.com.tw/products/0010921238?loc=P_0003_002', 'https://www.books.com.tw/products/0010921319?loc=P_0003_003', 'https://www.books.com.tw/products/0010921174?loc=P_0003_004', 'https://www.books.com.tw/products/0010921853?loc=P_0003_005', 'https://www.books.com.tw/products/0010919448?loc=P_0003_006', 'https://www.books.com.tw/products/0010920290?loc=P_0003_007', 'https://www.books.com.tw/products/0010918221?loc=P_0003_008', 'https://www.books.com.tw/products/0010918278?loc=P_0003_009', 'https://www.books.com.tw/products/0010918281?loc=P_0003_010', 'https://www.books.com.tw/products/0010918734?loc=P_0003_011', 'https://www.books.com.tw/products/0010917074?loc=P_0003_012', 'https://www.books.com.tw/products/0010918048?loc=P_0003_013', 'https://www.books.com.tw/products/0010917818?loc=P_0003_014', 'https://www.books.com.tw/products/0010915193?loc=P_0003_015', 'https://www.books.com.tw/products/0010916318?loc=P_0003_016', 'https://www.books.com.tw/products/0010915647?loc=P_0003_017', 'https://www.books.com.tw/products/0010915645?loc=P_0003_018', 'https://www.books.com.tw/products/0010913469?loc=P_0003_019', 'https://www.books.com.tw/products/0010913521?loc=P_0003_020', 'https://www.books.com.tw/products/0010913397?loc=P_0003_021', 'https://www.books.com.tw/products/0010911798?loc=P_0003_022', 'https://www.books.com.tw/products/0010911296?loc=P_0003_023', 'https://www.books.com.tw/products/0010910226?loc=P_0003_024', 'https://www.books.com.tw/products/0010911144?loc=P_0003_025', 'https://www.books.com.tw/products/0010909769?loc=P_0003_026', 'https://www.books.com.tw/products/0010907730?loc=P_0003_027', 'https://www.books.com.tw/products/0010907562?loc=P_0003_028', 'https://www.books.com.tw/products/0010907706?loc=P_0003_029', 'https://www.books.com.tw/products/0010907137?loc=P_0003_030', 'https://www.books.com.tw/products/0010907306?loc=P_0003_031', 'https://www.books.com.tw/products/0010905287?loc=P_0003_032', 'https://www.books.com.tw/products/0010907530?loc=P_0003_033', 'https://www.books.com.tw/products/0010905601?loc=P_0003_034', 'https://www.books.com.tw/products/0010904826?loc=P_0003_035', 'https://www.books.com.tw/products/0010904836?loc=P_0003_036', 'https://www.books.com.tw/products/0010904842?loc=P_0003_037', 'https://www.books.com.tw/products/0010903630?loc=P_0003_038', 'https://www.books.com.tw/products/0010903622?loc=P_0003_039', 'https://www.books.com.tw/products/0010901966?loc=P_0003_040', 'https://www.books.com.tw/products/0010901055?loc=P_0003_041', 'https://www.books.com.tw/products/0010901417?loc=P_0003_042', 'https://www.books.com.tw/products/0010901691?loc=P_0003_043', 'https://www.books.com.tw/products/0010900123?loc=P_0003_044', 'https://www.books.com.tw/products/0010898997?loc=P_0003_045', 'https://www.books.com.tw/products/0010899137?loc=P_0003_046', 'https://www.books.com.tw/products/0010897878?loc=P_0003_047', 'https://www.books.com.tw/products/0010897478?loc=P_0003_048', 'https://www.books.com.tw/products/0010898976?loc=P_0003_049', 'https://www.books.com.tw/products/0010899250?loc=P_0003_050', 'https://www.books.com.tw/products/0010896119?loc=P_0003_051', 'https://www.books.com.tw/products/0010898740?loc=P_0003_052', 'https://www.books.com.tw/products/0010898739?loc=P_0003_053', 'https://www.books.com.tw/products/0010898748?loc=P_0003_054', 'https://www.books.com.tw/products/0010898741?loc=P_0003_055', 'https://www.books.com.tw/products/0010898077?loc=P_0003_056', 'https://www.books.com.tw/products/0010898747?loc=P_0003_057', 'https://www.books.com.tw/products/0010894475?loc=P_0003_058', 'https://www.books.com.tw/products/0010893984?loc=P_0003_059', 'https://www.books.com.tw/products/0010893222?loc=P_0003_060', 'https://www.books.com.tw/products/0010892793?loc=P_0003_061', 'https://www.books.com.tw/products/0010895294?loc=P_0003_062', 'https://www.books.com.tw/products/0010893158?loc=P_0003_063', 'https://www.books.com.tw/products/0010892830?loc=P_0003_064', 'https://www.books.com.tw/products/0010891535?loc=P_0003_065', 'https://www.books.com.tw/products/0010891529?loc=P_0003_066', 'https://www.books.com.tw/products/0010890719?loc=P_0003_067', 'https://www.books.com.tw/products/0010890798?loc=P_0003_068', 'https://www.books.com.tw/products/0010890905?loc=P_0003_069', 'https://www.books.com.tw/products/0010890608?loc=P_0003_070', 'https://www.books.com.tw/products/0010890894?loc=P_0003_071', 'https://www.books.com.tw/products/0010888344?loc=P_0003_072', 'https://www.books.com.tw/products/0010888544?loc=P_0003_073', 'https://www.books.com.tw/products/0010888450?loc=P_0003_074', 'https://www.books.com.tw/products/0010887759?loc=P_0003_075', 'https://www.books.com.tw/products/0010886296?loc=P_0003_076', 'https://www.books.com.tw/products/0010886969?loc=P_0003_077', 'https://www.books.com.tw/products/0010885781?loc=P_0003_078', 'https://www.books.com.tw/products/0010886129?loc=P_0003_079', 'https://www.books.com.tw/products/0010885945?loc=P_0003_080', 'https://www.books.com.tw/products/0010883417?loc=P_0003_081', 'https://www.books.com.tw/products/0010883491?loc=P_0003_082', 'https://www.books.com.tw/products/0010882877?loc=P_0003_083', 'https://www.books.com.tw/products/0010881844?loc=P_0003_084', 'https://www.books.com.tw/products/0010882172?loc=P_0003_085', 'https://www.books.com.tw/products/0010881286?loc=P_0003_086', 'https://www.books.com.tw/products/0010880636?loc=P_0003_087', 'https://www.books.com.tw/products/0010880354?loc=P_0003_088', 'https://www.books.com.tw/products/0010878764?loc=P_0003_089', 'https://www.books.com.tw/products/0010880194?loc=P_0003_090', 'https://www.books.com.tw/products/0010879493?loc=P_0003_091', 'https://www.books.com.tw/products/0010878398?loc=P_0003_092', 'https://www.books.com.tw/products/0010878336?loc=P_0003_093', 'https://www.books.com.tw/products/0010878528?loc=P_0003_094', 'https://www.books.com.tw/products/0010876490?loc=P_0003_095', 'https://www.books.com.tw/products/0010877787?loc=P_0003_096', 'https://www.books.com.tw/products/0010875789?loc=P_0003_097', 'https://www.books.com.tw/products/0010875598?loc=P_0003_098', 'https://www.books.com.tw/products/0010874732?loc=P_0003_099', 'https://www.books.com.tw/products/0010874222?loc=P_0003_100']\n",
            "['寫給中學生看的AI課：AI生態系需要文理兼具的未來人才', '不再理論化：聯邦學習親自動手工程專案實作', 'Google翻譯實作：機器翻譯NLP基礎及模型親手打造', '金融機器學習與資料科學藍圖', '人工智慧應用在我家 - 使用KNERON AI Dongle(耐能AI加速棒) - 附MOSME行動學習一點通：診斷.評量.影音.擴增.加值', '大數據驅動商業決策：13 個 RapidMiner 商業預測操作實務', 'Galileo圖解AI套書：基礎篇+工作篇 (共兩冊)', '統計之美：人工智慧時代的科學思維', '打好AI的基礎：一探機器學習底層數學運作', '全中文自然語言處理：Pre-Trained Model方法最新實戰', '深度學習：邁向Meta Learning', 'Flag’s 創客‧自造者工作坊 用 AI 影像辨識學機器學習', '元宇宙技術革新關鍵：AI 人工智慧如何成就新一波未來趨勢', 'TensorFlow.js學習手冊', '超圖解 AI與未來社會：建立數位時代的科技素養，強化邏輯力×創造力×思考力', '新一代AI霸主：深度強化學習從基礎開始到專案開發', '銷售 AI 化!看資料科學家如何思考, 用 Python 打造能賺錢的機器學習模型', '集成式學習：Python 實踐!整合全部技術，打造最強模型', '機器學習演算法動手硬幹：用PyTorch+Jupyter最佳組合達成', 'NLP大神RNN網路：Python原始程式碼手把手帶你寫', '打下最紮實AI基礎不依賴套件：手刻機器學習神經網路穩健前進', '我是賽伯格--彼得2.0：從漸凍進化到終極自由，全球首位完整半機器人回憶錄', 'AutoML 自動化機器學習：用 AutoKeras 超輕鬆打造高效能 AI 模型', 'AI硬體專屬晶片：最新技術未來創新發展', '最新人工智慧概論 - 含AIL 國際認證Specialist、Expert Levels - 最新版(第二版) - 附MOSME行動學習一點通：診斷', '量子電腦應用與世界級競賽實務-社會用書(一品)', '人工智慧再進化：聯邦學習讓資料更安全穩固', 'Intel大師帶你架設AI底層：持久記憶體架構服務實作', '超越多顯卡多機器：分散式機器學習超速實戰', '機器學習的統計基礎：深度學習背後的核心技術', 'Knock Knock!Deep Learning：新手入門深度學習的敲門磚(iT邦幫忙鐵人賽系列書)', '資料科學的統計實務：探索資料本質、扎實解讀數據，才是機器學習成功建模的第一步', '用Google玩人工智慧實驗：Google AI Experiments探索 - 含ITC資通訊認證Basic Artificial Intelligence AI人工智慧入門 - 附MOSME行動學習一點通：診斷', '網站最佳化實務|運用機器學習改善網站，提升使用者體驗', '實戰資料流架構：用Apache Flink建立永續高性能服務', '最新機器學習的教科書', 'AI影像深度學習啟蒙：用python進行人臉口罩識別', '數據與人性：當代數據藝術先鋒最深刻的第一手觀察，探索科學、人文、藝術交織的資訊大未來', '零時差攻擊：一秒癱瘓世界!《紐約時報》記者追蹤7年、訪問逾300位關鍵人物，揭露21世紀數位軍火地下產業鏈的暗黑真相', '生成對抗網路最精解：用TensorFlow實作最棒的GAN應用', '深度學習的16堂課：CNN + RNN + GAN + DQN + DRL，看得懂、學得會、做得出!', '機器學習：彩色圖解+基礎微積分+Python實作 王者歸來(第三版) (全彩印刷)', '行銷人員的AI百寶盒', 'Python資料科學與機器學習：從入門到實作必備攻略', '深度學習 最佳入門邁向AI專題實戰', '深度學習實務應用|雲端、行動與邊緣裝置', '圖解AI與深度學習的運作機制', '自學機器學習：上Kaggle接軌世界，成為資料科學家', 'AIoT數位轉型在中小製造企業的實踐', 'AI人工智慧導論', '核心開發者親授!PyTorch深度學習攻略', 'AI人工智慧導論實驗', 'AI智慧交通理論與實踐', 'AI智慧農業：智慧時代的農業生產方式變革', 'AI智慧城市建設與實踐', '新星世：即將到來的超智能時代', 'AI智慧客戶服務技術與應用', '初學Jetson Nano不說No：CAVEDU教你一次懂', '機器學習：彩色圖解 + 基礎微積分 + Python實作 王者歸來(第二版)', '超圖解資料科學 ✕ 機器學習實戰探索：使用 Python', '資料科學的建模基礎：別急著coding!你知道模型的陷阱嗎?', '人工智慧：素養及未來趨勢', '人工智慧大現場 實用篇：35天從入門到完成專案', '機器學習設計模式', '500個必問題：深度學習AI頂尖企業面試實況', '從來沒有這麼明白過：TensorFlow 上車就學會', '機器學習：彩色圖解 + 基礎數學篇 + Python實作 王者歸來(第二版)', '電腦與人腦：現代電腦架構之父馮紐曼的腦科學講義', '打造機器學習應用|從構想邁向產品', '從程式員到AI專家|寫給程式員的人工智慧與機器學習指南', 'Reinforcement Learning中文版|強化學習深度解析', '別再mnist了：跨平台高平行TensorFlow 2精彩上陣', '最踏實AI之路：全白話機器學習一次搞懂', 'Kaggle大師教您用Python玩資料科學，比賽拿獎金', 'Deep Learning 3：用Python進行深度學習框架的開發實作', '深度強化式學習', '人工智慧：8堂一點就通的基礎活用課', '最新AI技術：知識圖譜集技術概念大成', '寫給程式設計師的深度學習：使用fastai和PyTorch', '資通訊與AI應用', 'Kaggle 競賽攻頂秘笈 - 揭開 Grandmaster 的特徵工程心法，掌握制勝的關鍵技術', '精實AI：新創企業如何運用人工智慧獲得成長', '輕鬆學會Google TensorFlow 2：人工智慧深度學習實作開發(第三版)', '強化式學習：打造最強 AlphaZero 通用演算法', '機器學習：彩色圖解 + 基礎微積分 + Python實作 王者歸來(全彩)', 'AI黃金時期正好學：TensorFlow 2高手有備而來', 'AI手機APP、智慧硬體專案實作：使用TensorFlow Lite(iOS/Android/RPi適用)', '智慧新世界：圖靈所沒有預料到的人工智慧', '向AI贏家學習!：日本26家頂尖企業最強「深度學習」活用術，人工智慧創新專案致勝的關鍵思維', '自然語言處理最佳實務：全面建構真正的NLP系統', '零基礎入門的機器學習圖鑑：2大類機器學習╳ 17種演算法 ╳ Python基礎教學，讓你輕鬆學以致用', 'AI Application in Fashion Trend(英文版)', '行動裝置深度學習', '工業4.0預兆診斷分析與應用：使用ADLINK預測分析系統MCM-100與Azure雲端服務 最新版', '金融人才×機器學習聯手出擊：專為FinTech領域打造的機器學習指南', '用TensorFlow玩轉大數據與量化交易(第二版)', '深度學習：演算法工程師帶你去面試--28個矽谷AI大師教你100大深度學習問題(全彩印刷)', '預測之美：機器學習及深度學習真實生活應用', '圖解量子電腦入門：8堂基礎課程+必懂關鍵詞解說，從計算原理到實務應用、通訊到演算，破解讓人類大躍進的科技新浪潮', '人工智能：看圖解成為AI高手']\n"
          ]
        }
      ],
      "source": [
        "#博客來\n",
        "url = 'https://www.books.com.tw/web/sys_bbotm/books/190102/'\n",
        "dom = requestHtml(url)\n",
        "\n",
        "links = dom.xpath('//h4/a/@href')\n",
        "titles = dom.xpath('//h4/a/text()')\n",
        "print(links)\n",
        "print(titles)"
      ]
    },
    {
      "cell_type": "code",
      "execution_count": null,
      "metadata": {
        "colab": {
          "base_uri": "https://localhost:8080/"
        },
        "id": "uMBeuYKlyphW",
        "outputId": "bcfeabaa-b75f-4721-9ea9-e42376a45c1f"
      },
      "outputs": [
        {
          "name": "stdout",
          "output_type": "stream",
          "text": [
            "[]\n"
          ]
        }
      ],
      "source": [
        "#疑似該站的 robots.txt 描述裡禁止爬蟲，如果 header 資訊都用上了仍沒用，就只能用 Selenium \n",
        "#見 https://www.mobile01.com/robots.txt\n",
        "\n",
        "url = 'https://www.mobile01.com/marketcommoditylist.php?f=383'\n",
        "dom = requestHtml(url)\n",
        "\n",
        "titles = dom.xpath('//div[@class=\"l-articleCardDesc\"]/text()')\n",
        "\n",
        "print(titles)"
      ]
    },
    {
      "cell_type": "code",
      "execution_count": null,
      "metadata": {
        "colab": {
          "base_uri": "https://localhost:8080/"
        },
        "id": "VACnTy53OgyA",
        "outputId": "300d2590-3f0f-4625-d88a-3e4c08692858"
      },
      "outputs": [
        {
          "name": "stdout",
          "output_type": "stream",
          "text": [
            "['\\n小黃瓜炒麵腸 / 家常菜\\n', '\\n福菜炒山蘇 家常菜客家菜\\n', '\\n家常乾拌麵\\n', '\\n雪白菇番茄炒蛋\\n', '\\n素食水餃\\n', '\\n素干貝佐海苔醬\\n', '\\n純素西湯篇｜純素粟米濃湯 (附影片)\\n', '\\n三杯豆腐\\n', '\\n千層鹹烙餅(純素)\\n', '\\n三杯杏鮑菇\\n', '\\n起司素肉排\\n', '\\n素食～章魚小丸子\\n', '\\n紅龜粿（糯米粉）\\n', '\\n肉桂烤蘋果｜素食無蛋奶甜點\\n', '\\n南瓜高麗菜沙拉\\n', '\\n番茄天貝炒米麵｜15分鐘無麩素食\\n', '\\n青椒高麗菜\\n', '\\n高麗菜抱蛋\\n']\n"
          ]
        }
      ],
      "source": [
        "#要注意該站的 request header 的資訊要正確\n",
        "\n",
        "url = 'https://icook.tw/categories/28'\n",
        "dom = requestHtml(url)\n",
        "\n",
        "titles = dom.xpath('//h2[@class=\"browse-recipe-name\"]/text()')\n",
        "\n",
        "print(titles)"
      ]
    },
    {
      "cell_type": "code",
      "execution_count": null,
      "metadata": {
        "colab": {
          "base_uri": "https://localhost:8080/"
        },
        "id": "KbafXlxbPcS2",
        "outputId": "6c122468-cb56-4eb4-de08-e953235bb738"
      },
      "outputs": [
        {
          "name": "stdout",
          "output_type": "stream",
          "text": [
            "['/News/Detail/{id}']\n",
            "['{subject}']\n"
          ]
        }
      ],
      "source": [
        "#田邊好幫手的網站機制造成無法取得列表，只能用 Selenium\n",
        "\n",
        "url = 'https://m.coa.gov.tw/News/Index?Category=2'\n",
        "dom = requestHtml(url)\n",
        "\n",
        "links = dom.xpath('//td/a[@class=\"btn-detail\"]/@href')\n",
        "titles = dom.xpath('//td/a[@class=\"btn-detail\"]/text()')\n",
        "\n",
        "print(links)\n",
        "print(titles)"
      ]
    },
    {
      "cell_type": "code",
      "execution_count": null,
      "metadata": {
        "colab": {
          "base_uri": "https://localhost:8080/"
        },
        "id": "QFZvut_YQ1OP",
        "outputId": "e2570ee9-6289-45c4-bcf1-3f65bd58b3ab"
      },
      "outputs": [
        {
          "name": "stdout",
          "output_type": "stream",
          "text": [
            "['./articles/CBMiN2h0dHBzOi8vbmV3cy5sdG4uY29tLnR3L25ld3Mvd29ybGQvYnJlYWtpbmduZXdzLzM4OTM3OTjSATtodHRwczovL25ld3MubHRuLmNvbS50dy9hbXAvbmV3cy93b3JsZC9icmVha2luZ25ld3MvMzg5Mzc5OA?hl=zh-TW&gl=TW&ceid=TW%3Azh-Hant', './articles/CBMiMmh0dHBzOi8vZWMubHRuLmNvbS50dy9hcnRpY2xlL2JyZWFraW5nbmV3cy8zODkzNTkx0gE2aHR0cHM6Ly9lYy5sdG4uY29tLnR3L2FtcC9hcnRpY2xlL2JyZWFraW5nbmV3cy8zODkzNTkx?hl=zh-TW&gl=TW&ceid=TW%3Azh-Hant', './articles/CBMi3gFodHRwczovL3R3Lm5ld3MueWFob28uY29tLyVFNyU4MyU4RiVFOCVCQiU4RCVFNSVCMCU4NCVFNiVCNSVCNyVFNyU4RSU4QiVFNiU5OCU5RiVFNSU4RiU4RCVFOCU4OSVBNiVFOSVBMyU5QiVFNSVCRCU4OC0lRTklODclOEQlRTUlODklQjUlRTQlQkYlODQlRTUlOUMlQTglRTklQkIlOTElRTYlQjUlQjclRTYlOUMlODAlRTUlQTQlQTclRTYlODglQjAlRTglODklQTYtMTI0OTMwNTI0Lmh0bWzSAeYBaHR0cHM6Ly90dy5uZXdzLnlhaG9vLmNvbS9hbXBodG1sLyVFNyU4MyU4RiVFOCVCQiU4RCVFNSVCMCU4NCVFNiVCNSVCNyVFNyU4RSU4QiVFNiU5OCU5RiVFNSU4RiU4RCVFOCU4OSVBNiVFOSVBMyU5QiVFNSVCRCU4OC0lRTklODclOEQlRTUlODklQjUlRTQlQkYlODQlRTUlOUMlQTglRTklQkIlOTElRTYlQjUlQjclRTYlOUMlODAlRTUlQTQlQTclRTYlODglQjAlRTglODklQTYtMTI0OTMwNTI0Lmh0bWw?hl=zh-TW&gl=TW&ceid=TW%3Azh-Hant', './articles/CBMiswFodHRwczovL3R3Lm5ld3MueWFob28uY29tLyVFNyVCRSU4RSVFNSU4RiU4MyVFNyU5QyVCRSVFOCVBRCVCMCVFNSU5MyVBMSVFNCVCQiU4QSVFOCVBOCVBQSVFNSU4RiVCMC02JUU0JUJEJThEJUU1JUE0JUE3JUU1JTkyJTk2JUU4JTgzJThDJUU2JTk5JUFGLSVFNiVBQyVBMSVFNyU5QyU4Qi0xMjI3Mjc5NzMuaHRtbNIBAA?hl=zh-TW&gl=TW&ceid=TW%3Azh-Hant', './articles/CBMiN2h0dHBzOi8vbmV3cy5sdG4uY29tLnR3L25ld3Mvd29ybGQvYnJlYWtpbmduZXdzLzM4OTI3NTXSATtodHRwczovL25ld3MubHRuLmNvbS50dy9hbXAvbmV3cy93b3JsZC9icmVha2luZ25ld3MvMzg5Mjc1NQ?hl=zh-TW&gl=TW&ceid=TW%3Azh-Hant', './articles/CBMi9wFodHRwczovL3R3Lm5ld3MueWFob28uY29tLyVFOSVBQiU5OCVFOSU5QiU4NCVFNSVBMiU5RS00MC0lRTQlQkUlOEIlRTYlOTYlQjAlRTUlODYlQTAlRTglODIlQkElRTclODIlOEUlRTclQTIlQkElRTglQTglQkEtJUU3JUI0JUFGJUU4JUE4JTg4LTUtJUU0JUJFJThCJUU5JTk4JUJGJUU1JUE2JUI5JUU2JUJDJTk0JUU1JTk0JUIxJUU2JTlDJTgzJUU4JUExJThEJUU3JTk0JTlGJUU1JTgwJThCJUU2JUExJTg4LTA4NDMwMzU1Ny5odG1s0gH_AWh0dHBzOi8vdHcubmV3cy55YWhvby5jb20vYW1waHRtbC8lRTklQUIlOTglRTklOUIlODQlRTUlQTIlOUUtNDAtJUU0JUJFJThCJUU2JTk2JUIwJUU1JTg2JUEwJUU4JTgyJUJBJUU3JTgyJThFJUU3JUEyJUJBJUU4JUE4JUJBLSVFNyVCNCVBRiVFOCVBOCU4OC01LSVFNCVCRSU4QiVFOSU5OCVCRiVFNSVBNiVCOSVFNiVCQyU5NCVFNSU5NCVCMSVFNiU5QyU4MyVFOCVBMSU4RCVFNyU5NCU5RiVFNSU4MCU4QiVFNiVBMSU4OC0wODQzMDM1NTcuaHRtbA?hl=zh-TW&gl=TW&ceid=TW%3Azh-Hant']\n",
            "['韭菜不忍了！ 上海居民突破封鎖上街抗議 與警方爆發衝突！', '保護力太差被嫌！中國疫苗外交崩盤 出口秒減95％', '烏軍射海王星反艦飛彈 重創俄在黑海最大戰艦', '美參眾議員今訪台6位大咖背景一次看', '馬克宏說烏俄是兄弟 烏外交部：真正的兄弟不會姦淫擄掠', '高雄增40例新冠肺炎確診 累計5例阿妹演唱會衍生個案簡訊通知逾900人採檢']\n"
          ]
        }
      ],
      "source": [
        "#Google 新聞取得的網址是中繼網址，連到各站的新聞內頁時，內容格式各站皆不同，接下來將導致無法正確爬取內容頁\n",
        "url = 'https://news.google.com/topstories?hl=zh-TW&gl=TW&ceid=TW:zh-Hant'\n",
        "dom = requestHtml(url)\n",
        "\n",
        "links = dom.xpath('//h3/a[@class=\"DY5T1d RZIKme\"]/@href')\n",
        "titles = dom.xpath('//h3/a[@class=\"DY5T1d RZIKme\"]/text()')\n",
        "\n",
        "print(links)\n",
        "print(titles)"
      ]
    },
    {
      "cell_type": "code",
      "execution_count": null,
      "metadata": {
        "colab": {
          "base_uri": "https://localhost:8080/"
        },
        "id": "XgJ7cG0VSOI1",
        "outputId": "017d3b02-7116-453f-eedd-42a429832a96"
      },
      "outputs": [
        {
          "name": "stdout",
          "output_type": "stream",
          "text": [
            "['https://news.ltn.com.tw/news/world/breakingnews/3892829', 'https://news.ltn.com.tw/news/world/breakingnews/3892189', 'https://news.ltn.com.tw/news/world/breakingnews/3892625', 'https://news.ltn.com.tw/news/world/breakingnews/3892607', 'https://ec.ltn.com.tw/article/breakingnews/3893662', 'https://news.ltn.com.tw/news/world/breakingnews/3892538', 'https://news.ltn.com.tw/news/world/breakingnews/3893493', 'https://news.ltn.com.tw/news/world/breakingnews/3892596', 'https://news.ltn.com.tw/news/world/breakingnews/3892505', 'https://news.ltn.com.tw/news/world/breakingnews/3890862']\n",
            "['德前總統籲「放棄舒適」挺烏克蘭過半數德國人不買單 - 自由時報', '通話曝光！ 俄軍強姦烏克蘭女性頻傳老婆還提醒「記得戴套」', '烏克蘭稱2枚飛彈擊中「莫斯科號」 俄軍證實船艦嚴重受損', '烏克蘭再傳戰果「海王星飛彈」擊中俄軍艦「莫斯科號」 - 國際', '抗俄開銷澤倫斯基：烏克蘭每月要燒掉2千億 - 自由財經', '烏東大戰一觸即發！ 歐盟火力支援烏克蘭週三再批准158億', '烏克蘭2飛官獲釋情報局局長親自接見 - 自由時報', '拜登加碼8億美元軍援挺烏克蘭首度提供榴彈砲 - 自由時報', '決戰烏東！衛星目擊「200戰車包圍頓巴斯」 烏克蘭2招布陣嚴守', '這哪招？ 烏克蘭情報︰俄國將在自己領土上發動「恐怖攻擊」']\n"
          ]
        }
      ],
      "source": [
        "#限定搜尋結果(指定網站)\n",
        "url = 'https://www.google.com/search?q=%E7%83%8F%E5%85%8B%E8%98%AD+site%3Altn.com.tw&oq=%E7%83%8F%E5%85%8B%E8%98%AD+site%3Altn.com.tw&aqs=chrome..69i57.9993j0j4&sourceid=chrome&ie=UTF-8'\n",
        "dom = requestHtml(url)\n",
        "\n",
        "links = dom.xpath('//h3/parent::a/@href')\n",
        "titles = dom.xpath('//h3/text()')\n",
        "\n",
        "print(links)\n",
        "print(titles)"
      ]
    },
    {
      "cell_type": "code",
      "execution_count": null,
      "metadata": {
        "id": "S5IaJjW-VbsI"
      },
      "outputs": [],
      "source": []
    }
  ],
  "metadata": {
    "colab": {
      "collapsed_sections": [],
      "name": "2.Basic-Xpath-測試各站.ipynb",
      "provenance": []
    },
    "kernelspec": {
      "display_name": "Python 3",
      "name": "python3"
    },
    "language_info": {
      "name": "python"
    }
  },
  "nbformat": 4,
  "nbformat_minor": 0
}
