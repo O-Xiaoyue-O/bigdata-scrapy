{
  "nbformat": 4,
  "nbformat_minor": 0,
  "metadata": {
    "colab": {
      "provenance": []
    },
    "kernelspec": {
      "name": "python3",
      "display_name": "Python 3"
    },
    "language_info": {
      "name": "python"
    }
  },
  "cells": [
    {
      "cell_type": "code",
      "execution_count": 1,
      "metadata": {
        "colab": {
          "base_uri": "https://localhost:8080/"
        },
        "id": "lxgt6PqI75uS",
        "outputId": "5cddad56-5b5e-4df7-b959-9f7eeb1fda36"
      },
      "outputs": [
        {
          "output_type": "stream",
          "name": "stdout",
          "text": [
            "Looking in indexes: https://pypi.org/simple, https://us-python.pkg.dev/colab-wheels/public/simple/\n",
            "Requirement already satisfied: requests in /usr/local/lib/python3.9/dist-packages (2.27.1)\n",
            "Requirement already satisfied: idna<4,>=2.5 in /usr/local/lib/python3.9/dist-packages (from requests) (3.4)\n",
            "Requirement already satisfied: certifi>=2017.4.17 in /usr/local/lib/python3.9/dist-packages (from requests) (2022.12.7)\n",
            "Requirement already satisfied: urllib3<1.27,>=1.21.1 in /usr/local/lib/python3.9/dist-packages (from requests) (1.26.15)\n",
            "Requirement already satisfied: charset-normalizer~=2.0.0 in /usr/local/lib/python3.9/dist-packages (from requests) (2.0.12)\n"
          ]
        }
      ],
      "source": [
        "#安裝相關函式庫\n",
        "!pip install requests"
      ]
    },
    {
      "cell_type": "code",
      "source": [
        "import requests\n",
        "from lxml import etree"
      ],
      "metadata": {
        "id": "n-Y1Ky8c7_UU"
      },
      "execution_count": 2,
      "outputs": []
    },
    {
      "cell_type": "code",
      "source": [
        "headers_Get = {\n",
        "        'User-Agent': 'Mozilla/5.0 (Macintosh; Intel Mac OS X 10_15_7) AppleWebKit/537.36 (KHTML, like Gecko) Chrome/100.0.4896.75 Safari/537.36'\n",
        "    }"
      ],
      "metadata": {
        "id": "5GZr9Kk98F6L"
      },
      "execution_count": 3,
      "outputs": []
    },
    {
      "cell_type": "code",
      "source": [
        "#請求網頁\n",
        "def requestHtml(url):\n",
        "  s = requests.Session()\n",
        "  r = s.get(url, headers=headers_Get)\n",
        "  r.encoding = r.apparent_encoding\n",
        "  #print(r.text)\n",
        "  return etree.HTML(r.text)"
      ],
      "metadata": {
        "id": "yINQ_5jV8JML"
      },
      "execution_count": 4,
      "outputs": []
    },
    {
      "cell_type": "code",
      "source": [
        "#限定搜尋結果(指定網站)\n",
        "url = 'https://www.google.com/search?q=%E7%BE%8E%E5%9C%8B%E9%8A%80%E8%A1%8C+site:cw.com.tw&tbm=nws'\n",
        "dom = requestHtml(url)\n",
        "\n",
        "articleLinks = dom.xpath('//div[@class=\"SoaBEf\"]//a/@href')\n",
        "links = []\n",
        "for link in articleLinks:\n",
        "  if link[22:29] == \"article\":\n",
        "      links.append(link)\n",
        "\n",
        "print(links)"
      ],
      "metadata": {
        "colab": {
          "base_uri": "https://localhost:8080/"
        },
        "id": "1SHJ89FB8Lpb",
        "outputId": "09350ac9-22e3-4b61-9ad2-f9d26b7af578"
      },
      "execution_count": 6,
      "outputs": [
        {
          "output_type": "stream",
          "name": "stdout",
          "text": [
            "['https://www.cw.com.tw/article/5125190', 'https://www.cw.com.tw/article/5125155', 'https://www.cw.com.tw/article/5125137', 'https://www.cw.com.tw/article/5125075', 'https://www.cw.com.tw/article/5125060', 'https://www.cw.com.tw/article/5125052', 'https://www.cw.com.tw/article/5125159', 'https://www.cw.com.tw/article/5125096']\n"
          ]
        }
      ]
    },
    {
      "cell_type": "code",
      "source": [
        "#下一頁 \n",
        "#//span[text()='下一頁']/parent::a/@href\n",
        "#//span[contains(text(),'下一頁')]\n",
        "nextPage = dom.xpath('//a[@id=\"pnnext\"]/@href')\n",
        "print(nextPage)"
      ],
      "metadata": {
        "colab": {
          "base_uri": "https://localhost:8080/"
        },
        "id": "T5FQ5StJCSRe",
        "outputId": "18f2d39b-abb7-496d-8597-4e871b6c7b39"
      },
      "execution_count": 7,
      "outputs": [
        {
          "output_type": "stream",
          "name": "stdout",
          "text": [
            "['/search?q=%E7%BE%8E%E5%9C%8B%E9%8A%80%E8%A1%8C+site:cw.com.tw&tbm=nws&ei=eU4hZPD8MNrikPIPs56B4Ac&start=10&sa=N&ved=2ahUKEwiwnci90_v9AhVaMUQIHTNPAHwQ8NMDegQIAxAW']\n"
          ]
        }
      ]
    },
    {
      "cell_type": "code",
      "source": [
        "#這樣只能一頁\n",
        "if nextPage:\n",
        "  dom = requestHtml('https://www.google.com' + nextPage[0])\n",
        "\n",
        "  articleLinks = dom.xpath('//div[@class=\"SoaBEf\"]//a/@href')\n",
        "  for link in articleLinks: \n",
        "    if link[22:29] == \"article\":\n",
        "      links.append(link)\n",
        "\n",
        "print(links)"
      ],
      "metadata": {
        "colab": {
          "base_uri": "https://localhost:8080/"
        },
        "id": "pRzAyA1BCZtu",
        "outputId": "b10c4d5d-64d0-4a0f-b1b3-b82f845ebab4"
      },
      "execution_count": 8,
      "outputs": [
        {
          "output_type": "stream",
          "name": "stdout",
          "text": [
            "['https://www.cw.com.tw/article/5125190', 'https://www.cw.com.tw/article/5125155', 'https://www.cw.com.tw/article/5125137', 'https://www.cw.com.tw/article/5125075', 'https://www.cw.com.tw/article/5125060', 'https://www.cw.com.tw/article/5125052', 'https://www.cw.com.tw/article/5125159', 'https://www.cw.com.tw/article/5125096', 'https://www.cw.com.tw/article/5125063', 'https://www.cw.com.tw/article/5125196', 'https://www.cw.com.tw/article/5125136', 'https://www.cw.com.tw/article/5122430', 'https://www.cw.com.tw/article/5125016', 'https://www.cw.com.tw/article/5125188', 'https://www.cw.com.tw/article/5125117', 'https://www.cw.com.tw/article/5124891']\n"
          ]
        }
      ]
    },
    {
      "cell_type": "code",
      "source": [
        "import time\n",
        "import random\n",
        "wait_time = random.uniform(1, 3)\n",
        "nextPage = dom.xpath('//a[@id=\"pnnext\"]/@href')\n",
        "#當有下一頁時，就一直爬取\n",
        "while nextPage:\n",
        "  dom = requestHtml('https://www.google.com' + nextPage[0])\n",
        "\n",
        "  articleLinks = dom.xpath('//div[@class=\"SoaBEf\"]//a/@href')\n",
        "  for link in articleLinks:\n",
        "    if link[22:29] == \"article\":\n",
        "      links.append(link)\n",
        "\n",
        "  print(len(links))\n",
        "  time.sleep(wait_time)\n",
        "\n",
        "  nextPage = dom.xpath('//a[@id=\"pnnext\"]/@href')\n",
        "\n"
      ],
      "metadata": {
        "colab": {
          "base_uri": "https://localhost:8080/"
        },
        "id": "aJ8lgRSHD1nV",
        "outputId": "3f9a3d19-0dab-4eaa-efac-a88f2926f0c6"
      },
      "execution_count": 9,
      "outputs": [
        {
          "output_type": "stream",
          "name": "stdout",
          "text": [
            "24\n",
            "32\n",
            "40\n",
            "48\n",
            "55\n",
            "64\n",
            "71\n",
            "79\n",
            "88\n",
            "97\n",
            "105\n",
            "112\n",
            "121\n",
            "129\n",
            "136\n",
            "145\n",
            "153\n",
            "162\n",
            "170\n",
            "179\n",
            "186\n",
            "194\n",
            "201\n",
            "209\n",
            "218\n",
            "226\n",
            "235\n",
            "244\n"
          ]
        }
      ]
    },
    {
      "cell_type": "code",
      "source": [
        "for link in links:\n",
        "  print(link)"
      ],
      "metadata": {
        "colab": {
          "base_uri": "https://localhost:8080/"
        },
        "id": "-n5WDGBBGhRt",
        "outputId": "8b6b2b26-5380-4b66-d9ac-0b8306d3f953"
      },
      "execution_count": 10,
      "outputs": [
        {
          "output_type": "stream",
          "name": "stdout",
          "text": [
            "https://www.cw.com.tw/article/5125190\n",
            "https://www.cw.com.tw/article/5125155\n",
            "https://www.cw.com.tw/article/5125137\n",
            "https://www.cw.com.tw/article/5125075\n",
            "https://www.cw.com.tw/article/5125060\n",
            "https://www.cw.com.tw/article/5125052\n",
            "https://www.cw.com.tw/article/5125159\n",
            "https://www.cw.com.tw/article/5125096\n",
            "https://www.cw.com.tw/article/5125063\n",
            "https://www.cw.com.tw/article/5125196\n",
            "https://www.cw.com.tw/article/5125136\n",
            "https://www.cw.com.tw/article/5122430\n",
            "https://www.cw.com.tw/article/5125016\n",
            "https://www.cw.com.tw/article/5125188\n",
            "https://www.cw.com.tw/article/5125117\n",
            "https://www.cw.com.tw/article/5124891\n",
            "https://www.cw.com.tw/article/5124860\n",
            "https://www.cw.com.tw/article/5125173\n",
            "https://www.cw.com.tw/article/5125085\n",
            "https://www.cw.com.tw/article/5125078\n",
            "https://www.cw.com.tw/article/5125175\n",
            "https://www.cw.com.tw/article/5125182\n",
            "https://www.cw.com.tw/article/5125053\n",
            "https://www.cw.com.tw/article/5125002\n",
            "https://www.cw.com.tw/article/5125035\n",
            "https://www.cw.com.tw/article/5125011\n",
            "https://www.cw.com.tw/article/5035087\n",
            "https://www.cw.com.tw/article/5078269\n",
            "https://www.cw.com.tw/article/5114491\n",
            "https://www.cw.com.tw/article/5040311\n",
            "https://www.cw.com.tw/article/5051132\n",
            "https://www.cw.com.tw/article/5123192\n",
            "https://www.cw.com.tw/article/5040348\n",
            "https://www.cw.com.tw/article/5079035\n",
            "https://www.cw.com.tw/article/5121115\n",
            "https://www.cw.com.tw/article/5096241?from=search\n",
            "https://www.cw.com.tw/article/5118581\n",
            "https://www.cw.com.tw/article/5003762\n",
            "https://www.cw.com.tw/article/5068396\n",
            "https://www.cw.com.tw/article/5123647\n",
            "https://www.cw.com.tw/article/5121473\n",
            "https://www.cw.com.tw/article/5125072\n",
            "https://www.cw.com.tw/article/5035391\n",
            "https://www.cw.com.tw/article/5122271\n",
            "https://www.cw.com.tw/article/5122027\n",
            "https://www.cw.com.tw/article/5124462\n",
            "https://www.cw.com.tw/article/5101992\n",
            "https://www.cw.com.tw/article/5075004\n",
            "https://www.cw.com.tw/article/5043506\n",
            "https://www.cw.com.tw/article/5049105\n",
            "https://www.cw.com.tw/article/5125087\n",
            "https://www.cw.com.tw/article/5122502\n",
            "https://www.cw.com.tw/article/5125158?rec=bak\n",
            "https://www.cw.com.tw/article/5108884\n",
            "https://www.cw.com.tw/article/5122244\n",
            "https://www.cw.com.tw/article/5125014\n",
            "https://www.cw.com.tw/article/5087250\n",
            "https://www.cw.com.tw/article/5104186\n",
            "https://www.cw.com.tw/article/5068458\n",
            "https://www.cw.com.tw/article/5121404\n",
            "https://www.cw.com.tw/article/5093545\n",
            "https://www.cw.com.tw/article/5122496\n",
            "https://www.cw.com.tw/article/5120090\n",
            "https://www.cw.com.tw/article/5120618\n",
            "https://www.cw.com.tw/article/5122821\n",
            "https://www.cw.com.tw/article/5120232\n",
            "https://www.cw.com.tw/article/5125051\n",
            "https://www.cw.com.tw/article/5123254\n",
            "https://www.cw.com.tw/article/5103360\n",
            "https://www.cw.com.tw/article/5039628\n",
            "https://www.cw.com.tw/article/5124020\n",
            "https://www.cw.com.tw/article/5012893?from=search\n",
            "https://www.cw.com.tw/article/5123733\n",
            "https://www.cw.com.tw/article/5099278\n",
            "https://www.cw.com.tw/article/5040780\n",
            "https://www.cw.com.tw/article/5122387\n",
            "https://www.cw.com.tw/article/5092362\n",
            "https://www.cw.com.tw/article/5094328\n",
            "https://www.cw.com.tw/article/5105579?from=search\n",
            "https://www.cw.com.tw/article/5040376\n",
            "https://www.cw.com.tw/article/5035765\n",
            "https://www.cw.com.tw/article/5104622\n",
            "https://www.cw.com.tw/article/5093593\n",
            "https://www.cw.com.tw/article/5125034\n",
            "https://www.cw.com.tw/article/5012454\n",
            "https://www.cw.com.tw/article/5108932\n",
            "https://www.cw.com.tw/article/5120528\n",
            "https://www.cw.com.tw/article/5119554\n",
            "https://www.cw.com.tw/article/5040194\n",
            "https://www.cw.com.tw/article/5091933\n",
            "https://www.cw.com.tw/article/5088767\n",
            "https://www.cw.com.tw/article/5098382\n",
            "https://www.cw.com.tw/article/5096992\n",
            "https://www.cw.com.tw/article/5070780\n",
            "https://www.cw.com.tw/article/5125069\n",
            "https://www.cw.com.tw/article/5086960\n",
            "https://www.cw.com.tw/article/5002318\n",
            "https://www.cw.com.tw/article/5068160\n",
            "https://www.cw.com.tw/article/5106293\n",
            "https://www.cw.com.tw/article/5037999\n",
            "https://www.cw.com.tw/article/5087261\n",
            "https://www.cw.com.tw/article/5002344\n",
            "https://www.cw.com.tw/article/5124808\n",
            "https://www.cw.com.tw/article/5125074\n",
            "https://www.cw.com.tw/article/5002089\n",
            "https://www.cw.com.tw/article/5103708\n",
            "https://www.cw.com.tw/article/5122791\n",
            "https://www.cw.com.tw/article/5098698\n",
            "https://www.cw.com.tw/article/5101517\n",
            "https://www.cw.com.tw/article/5098577\n",
            "https://www.cw.com.tw/article/5125201\n",
            "https://www.cw.com.tw/article/5043418\n",
            "https://www.cw.com.tw/article/5115283\n",
            "https://www.cw.com.tw/article/5120957\n",
            "https://www.cw.com.tw/article/5120006\n",
            "https://www.cw.com.tw/article/5124012\n",
            "https://www.cw.com.tw/article/5101737\n",
            "https://www.cw.com.tw/article/5097161\n",
            "https://www.cw.com.tw/article/5123298\n",
            "https://www.cw.com.tw/article/5102263\n",
            "https://www.cw.com.tw/article/5103565\n",
            "https://www.cw.com.tw/article/5121489\n",
            "https://www.cw.com.tw/article/5119001\n",
            "https://www.cw.com.tw/article/5045351?from=search\n",
            "https://www.cw.com.tw/article/5122439\n",
            "https://www.cw.com.tw/article/5122052\n",
            "https://www.cw.com.tw/article/5122945\n",
            "https://www.cw.com.tw/article/5078627\n",
            "https://www.cw.com.tw/article/5108789\n",
            "https://www.cw.com.tw/article/5122863\n",
            "https://www.cw.com.tw/article/5121713\n",
            "https://www.cw.com.tw/article/5105843\n",
            "https://www.cw.com.tw/article/5114757\n",
            "https://www.cw.com.tw/article/5040829\n",
            "https://www.cw.com.tw/article/5034383\n",
            "https://www.cw.com.tw/article/5102744\n",
            "https://www.cw.com.tw/article/5081545\n",
            "https://www.cw.com.tw/article/5124038\n",
            "https://www.cw.com.tw/article/5110884\n",
            "https://www.cw.com.tw/article/5099241\n",
            "https://www.cw.com.tw/article/5117450\n",
            "https://www.cw.com.tw/article/5083183\n",
            "https://www.cw.com.tw/article/5122213\n",
            "https://www.cw.com.tw/article/5010825\n",
            "https://www.cw.com.tw/article/5006401?from=search\n",
            "https://www.cw.com.tw/article/5095181\n",
            "https://www.cw.com.tw/article/5092099\n",
            "https://www.cw.com.tw/article/5123037\n",
            "https://www.cw.com.tw/article/5078799\n",
            "https://www.cw.com.tw/article/5125177\n",
            "https://www.cw.com.tw/article/5115191\n",
            "https://www.cw.com.tw/article/5008912\n",
            "https://www.cw.com.tw/article/5063419\n",
            "https://www.cw.com.tw/article/5068246\n",
            "https://www.cw.com.tw/article/5122770\n",
            "https://www.cw.com.tw/article/5107030\n",
            "https://www.cw.com.tw/article/5121292\n",
            "https://www.cw.com.tw/article/5077992\n",
            "https://www.cw.com.tw/article/article.action?id=5074833\n",
            "https://www.cw.com.tw/article/5118591\n",
            "https://www.cw.com.tw/article/5069480\n",
            "https://www.cw.com.tw/article/5035834\n",
            "https://www.cw.com.tw/article/5046109\n",
            "https://www.cw.com.tw/article/5011380\n",
            "https://www.cw.com.tw/article/5114386\n",
            "https://www.cw.com.tw/article/5124973\n",
            "https://www.cw.com.tw/article/5009877\n",
            "https://www.cw.com.tw/article/5003665\n",
            "https://www.cw.com.tw/article/5003420\n",
            "https://www.cw.com.tw/article/5108737\n",
            "https://www.cw.com.tw/article/5124476\n",
            "https://www.cw.com.tw/article/5118057\n",
            "https://www.cw.com.tw/article/5093891\n",
            "https://www.cw.com.tw/article/5121714\n",
            "https://www.cw.com.tw/article/5122863\n",
            "https://www.cw.com.tw/article/5073074\n",
            "https://www.cw.com.tw/article/5120414\n",
            "https://www.cw.com.tw/article/5103747\n",
            "https://www.cw.com.tw/article/5122906\n",
            "https://www.cw.com.tw/article/5121713\n",
            "https://www.cw.com.tw/article/5105843\n",
            "https://www.cw.com.tw/article/5114757\n",
            "https://www.cw.com.tw/article/5040829\n",
            "https://www.cw.com.tw/article/5119965\n",
            "https://www.cw.com.tw/article/5118811\n",
            "https://www.cw.com.tw/article/5101333\n",
            "https://www.cw.com.tw/article/5104721\n",
            "https://www.cw.com.tw/article/5112867\n",
            "https://www.cw.com.tw/article/5121713\n",
            "https://www.cw.com.tw/article/5105843\n",
            "https://www.cw.com.tw/article/5114757\n",
            "https://www.cw.com.tw/article/5040829\n",
            "https://www.cw.com.tw/article/5119965\n",
            "https://www.cw.com.tw/article/5118811\n",
            "https://www.cw.com.tw/article/5114406\n",
            "https://www.cw.com.tw/article/5119084\n",
            "https://www.cw.com.tw/article/5125114\n",
            "https://www.cw.com.tw/article/5121774\n",
            "https://www.cw.com.tw/article/5125184\n",
            "https://www.cw.com.tw/article/5121369\n",
            "https://www.cw.com.tw/article/5122176\n",
            "https://www.cw.com.tw/article/5115281\n",
            "https://www.cw.com.tw/article/5091063\n",
            "https://www.cw.com.tw/article/5123287\n",
            "https://www.cw.com.tw/article/5010412\n",
            "https://www.cw.com.tw/article/5123468\n",
            "https://www.cw.com.tw/article/5101529\n",
            "https://www.cw.com.tw/article/5034944\n",
            "https://www.cw.com.tw/article/5122668\n",
            "https://www.cw.com.tw/article/5036473\n",
            "https://www.cw.com.tw/article/5094890\n",
            "https://www.cw.com.tw/article/5118296\n",
            "https://www.cw.com.tw/article/5123040\n",
            "https://www.cw.com.tw/article/5089527\n",
            "https://www.cw.com.tw/article/5096324\n",
            "https://www.cw.com.tw/article/5097447\n",
            "https://www.cw.com.tw/article/5071524\n",
            "https://www.cw.com.tw/article/5096496\n",
            "https://www.cw.com.tw/article/5120959\n",
            "https://www.cw.com.tw/article/5120059\n",
            "https://www.cw.com.tw/article/5104244\n",
            "https://www.cw.com.tw/article/5092563\n",
            "https://www.cw.com.tw/article/5095735\n",
            "https://www.cw.com.tw/article/5123640\n",
            "https://www.cw.com.tw/article/5121412\n",
            "https://www.cw.com.tw/article/5121711\n",
            "https://www.cw.com.tw/article/5089390\n",
            "https://www.cw.com.tw/article/5070888\n",
            "https://csr.cw.com.tw/article/41711\n",
            "https://www.cw.com.tw/article/5123805\n",
            "https://www.cw.com.tw/article/5073374\n",
            "https://www.cw.com.tw/article/5123170\n",
            "https://www.cw.com.tw/article/5049460\n",
            "https://www.cw.com.tw/article/5093402\n",
            "https://www.cw.com.tw/article/5102605\n",
            "https://www.cw.com.tw/article/5115306\n",
            "https://www.cw.com.tw/article/5006741\n",
            "https://www.cw.com.tw/article/5125164\n",
            "https://www.cw.com.tw/article/5089390\n",
            "https://www.cw.com.tw/article/5070888\n",
            "https://csr.cw.com.tw/article/41711\n",
            "https://www.cw.com.tw/article/5123805\n",
            "https://www.cw.com.tw/article/5073374\n",
            "https://www.cw.com.tw/article/5123170\n"
          ]
        }
      ]
    },
    {
      "cell_type": "code",
      "source": [
        "print(\"原始筆數：{0}\".format(len(links)))\n",
        "#去除重複\n",
        "links = list(dict.fromkeys(links))\n",
        "print(\"去除重複後筆數：{0}\".format(len(links)))"
      ],
      "metadata": {
        "colab": {
          "base_uri": "https://localhost:8080/"
        },
        "id": "eZjv7ZPkGsnj",
        "outputId": "b3066c5c-ad9b-408b-d043-8c1bd74ed822"
      },
      "execution_count": 11,
      "outputs": [
        {
          "output_type": "stream",
          "name": "stdout",
          "text": [
            "原始筆數：244\n",
            "去除重複後筆數：227\n"
          ]
        }
      ]
    },
    {
      "cell_type": "code",
      "source": [
        "dom = requestHtml(links[5])\n",
        "#取得標題、內文、發文日期、圖檔連結\n",
        "title = dom.xpath('//h1/text()')\n",
        "image = dom.xpath('//div[@class=\"article__img\"]/span/@data-zoom')\n",
        "publish_date = dom.xpath('//time/text()')\n",
        "content = dom.xpath('//div[contains(@class,\"article__detail\")]/following-sibling::node()[2]/p/text()')\n",
        "tags = dom.xpath('//a[@class=\"keywords\"]/@data-keyword')\n",
        "#連接 list 內的值，使用斷行 \\n\n",
        "content = '\\n'.join(content)\n",
        "#組成dict\n",
        "article = {\n",
        "    \"title\": title,\n",
        "    \"image\": image,\n",
        "    \"publish_date\": publish_date,\n",
        "    \"content\": content\n",
        "}\n",
        "\n",
        "print(article['content'])"
      ],
      "metadata": {
        "colab": {
          "base_uri": "https://localhost:8080/"
        },
        "id": "JR0GMJvGH4xk",
        "outputId": "6000639d-1d2a-4198-dc36-13e5886067dc"
      },
      "execution_count": 12,
      "outputs": [
        {
          "output_type": "stream",
          "name": "stdout",
          "text": [
            "台積電創辦人張忠謀與《晶片戰爭》作者、美國塔夫茨大學副教授米勒（Chris Miller），3月16日一起來到《天下》主辦的「半導體世紀對談」。《天下》訪問幾位在現場、線上聆聽的前台積電主管與分析師，在這場笑聲與掌聲不斷的一個多小時談話中，歸納出三個亮點。\n",
            "這場論壇的第一個亮點，就是他語出驚人。\n",
            "他先主動問小他50多歲的美國學者，對於未來5年或10年，在兩岸、中美都不會發生戰爭的前提下，半導體供應鏈會變得如何？\n",
            "米勒小心翼翼地給了個四平八穩的回答。張忠謀接下來，卻開始評論起美國對中國的半導體禁令，「我對這個沒有意見，事實上，應該說，我支持這個政策。」\n"
          ]
        }
      ]
    },
    {
      "cell_type": "code",
      "source": [
        "def composeArticle(dom, link):\n",
        "  #取得標題、內文、發文日期、圖檔連結\n",
        "  title = dom.xpath('//h1/text()')\n",
        "  image = dom.xpath('//div[@class=\"article__img\"]/span/@data-zoom')\n",
        "  publish_date = dom.xpath('//time/text()')\n",
        "  content = dom.xpath('//div[contains(@class,\"article__detail\")]/following-sibling::node()[2]/p/text()')\n",
        "  tags = dom.xpath('//a[@class=\"keywords\"]/@data-keyword')\n",
        "  #連接 list 內的值，使用斷行 \\n\n",
        "  content = '\\n'.join(content)\n",
        "\n",
        "  if len(title) == 0:\n",
        "    return {}\n",
        "\n",
        "  article_image = ''\n",
        "  if image:\n",
        "    article_image = image[0]\n",
        "\n",
        "  #組成dict\n",
        "  return {\n",
        "    \"title\": title[0],\n",
        "    \"image\": article_image,\n",
        "    \"publish_date\": publish_date[0],\n",
        "    \"content\": content,\n",
        "    \"link\": link\n",
        "  }"
      ],
      "metadata": {
        "id": "Hc62ru-qKRee"
      },
      "execution_count": 13,
      "outputs": []
    },
    {
      "cell_type": "code",
      "source": [
        "from random import randint\n",
        "from time import sleep"
      ],
      "metadata": {
        "id": "mQD_ZBVpL-Vu"
      },
      "execution_count": 14,
      "outputs": []
    },
    {
      "cell_type": "code",
      "source": [
        "articles = []\n",
        "#試作時取前10筆，實際要全部擷取文章時，將[:10]移除\n",
        "for link in links[:10]:\n",
        "  dom = requestHtml(link)\n",
        "\n",
        "  article = composeArticle(dom, link)\n",
        "  print(article)\n",
        "  articles.append(article)\n",
        "\n",
        "  sleep(randint(1,5))"
      ],
      "metadata": {
        "colab": {
          "base_uri": "https://localhost:8080/"
        },
        "id": "R5Je4aeIMDyn",
        "outputId": "7cc4c58c-014a-4bb5-b3a7-658f36baefc3"
      },
      "execution_count": 15,
      "outputs": [
        {
          "output_type": "stream",
          "name": "stdout",
          "text": [
            "{'title': '分析師：不，德意志銀行不是下一個瑞士信貸', 'image': 'https://storage.googleapis.com/www-cw-com-tw/article/202303/article-641e62a0042b3.jpg', 'publish_date': '\\n發布時間：2023-03-25\\n', 'content': '3月8日，Silvergate Bank宣布將逐步結束營業、清算資產。3月10日，矽谷銀行（Silicon Valley Bank）母公司SVB揭露鉅額虧損及募資計畫，股價血崩，不但矽谷銀行陷入流動性危機，新創圈人心惶惶，也帶崩一眾美國金融股。美國監管當局承諾致力保護金融穩定，接管矽谷銀行，保證儲戶安全。3月12日，紐約監管當局直接勒令關閉Signature Bank。\\n無巧不巧，歐洲也有銀行爆雷，近年醜聞纏身的瑞士信貸（Credit Suisse）出現鉅額虧損及財務危機，價值160億瑞郎的瑞信債券減記為零，重創瑞士銀行業形象與信譽。\\n瑞士聯邦委員會逼瑞銀集團出手收購瑞信，並提供90億瑞郎擔保給瑞銀，確保收購無虞。\\n美國不但擔保矽谷銀行和Signature Bank存戶的存款不會有事，也願意提供有需要的銀行緊急借款。\\n但政府的背書，不足以讓所有投資人安心，依然有許多人擔心恐慌和災禍蔓延。\\n不同於2008年金融危機，這次的問題並非在於銀行資產的品質。當前的信心危機主因是矽谷銀行在風控不足情況下，採取梭哈長債、押注利率的投資策略，結果大翻車，資產流出速度過快，被迫實現債券的浮虧並宣布增資，進而引發擠兌。\\n投資人認為，以美國區域銀行為主，有很多銀行都做了類似SVB的投資策略，所以很擔心若客戶想要提款，這些銀行是否有足夠的資本支應虧損。市場的目光焦點目前集中在被3家主要信評機構降評的第一共和銀行上。\\n穆迪就不看好第一共和銀行能不賣資產而撐住擠兌，在報告中指出，「儘管第一共和銀行每天存款流出的速度正在大幅減慢，穆迪認為2022年Q4存款有68%是未保險的，而這間銀行已經損失大筆存款，侵蝕了這間銀行的經營強度」。\\n穆迪認為，第一共和銀行新獲得的資金多屬相對短期的性質，最終勢必得出售資產來償付。\\n第一共和銀行主要迎合有錢客戶，絕大多數客戶的存款不受美國聯邦存款保險公司（Federal Deposit Insurance Corp）擔保。SVB事件以來，第一共和銀行股價崩跌89%。儘管有11家大型美國銀行試圖紓困，也無法令投資人安心。第一共和銀行正在尋求其他選項，像是賣掉自己。\\n德意志銀行則是不久前宣布，決定提前贖回一批債券。一般來說，一間公司要贖回債券，代表資產強勁，但這項宣布卻引發拋壓，德銀股價一度暴跌15%，反映德銀債券違約保險成本的信用違約交換（CDS）也狂飆。\\n德國總理蕭茲出面安撫市場，在布魯塞爾的歐盟峰會表示德銀已經現代化重組過，是獲利豐盈的銀行，沒有理由擔心，希望市場重拾信心。\\n一片恐慌中，分析師也表示，德銀不會是下一個瑞士信貸。\\n很多分析師摸不著頭緒，連續10季獲利、資本和償債能力強健的德銀怎麼會成為市場眼中下一個高風險目標。\\n德意志銀行近年以削減成本、增進獲利為目標，進行規模數十億歐元的重建，2022年度淨利來到50億歐元，較前一年上揚159%，2022年底的普通股權一級資本比率（CET1）落在13.4%，流動性覆蓋比率142%，淨穩定資金比率119%，代表償債能力或流動性都不值得擔心。\\n有些人是擔心德銀的美國商用房地產曝險及大量衍生金融商品帳目狀況，不過聯博資產管理（AllianceBernstein）旗下研究公司Autonomous嗤之以鼻，表示這些憂慮都是已知的，而且「不怎麼可怕」，因為德銀握有強健的資本與流動性。\\nAutonomous策略專家格拉漢（Stuart Graham）、李歐娜‧李（Leona Li）表示，「我們不擔心德意志銀行會倒閉或資產會有問題。不容分說，德意志銀行不是下一個瑞士信貸。」\\n（資料來源：The Street、CNBC）', 'link': 'https://www.cw.com.tw/article/5125190'}\n",
            "{'title': '瑞信危機背後的三個關鍵問題', 'image': 'https://storage.googleapis.com/www-cw-com-tw/article/202303/article-641c05bd3a297.jpg', 'publish_date': '\\n發布時間：2023-03-23\\n', 'content': '3月19日，瑞士聯邦政府宣佈，瑞士信貸將被瑞銀集團收購，交易總對價為30億瑞士法郎（約合32億美元）。這相當於3月17日收盤市值的四成。\\n被四折賣掉的瑞信，今年167歲，與當年倒閉時158歲的雷曼相仿，而剛剛倒下的矽谷銀行還不到40歲，它們的命運有何異同？瑞信如何一步步走到今天的境地？更重要的是，瑞信的餘波會怎樣影響全球？\\n二者倒閉的原因有相似之處，就是內部風險控制不善導致。\\n疫情後美聯儲採取寬鬆政策，大放水，矽谷銀行管理的資金量水漲船高，如是矽谷銀行決定購買較為安全的美國債券，吃點利息。\\n然而到了2022年初，風頭急轉，美聯儲為了抑制高居不下的通脹，開始加息，幅度和頻率又急又密，此舉造成2022年美債暴跌，矽谷銀行開始血虧。大客戶看到這一情況，紛紛提回存款，擠垮了矽谷銀行。\\n說到底，矽谷銀行在管理旗下投資時沒有對沖美債收益率波動的風險。\\n瑞信的危機類似，週期更長，最關鍵的是2021年3月，當時知名的「中概股爆倉」事件中，一家美國家族基金阿奇戈斯資本管理公司（Archegos Capital），通過瑞信和多家美國投行，獲取巨額貸款進行高槓桿股票炒作，並最終「暴雷」。\\n投行們紛紛出逃，拋售替「阿奇戈斯資本」購買的股票，然而投行們反應也有快有慢，摩根士丹利跑得最快，瑞信最慢，損失也最慘，達到55億美元。\\n幾乎在同一時間，英國一家供應鏈金融企業格林希爾資本（Greensill Capital）爆雷倒閉，此前這家公司不斷發放貸款，並且打包之後作為金融產品出手，而瑞信設立了4隻供應鏈金融基金來投資「格林希爾資本」打包的債券。通過層層轉包，風險被掩蓋，最終爆雷時，瑞信虧損達到30億美金。\\n這些事件導致瑞信首席風險官被辭退，因為從「格林希爾資本」再到「阿奇戈斯資本」，兩起事件都展現出瑞信內部對風險監控的疏漏。這一點也在瑞信最近的財報中得到確認，並且成為本輪暴跌的誘因之一。\\n但瑞信與矽谷銀行，在業務屬性和規模上，大不相同。\\n即便經歷大量資金外流和連續虧損，瑞信管理的資產規模依然超過1萬億瑞士法郎，相當於1.1萬億美元，或者7.5萬億元人民幣。而全世界GDP超過1萬億美元的國家僅有17個。而矽谷銀行為2000億美元左右。\\n瑞信是走在風頭浪尖的投行，金融服務五花八門，矽谷銀行更像一家吸儲放貸的傳統銀行。只不過它並不服務一般老百姓，而是專門針對創業企業、創投基金。這些初創公司風險較高，傳統商業銀行並不青睞。而矽谷銀行卻專門針對它們開發業務，比如有些貸款回報甚至是對方的股權。\\n相比之下，瑞信和雷曼各方面都太像了。\\n瑞信成立於1856年，雷曼兄弟成立於1850年，兩者都業務繁多，包括財富管理、投資銀行和資產管理、私募基金等，且遍布世界各地。\\n2008年，雷曼兄弟破產是美國歷史上最大的破產案，也標誌著2008年金融危機全面爆發。惠及全球多年的經濟擴張期嘎然而止。國際貨幣基金組織（IMF）數據顯示，新興經濟2009年急劇減速，增幅只有2.8%，而發達工業國家出現負增長，即-3.4%。\\n雷曼倒閉歸根結底是因為「房產抵押貸款證券」（MBS）的信用崩盤。當年金融人士普遍認為MBS是「安全資產」，因此經常把它作為抵押品，進行借款，甚至還通過衍生品，進一步放大了槓桿率。\\n在瑞信危機中，也能看到類似的情況。「格林希爾資本」發放的高風險貸款，被整合之後粉飾成供應鏈金融，並借由「家大業大」的瑞信之手，掩蓋了風險，銷售給瑞信的客戶。\\n區別在於，當年MBS由於它被廣泛運用在各種金融交易中，因此「傳染性」極強。而「格林希爾資本」打包的金融產品，只坑了瑞信一家。\\n其次，兩家虧損程度也不一樣。雷曼兄弟當年旗下資產6000多億美元，虧損也達到6000多億美元。瑞信管理資產超過萬億美元，虧損則在百億美元級別。\\n但隨著矽谷銀行的倒閉，市場猶如驚弓之鳥。瑞士方面的監管層、瑞銀高管、瑞信高管，都在指責美國當前的銀行業危機「催化」了瑞信的危機。\\n在這場收購中，最受傷的不是被迫「四折賤賣」的瑞信股東，而是瑞信所發行「額外一級資本」（Additional Tier1，簡稱AT1）債券的持有人，規模達到158億瑞郎（172億美元），被全額減記至零，血本無歸。\\nAT1債券是2008年金融危機後的發明，銀行發行這類債券以吸收風險，一級資本不足就要將其轉換為普通股，比一般債券風險高，收益也更高。\\n但即便如此，在併購或者破產清算時的償付慣例是，債券的優先權高於股票。但這一事件中，股票還未歸零，債券卻被全額減記。\\n瑞士當局對AT1債券的處置，引發巨大爭議，也造成AT1債大跌。歐洲整體AT1的規模不過2750億美元，此次一下減記了170多億。業內人士認為，此舉可能增加歐洲銀行業未來的資金成本。\\n緊接著，包括歐洲央行銀行監管局在內的多家歐元區監管機構，紛紛發聲「普通股權一級資本」（CET1）仍然先於AT1債券承擔損失，瑞信可能只是特例。\\n「在金融市場上，真正的資本是信任。」《華爾街日報》援引瑞士義大利語區大學金融教授阿德西（Giovanni Barone Adesi）表示，所以如果人們開始對他們的金融機構失去信任，一切都會快速瓦解。\\n（本文由「\\n」授權轉載）', 'link': 'https://www.cw.com.tw/article/5125155'}\n",
            "{'title': '天下晨間新聞\\u3000Fed暗示升息到尾聲，股市卻跌530點\\u3000鮑爾最後一句話是關鍵', 'image': 'https://storage.googleapis.com/www-cw-com-tw/article/202303/article-641b6ac71538d.jpg', 'publish_date': '\\n發布時間：2023-03-23\\n', 'content': '聯準會(Fed)今天宣佈升息一碼，雖然沒有直接說出口，\\n今天的升息是聯準會過去這一年的第九次，聯邦基準利率來到4.75%至 5%區間，是2007年最高。\\n從「持續升息」到「額外的政策收緊」被視為是語調放軟了。\\n聲明也談到，當前依然難以辨明，近期的銀行壓力會多大程度的讓經濟慢下來，所以接下來會按照當下的數據和經濟情況去決定利率決策。', 'link': 'https://www.cw.com.tw/article/5125137'}\n",
            "{'title': '瑞士信貸32億美元出售\\u3000瑞銀集團接手，危機解除？', 'image': 'https://storage.googleapis.com/www-cw-com-tw/article/202303/article-64174cbc4807f.jpg', 'publish_date': '\\n發布時間：2023-03-20\\n', 'content': '瑞士信貸（Credit Suisse）即將易主，瑞銀集團（UBS）將以32.5億美元，收購瑞信，相當於每股0.76瑞士法郎。瑞士最大兩銀行達成協議，以「全股交易」方式進行合併，最快當地時間週日傍晚簽約。\\n在瑞士總統貝爾塞特口中的激動時刻中，國家的兩家最大銀行合為一體。\\n瑞士央行16日丟出的500億瑞郎貸款救生圈，看來無法安撫存款人的心。瑞士銀行監管單位為避免瑞信用最災難性的方式解體，聲聲催促UBS試著承接這個定時炸彈。在那一刻，瑞信幾乎確定會成為一個歷史的註腳。\\n瑞士信貸易主，堪稱美國矽谷銀行倒閉所引發一連串動盪後，引爆的最戲劇性結果。但瑞信的厄運多半是自己造成的，近年來轟動全球投資市場的醜聞都看得到瑞信的身影，像是金融家格林希爾（Lex Greensill）旗下資本公司破產，以及比爾·黃（Bill Hwang）「Archegos 資本管理」（Archegos Capital Management）爆倉事件。\\n(看更多：\\n)\\n瑞信的解體意味著166年歷史的老牌銀行垮下了，當年為了資助瑞士鐵路系統而設置，一度躋身全球銀行之巔，幾次甚至與摩根大通等美國銀行巨頭針鋒相對。\\n近幾個月來，瑞信嘗試站穩腳步，但上週的兩起事件，成為壓垮瑞信的稻草。首先，瑞信14日揭露財報內部控制有「重大缺陷」。其二，矽谷銀行與標誌銀行倒閉引發的恐慌跨越大西洋席捲而至，接著瑞信最大股東對記者問題的直截了當回應，導致瑞信股債雙殺，股價一度大跌三成多。那句回應是，「不會增加瑞信的持股」。\\n(看更多：\\n)\\n全面的收購，將讓UBS承接瑞信極有價值的業務，像是瑞信的國內零售銀行，以及客戶遍及亞洲和中東的財富管理業務，不過當然瑞信的拖油瓶業務也會跟著。\\n瑞士央行和監管單位預計准許這個交易跳過部分法規，像是UBS不需要6週與股東們的諮詢期。更白話地說，這次合併，雙方股東沒有置喙的權利。\\nUBS市值約650億美元，瑞信則是95億美元，UBS在2022年淨獲利76億美元，瑞信則是虧79億美元。\\n但要說瑞銀集團UBS在這起協議中有值得開心的地方，那大概會是接手瑞信旗下服務一般消費者、中小企業的瑞士國內零售銀行「瑞士環球銀行」（Swiss Universal Bank），那是瑞信生鏽皇冠上的珠寶，也是瑞士央行16日二話不說先砸錢穩定軍心的最大原因。\\n瑞士環球銀行是瑞信旗下四大分支業務當中，唯一還在賺錢的事業單位，\\n瑞信2022年整體營收，超過四分之一是來自瑞士環球銀行的貢獻，當瑞信的財務管理和投資事業虧到不行，瑞士環球銀行還在賺錢。\\n去年第四季，瑞信資金大舉外流時，瑞士環球銀行的客戶顯然也相對有耐心，僅83億瑞郎被提領，也就是瑞士環球銀行整體資金的1.5%。\\n過去十年，瑞士環球銀行都是瑞士國內投資銀行業務的佼佼者。去年，瑞士環球銀行還為食品巨頭雀巢公司和跨國藥廠羅氏募資。\\n瑞士環球銀行的重要性，顯然被監管單位放在心上。2008年金融危機以來，「大到不能倒」法規使得瑞士政府有義務採取「瑞士優先」立場。在破產風險下，攸關瑞士金融穩定的事業體必須進行資本重組，而其他事業則將被清算。\\n瑞士IMD商學院金融學教授布里斯（Arturo Bris）說，瑞士央行的介入，凸顯瑞信在瑞士國內銀行扮演的重要角色，「國內銀行是瑞信皇冠上的珠寶。」\\n瑞士政府說媒成功，拆了瑞信炸彈，然後呢？瑞士國際銀行和金融集團Mirabaud副總裁帕拉薩爾（John Plassard）說，「現在，銀行業信任問題解決了嗎？顯然還沒有。一個行業的信心不可能單靠一天就重建，這不可能。我想上週四、週五的狀況會重演，市場一開始會很有信心，但股市又會往下掉，因為投資人需要更多資訊。別忘了，這個危機某種程度上是從美國蔓延過來的，不只是瑞信本身」。\\n（資料來源：NYT, FT, Bloomberg, WSJ）', 'link': 'https://www.cw.com.tw/article/5125075'}\n",
            "{'title': '拒買美債、金融股！知名分析師陸行之提8大投資心法不踩雷', 'image': 'https://storage.googleapis.com/www-cw-com-tw/article/202303/article-64141c0d07b40.jpg', 'publish_date': '\\n發布時間：2023-03-19\\n', 'content': '陸行之表示，最近看到美國，歐洲銀行陸續暴雷，加上沒有預測能力的信評機構打落水狗加碼降評級，造成全球科技及半導體股票的震盪及投資人擔心未來需求的不確定性下，因此分享個人不觸大雷的投資心得，他還開了自己的玩笑「表示我不是神，也會觸小雷」。\\n陸行之的七個不投資包括：第一，不投資政府債券，雖然利率下跌，債券價格有機會上漲，但大部分政府（尤其是美國政府）財務都是負債累累，胡亂印鈔票，如果把美國政府當作一家公司來看，淨負債比率肯定都超標。投資政府債券類似於投資commodity 化的週期行業。\\n第二，不投資本開支高，有時賺，有時賠錢的產業鏈也不買這些公司的債券，淨負債（總負債減去總現金／股東權益）比 gearing ratio不能超過20%，gearing ratio 超過70～80%的公司，表示負債太高，未來還債都有問題，還傻傻的去買它的公司債嗎？\\n第三，盡量不投資commodity化的科技／半導體週期行業（週期好漲價大賺，週期不好跌價虧損），除非能夠確認現在是絕對的週期及價值底部（0.6x P/BV 以下)。\\n第四，盡量不投 copycat的第二、第三名，除非這家公司的研發及技術能力有機會能超越龍頭。\\n第五，盡量不投手機、電腦、電視、家電、面板產業鏈比重高的公司，因為只有產品升級，沒有革命性創新。 看看iphone，谷歌這幾年給了什麼新東西？\\n第六，盡量不投淨利率只有5%，毛利率不到15%的公司，代表只有組裝技術，沒有核心零組件或製造技術。\\n第七，盡量不投競爭者一堆，技術壁壘差異不大的行業及龍頭。\\n不過，陸行之說，會投資虧損，但技術領先的公司，可是因為風險較大，投資組合占比會很低，預期是歸零，或數倍的獲利。\\n陸行之提出8點心得分享，且在臉書發文的最後表示，「應該還有一些基本原則，想到再分享」。\\n（本文由「\\n」授權轉載）', 'link': 'https://www.cw.com.tw/article/5125060'}\n",
            "{'title': '張忠謀：我支持美國對中國的半導體禁令\\u3000三大亮點看晶片教父如何「挺台灣」', 'image': 'https://storage.googleapis.com/www-cw-com-tw/article/202303/article-6413521a825ff.jpg', 'publish_date': '\\n發布時間：2023-03-16\\n', 'content': '台積電創辦人張忠謀與《晶片戰爭》作者、美國塔夫茨大學副教授米勒（Chris Miller），3月16日一起來到《天下》主辦的「半導體世紀對談」。《天下》訪問幾位在現場、線上聆聽的前台積電主管與分析師，在這場笑聲與掌聲不斷的一個多小時談話中，歸納出三個亮點。\\n這場論壇的第一個亮點，就是他語出驚人。\\n他先主動問小他50多歲的美國學者，對於未來5年或10年，在兩岸、中美都不會發生戰爭的前提下，半導體供應鏈會變得如何？\\n米勒小心翼翼地給了個四平八穩的回答。張忠謀接下來，卻開始評論起美國對中國的半導體禁令，「我對這個沒有意見，事實上，應該說，我支持這個政策。」', 'link': 'https://www.cw.com.tw/article/5125052'}\n",
            "{'title': '葉倫否認全面覆蓋存款保險，美國銀行危機持續燒', 'image': 'https://storage.googleapis.com/www-cw-com-tw/article/202303/article-641c1b8ebc968.jpg', 'publish_date': '\\n發布時間：2023-03-23\\n', 'content': '矽谷銀行倒閉所引起的美國銀行危機，平息了嗎？表面上看似乎最糟的狀況已經止血，但在表現之下，卻還有令人擔心的問題。在22日的FOMC會後記者會上，聯準會主席鮑爾強調美國的銀行體系「安全且強韌（sound and resilient）。」然而，市場真的買單嗎？\\n美國財政部長葉倫在21日的公開演說中指出，如果需要的話，美國政府隨時準備出手介入，「如果小型機構遭遇擠兌、而且造成散播危機的話，確定會採取類似的舉動。」\\n葉倫的談話，讓投資人開始猜測，美國政府是否可能取消25萬美元的存款上限、改以全面覆蓋的存款保險來解決目前的困境。然而，葉倫22日的一席話就將市場打回原形。\\n葉倫一席話又讓投資人開始猜測下一個地區性銀行要遭殃是誰。《金融時報》指出，追蹤24間大型和中型銀行的費城KBW銀行指數22日將21日的漲幅吐回，下跌4.7％。\\n其中一家承受壓力的是西太平洋合眾銀行（PacWest Bancorp）。該公司在22日發布新聞稿表示，截至3月20日為止，其存款餘額為271億美元，較3月9日的332億美元，大幅減少了61億元、下跌幅度達18.4％。《CNBC》指出，外流的存款，大部分來自創投資金。截至目前為止，創投資金佔該銀行的存款比率大約為24％。消息一出，西太平洋合眾銀行股價下跌了17％。\\n針對美國銀行體系的現狀，知名對沖基金經理人艾克曼（Bill Ackman）23日在推特上強調，「銀行危機被允許持續的愈久，對小型銀行和他們接觸低廉資金能力的影響就愈大。」\\n艾克曼前一天也在推特上分析，在聯邦基準利率來到5％的同時，也使得銀行存款的吸引力大幅下降「我會感到很驚訝如果銀行存款沒有加速流失。」艾克曼認為，面對目前危機，美國政府應該至少暫時性的將存款保險上限取消、改以全面覆蓋，增加存款者的信心。\\n針對市場大聲疾呼希望全面覆蓋存款保險，《華爾街日報》則是評論指出，「存款保險的全面覆蓋絕對可以穩定市場，但是必須付出代價。它會將沒有納入存款保險的資金，例如貨幣市場基金都吸納過來。它也會將所有銀行都轉變成實質上政府支持的企業，就像房地美和房利美過去一樣。在這個過程中，所有金融海嘯後的監管全部化為煙塵。」\\n在昨天鮑爾的談話中，他則是指出目前要判斷銀行危機對經濟體系中的信用取得影響有多大，時間還太早，但他也承認，銀行危機會對民間消費和經濟成長造成拖累，效果可能「相當於一次升息，甚至超過。」\\n（資料來源：彭博、FT、WSJ）', 'link': 'https://www.cw.com.tw/article/5125159'}\n",
            "{'title': '新光銀行幸福一畝田 創造環境與公益共好循環', 'image': 'https://storage.googleapis.com/www-cw-com-tw/article/202303/article-641811816d9ee.jpg', 'publish_date': '\\n發布時間：2023-03-22\\n', 'content': '新光銀行表示，新光長期致力落實企業社會責任，面對未來氣候變遷下對環境的衝擊，特地與花蓮「稻寶地．幸福農」合作認養稻田，鼓勵農友依據大自然法則，以尊重土壤基本生態體系，不用化學農藥及肥料傷害土地，選擇與大自然共生共融，收成量雖不如一般慣行農法，但有企業的支持能穩定其收入，期待吸引更多農友投入這項對環境友善的工作。\\n此外，在與社會共融共好的前提下，新光銀行將認養土地所生產出來的安心稻米全數捐贈給花蓮公益機構，本年度共捐出1,500公斤，贈送對象「華山社會福利慈善事業基金會」、「花蓮縣老人暨家庭關懷協會」、「花蓮原住民少年兒童之家」、「禪光育幼院」，落實關懷弱勢失依長輩及兒少的企業精神，讓善的力量發揮最大的效益。\\n華山基金會花蓮縣站長蕭介漢表示，在花蓮失依長輩們經常因交通或行動不便，造成生活物資採買的困難，基本溫飽都無法滿足；感謝新光銀行連續三年對長輩們不間斷的關懷，除了讓長輩們能夠吃到安心又健康的好米之外，加上各界善心人士不定期捐贈的關懷物資，讓長輩可暫時不為三餐溫飽而煩惱。\\n因應全球永續發展趨勢，新光銀行持續推動響應環境氣候變遷議題的倡議行動，與「荒野保護協會」合作「地球一小時EARTH DAY」活動亦邁入第16年，配合全國104間分行共同提前關閉招牌燈等，以達節能減碳的目的，致力落實聯合國永續發展目標SDGs2消除飢餓、SDGs13氣候行動等精神，以實際行動降低氣候變遷對於地球的衝擊，展現新光永續經營「低碳、創新、共好」的核心價值。', 'link': 'https://www.cw.com.tw/article/5125096'}\n",
            "{'title': '生理年齡少20歲\\u3000長壽專家每天吃的5種食物', 'image': 'https://storage.googleapis.com/www-cw-com-tw/article/202302/article-63f475a29098a.jpg', 'publish_date': '\\n發布時間：2023-03-20\\n', 'content': '海曼醫生在社交應用程式有28萬6000多個追蹤者。\\n海曼表示，他的生理年齡之所以這麼年輕，要歸功於每天作息和飲食習慣。\\n海曼醫生主張，我們或多或少都可以控制老化的速度，因此也能夠控制老後的生活品質。\\n除了基因遺傳，運動、營養、壓力管理和社交，都與良好的老化和降低（可能造成早死的）慢性病風險有關。\\n海曼最近在TikTok表示，他每天都會吃5種食物來「確保我的健康、我可以過著長壽而健康的生活」。\\n這位老化專家說，簡單講，你可以把這些食物當成「藥物」看待。\\n十字花科蔬菜如花椰菜、抱子甘藍、羽衣甘藍、高麗菜，都富含對降低發炎和癌症風險有關的植物化學成分，也包含鎂和葉酸、纖維來幫助消化。\\n海曼表示，「這些東西都包含有可以啟動細胞排毒通道的化合物，能夠讓你的礦物質狀態最佳化。」\\n海曼每天會吃一至兩杯這些蔬菜。\\n地中海飲食的核心是用橄欖油烹調，海曼表示他每天都優先食用特級初榨橄欖油。其中健康的脂肪含有抗氧化劑，能夠降低慢性健康疾病和心臟病的風險。\\n橄欖油也能夠對抗氧化壓力。氧化壓力會傷害大腦健康，可能引發神經退化性疾病。\\n根據臺北醫學大學，神經退化性疾病在老年化社會越來越普遍，像是常見的失智症或阿茲罕默症、帕金森氏症、小腦萎縮症等，都是神經退化性疾病。\\n退化性神經疾病的確切病因不易釐清，但是許多研究顯示，後天發病的因素，如平日接觸的空氣、水、飲食跟生活型態，都有可能造成神經細胞提前退化。\\n一旦神經細胞退化、死亡到一個程度，就可能出現臨床症狀。\\n海曼表示，好的脂肪對人體好，「你必須確保你得到很多的好脂肪，橄欖油就是一個好辦法」。\\n海曼指出，包括杏仁、腰果、胡桃等堅果，都能夠降低糖尿病風險、改善健康和增進餘命。堅果富含纖維，能增加飽足感、讓人保持活力充沛更長的時間。\\nBlue Zones LLC創辦人布特納（Dan Buettner）在藍區研究中也發現，堅果是長壽地區居民飲食的核心，據說藍區民眾每天都會吃一把。\\n海曼表示，莓果包含許多抗氧化劑和植物化學成份，可以「啟動長壽通道」，包括讓腸道更健康、對抗發炎、降低心臟病及其他威脅生命的慢性病風險。\\n他建議每天早上丟一把藍莓或黑莓到蔬果昔裡面，或直接抓幾把來吃。\\n茶技術上不算是食物，但是海曼很重視每天喝茶這件事。一杯熱茶除了可以讓人鎮靜下來，而且也能降低氧化壓力。綠茶包含兒茶素，可以保護大腦，幫助我們良好地老化。\\n海曼在藍區之一的希臘伊卡利亞時，也觀察到當地居民時常狂喝野生鼠尾草茶。\\n（資料來源：Fortune、北醫）', 'link': 'https://www.cw.com.tw/article/5125063'}\n",
            "{'title': '與宏都拉斯斷交！台灣邦交國剩13個', 'image': 'https://storage.googleapis.com/www-cw-com-tw/article/202303/article-641f9d380e30d.jpg', 'publish_date': '\\n發布時間：2023-03-26\\n', 'content': '宏都拉斯總統卡斯楚（Xiomara Castro）之前已在15日早上的一則推文，表示已經指示外交部長處理和中國正式建立外交關係事宜。預告即將與台灣斷交。\\n26日宏都拉斯官方正式宣布斷交，台灣的邦交國將從目前的14個再減一，剩下13國。\\n根據《紐約時報》，宏都拉斯表示尋求與中國建交，是為了尋求投資，以克服國家面臨的挑戰，宏都拉斯目前國家債務超過200億美元。\\n外交部長吳釗燮表示，宏方要求台灣直接給錢，不是實際要求執行合作計畫。包括9000萬美元蓋醫院，3.5億美元蓋水壩，同時負擔20億美元國債。\\n宏都拉斯外交部的聲明直接表示，「台灣是中國領土不可分割的一部分，」承諾不再與台灣建立任何官方關係。\\n宏都拉斯位於中美洲，西與瓜地馬拉和薩爾瓦多交界，東南與尼加拉瓜接壤，北臨加勒比海。人口約950萬人，現任總統卡斯楚是宏都拉斯首位女性元首，兩年前卡斯楚競選總統時，就承諾要與北京當局建立關係，「打算開放與中國的國際關係，這有助於加入中國這個世界上成長最快的市場，」卡斯楚2021年時就做此打算。\\n台灣的邦交國數從2017年初的21個，到現在扣掉宏都拉斯，邦交國還剩下馬紹爾群島、諾魯、帛琉、吐瓦魯國、史瓦帝尼、教廷、貝里斯、瓜地馬拉、海地、巴拉圭、聖克里斯多福及尼維斯聯邦、聖露西亞、聖文森國。\\n上一個與台灣斷交的，也是中美洲國家，2021年底尼加拉瓜與台灣第二次斷交。\\n對台灣來說，「和小國建交，對台灣的國際地位還是很有意義的，」政大外交系教授盧建中接受《紐約時報》採訪時指出。\\n美國、日本等國，近期加大了對台灣的支持，美國總統拜登不只一次發言表示會支持台灣抵禦中國武力。許多同樣與強國為鄰的東歐國家，也對台灣釋出善意，包括捷克新總統在年初當選後，第一時間致電蔡英文總統，同樣引來中國跳腳。\\n宏都拉斯斷交時間點，選在蔡英文總統即將出訪瓜地馬拉和貝里斯前夕，中國目標就是要限制台灣在國際舞台的空間，外交部在9點半舉行記者會，表示不會屈服於中國的金錢外交。', 'link': 'https://www.cw.com.tw/article/5125196'}\n"
          ]
        }
      ]
    },
    {
      "cell_type": "code",
      "source": [
        "import csv\n",
        "\n",
        "csv_file = '天下雜誌_美國銀行.csv'\n",
        "csv_columns = ['title', 'image', 'publish_date', 'content', 'link']\n",
        "try:\n",
        "    with open(csv_file, 'w', newline='', encoding='utf-8') as csvfile:\n",
        "        writer = csv.DictWriter(csvfile, fieldnames=csv_columns)\n",
        "        writer.writeheader()\n",
        "        for data in articles:\n",
        "            writer.writerow(data)\n",
        "except IOError:\n",
        "    print(\"I/O error\")"
      ],
      "metadata": {
        "id": "pENfuRs-DpuR"
      },
      "execution_count": 46,
      "outputs": []
    },
    {
      "cell_type": "code",
      "source": [
        "#將 dict 轉換成 json 字串\n",
        "import json\n",
        "# Serializing json  \n",
        "json_object = json.dumps(articles, indent = 4, ensure_ascii=False).encode('utf-8').decode('utf-8')\n",
        "json_file = '天下雜誌_美國銀行.json'\n",
        "with open(json_file, 'w', encoding='utf-8') as f:\n",
        "    f.write(json_object)"
      ],
      "metadata": {
        "id": "NQG1LC7rEcjj"
      },
      "execution_count": 48,
      "outputs": []
    },
    {
      "cell_type": "markdown",
      "source": [],
      "metadata": {
        "id": "dGcHfoNvP3cj"
      }
    }
  ]
}