{
  "cells": [
    {
      "cell_type": "code",
      "execution_count": null,
      "metadata": {
        "colab": {
          "base_uri": "https://localhost:8080/"
        },
        "id": "Qx2-x52Jukta",
        "outputId": "4415de21-a552-4f40-afd5-97fdb600664e"
      },
      "outputs": [
        {
          "name": "stdout",
          "output_type": "stream",
          "text": [
            "Requirement already satisfied: requests in /usr/local/lib/python3.7/dist-packages (2.23.0)\n",
            "Requirement already satisfied: chardet<4,>=3.0.2 in /usr/local/lib/python3.7/dist-packages (from requests) (3.0.4)\n",
            "Requirement already satisfied: idna<3,>=2.5 in /usr/local/lib/python3.7/dist-packages (from requests) (2.10)\n",
            "Requirement already satisfied: urllib3!=1.25.0,!=1.25.1,<1.26,>=1.21.1 in /usr/local/lib/python3.7/dist-packages (from requests) (1.24.3)\n",
            "Requirement already satisfied: certifi>=2017.4.17 in /usr/local/lib/python3.7/dist-packages (from requests) (2021.10.8)\n"
          ]
        }
      ],
      "source": [
        "#安裝相關函式庫\n",
        "#!pip install requests"
      ]
    },
    {
      "cell_type": "code",
      "execution_count": null,
      "metadata": {
        "id": "ik4lks-CvyhA"
      },
      "outputs": [],
      "source": [
        "import requests\n",
        "from lxml import etree\n"
      ]
    },
    {
      "cell_type": "code",
      "execution_count": null,
      "metadata": {
        "id": "A7uNjPcyyBnr"
      },
      "outputs": [],
      "source": [
        "#可以從瀏覽器的開發者工具取得 request 的 header 資訊\n",
        "headers_Get = {\n",
        "        'User-Agent': 'Mozilla/5.0 (Macintosh; Intel Mac OS X 10_15_7) AppleWebKit/537.36 (KHTML, like Gecko) Chrome/100.0.4896.75 Safari/537.36'\n",
        "    }"
      ]
    },
    {
      "cell_type": "code",
      "execution_count": null,
      "metadata": {
        "id": "1ypo36eCxHkC"
      },
      "outputs": [],
      "source": [
        "#請求網頁\n",
        "def requestHtml(url):\n",
        "  s = requests.Session()\n",
        "  r = s.get(url, headers=headers_Get)\n",
        "  r.encoding = r.apparent_encoding\n",
        "  #print(r.text)\n",
        "  return etree.HTML(r.text)"
      ]
    },
    {
      "cell_type": "code",
      "execution_count": null,
      "metadata": {
        "colab": {
          "base_uri": "https://localhost:8080/"
        },
        "id": "XgJ7cG0VSOI1",
        "outputId": "e307d6f1-51ce-4797-9ab8-ad9e22c02d60"
      },
      "outputs": [
        {
          "name": "stdout",
          "output_type": "stream",
          "text": [
            "['https://news.ltn.com.tw/news/world/breakingnews/3893838', 'https://news.ltn.com.tw/news/world/breakingnews/3892829', 'https://news.ltn.com.tw/news/world/breakingnews/3893493', 'https://news.ltn.com.tw/news/world/breakingnews/3892625', 'https://news.ltn.com.tw/news/world/breakingnews/3892189', 'https://news.ltn.com.tw/news/world/breakingnews/3892538', 'https://ec.ltn.com.tw/article/breakingnews/3893662', 'https://news.ltn.com.tw/news/world/breakingnews/3892607', 'https://news.ltn.com.tw/news/world/breakingnews/3892596', 'https://news.ltn.com.tw/news/world/breakingnews/3891350']\n",
            "['普廷堅持5/9取勝《彭博》：俄軍恐在烏克蘭再次慘敗 - 自由時報', '德前總統籲「放棄舒適」挺烏克蘭過半數德國人不買單 - 自由時報', '烏克蘭2飛官獲釋情報局局長親自接見 - 自由時報', '烏克蘭稱2枚飛彈擊中「莫斯科號」 俄軍證實船艦嚴重受損', '通話曝光！ 俄軍強姦烏克蘭女性頻傳老婆還提醒「記得戴套」', '烏東大戰一觸即發！ 歐盟火力支援烏克蘭週三再批准158億', '抗俄開銷澤倫斯基：烏克蘭每月要燒掉2千億 - 自由財經', '烏克蘭再傳戰果「海王星飛彈」擊中俄軍艦「莫斯科號」 - 國際', '拜登加碼8億美元軍援挺烏克蘭首度提供榴彈砲 - 自由時報', '烏親俄領袖被捕拜登控普廷試圖滅絕烏克蘭人（不斷更新 ...']\n"
          ]
        }
      ],
      "source": [
        "#限定搜尋結果(指定網站)\n",
        "url = 'https://www.google.com/search?q=%E7%83%8F%E5%85%8B%E8%98%AD+site%3Altn.com.tw&oq=%E7%83%8F%E5%85%8B%E8%98%AD+site%3Altn.com.tw&aqs=chrome..69i57.9993j0j4&sourceid=chrome&ie=UTF-8'\n",
        "dom = requestHtml(url)\n",
        "\n",
        "links = dom.xpath('//h3/parent::a/@href')\n",
        "titles = dom.xpath('//h3/text()')\n",
        "\n",
        "print(links)\n",
        "print(titles)"
      ]
    },
    {
      "cell_type": "code",
      "execution_count": null,
      "metadata": {
        "colab": {
          "base_uri": "https://localhost:8080/"
        },
        "id": "S5IaJjW-VbsI",
        "outputId": "bbe4896c-41b1-4a56-a29d-cd3c057ea8cf"
      },
      "outputs": [
        {
          "name": "stdout",
          "output_type": "stream",
          "text": [
            "['/search?q=%E7%83%8F%E5%85%8B%E8%98%AD+site:ltn.com.tw&ei=JLJYYoTeNcnSsAfVjpJQ&start=10&sa=N&ved=2ahUKEwiEgI2i3pT3AhVJKewKHVWHBAoQ8NMDegQIARBP']\n"
          ]
        }
      ],
      "source": [
        "#下一頁 \n",
        "#//span[text()='下一頁']/parent::a/@href\n",
        "#//span[contains(text(),'下一頁')]\n",
        "nextPage = dom.xpath('//a[@id=\"pnnext\"]/@href')\n",
        "print(nextPage)"
      ]
    },
    {
      "cell_type": "code",
      "execution_count": null,
      "metadata": {
        "colab": {
          "base_uri": "https://localhost:8080/"
        },
        "id": "my-RIhOacA0G",
        "outputId": "77ea2773-236c-4c83-b105-3aaa2bc32b1a"
      },
      "outputs": [
        {
          "name": "stdout",
          "output_type": "stream",
          "text": [
            "20\n",
            "20\n"
          ]
        }
      ],
      "source": [
        "#這樣只能一頁\n",
        "if nextPage:\n",
        "  dom = requestHtml('https://www.google.com' + nextPage[0])\n",
        "\n",
        "links += dom.xpath('//h3/parent::a/@href')\n",
        "titles += dom.xpath('//h3/text()')\n",
        "\n",
        "print(len(links))\n",
        "print(len(titles))"
      ]
    },
    {
      "cell_type": "code",
      "execution_count": null,
      "metadata": {
        "id": "G9XejC6Wco2g"
      },
      "outputs": [],
      "source": [
        "#當有下一頁時，就一直爬取\n",
        "while nextPage:\n",
        "  dom = requestHtml('https://www.google.com' + nextPage[0])\n",
        "\n",
        "  links += dom.xpath('//h3/parent::a/@href')\n",
        "  titles += dom.xpath('//h3/text()')\n",
        "\n",
        "  print(len(links))\n",
        "  print(len(titles))\n",
        "\n",
        "  nextPage = dom.xpath('//a[@id=\"pnnext\"]/@href')\n"
      ]
    },
    {
      "cell_type": "code",
      "execution_count": null,
      "metadata": {
        "colab": {
          "base_uri": "https://localhost:8080/"
        },
        "id": "SKiLyj_EesoT",
        "outputId": "bbeba0de-2d6b-482d-f090-733337a4db59"
      },
      "outputs": [
        {
          "name": "stdout",
          "output_type": "stream",
          "text": [
            "https://news.ltn.com.tw/news/world/breakingnews/3893838\n",
            "https://news.ltn.com.tw/news/world/breakingnews/3892829\n",
            "https://news.ltn.com.tw/news/world/breakingnews/3893493\n",
            "https://news.ltn.com.tw/news/world/breakingnews/3892625\n",
            "https://news.ltn.com.tw/news/world/breakingnews/3892189\n",
            "https://news.ltn.com.tw/news/world/breakingnews/3892538\n",
            "https://ec.ltn.com.tw/article/breakingnews/3893662\n",
            "https://news.ltn.com.tw/news/world/breakingnews/3892607\n",
            "https://news.ltn.com.tw/news/world/breakingnews/3892596\n",
            "https://news.ltn.com.tw/news/world/breakingnews/3891350\n",
            "https://news.ltn.com.tw/news/world/breakingnews/3893019\n",
            "https://news.ltn.com.tw/news/world/breakingnews/3890862\n",
            "https://news.ltn.com.tw/news/world/breakingnews/3892505\n",
            "https://news.ltn.com.tw/news/world/breakingnews/3890150\n",
            "https://news.ltn.com.tw/news/world/breakingnews/3892573\n",
            "https://news.ltn.com.tw/news/world/breakingnews/3890429\n",
            "https://ec.ltn.com.tw/article/breakingnews/3893256\n",
            "https://news.ltn.com.tw/news/world/breakingnews/3893840\n",
            "https://news.ltn.com.tw/news/world/breakingnews/3892242\n",
            "https://news.ltn.com.tw/news/world/breakingnews/3892411\n",
            "https://news.ltn.com.tw/news/world/breakingnews/3893019\n",
            "https://news.ltn.com.tw/news/world/breakingnews/3890862\n",
            "https://news.ltn.com.tw/news/world/breakingnews/3892505\n",
            "https://news.ltn.com.tw/news/world/breakingnews/3890150\n",
            "https://news.ltn.com.tw/news/world/breakingnews/3892573\n",
            "https://news.ltn.com.tw/news/world/breakingnews/3890429\n",
            "https://ec.ltn.com.tw/article/breakingnews/3893256\n",
            "https://news.ltn.com.tw/news/world/breakingnews/3893840\n",
            "https://news.ltn.com.tw/news/world/breakingnews/3892242\n",
            "https://news.ltn.com.tw/news/world/breakingnews/3892411\n",
            "https://news.ltn.com.tw/news/world/breakingnews/3889826\n",
            "https://news.ltn.com.tw/news/world/breakingnews/3891936\n",
            "https://news.ltn.com.tw/news/world/breakingnews/3890057\n",
            "https://news.ltn.com.tw/news/world/breakingnews/3890741\n",
            "https://news.ltn.com.tw/news/world/breakingnews/3893793\n",
            "https://news.ltn.com.tw/news/world/breakingnews/3892520\n",
            "https://talk.ltn.com.tw/article/breakingnews/3890579\n",
            "https://news.ltn.com.tw/news/world/breakingnews/3888961\n",
            "https://news.ltn.com.tw/news/world/breakingnews/3892570\n",
            "https://news.ltn.com.tw/news/world/breakingnews/3889986\n",
            "https://news.ltn.com.tw/news/world/breakingnews/3890024\n",
            "https://news.ltn.com.tw/news/world/breakingnews/3891445\n",
            "https://news.ltn.com.tw/news/world/breakingnews/3892475\n",
            "https://news.ltn.com.tw/news/world/breakingnews/3890390\n",
            "https://news.ltn.com.tw/news/world/breakingnews/3891324\n",
            "https://news.ltn.com.tw/news/world/breakingnews/3891938\n",
            "https://news.ltn.com.tw/news/world/breakingnews/3890486\n",
            "https://news.ltn.com.tw/news/world/breakingnews/3892639\n",
            "https://news.ltn.com.tw/news/world/breakingnews/3890797\n",
            "https://news.ltn.com.tw/news/world/breakingnews/3889391\n",
            "https://news.ltn.com.tw/news/world/breakingnews/3890791\n",
            "https://news.ltn.com.tw/news/world/breakingnews/3891258\n",
            "https://news.ltn.com.tw/news/world/breakingnews/3892500\n",
            "https://news.ltn.com.tw/news/world/breakingnews/3891296\n",
            "https://news.ltn.com.tw/news/world/breakingnews/3891233\n",
            "https://news.ltn.com.tw/news/world/breakingnews/3889059\n",
            "https://news.ltn.com.tw/news/world/breakingnews/3890044\n",
            "https://news.ltn.com.tw/news/world/breakingnews/3889270\n",
            "https://news.ltn.com.tw/news/world/breakingnews/3889485\n",
            "https://news.ltn.com.tw/news/world/breakingnews/3889153\n",
            "https://news.ltn.com.tw/news/world/breakingnews/3890450\n",
            "https://news.ltn.com.tw/news/world/breakingnews/3889940\n",
            "https://news.ltn.com.tw/news/world/breakingnews/3888410\n",
            "https://news.ltn.com.tw/news/world/breakingnews/3888917\n",
            "https://news.ltn.com.tw/news/world/breakingnews/3888868\n",
            "https://ec.ltn.com.tw/article/breakingnews/3888267\n",
            "https://news.ltn.com.tw/news/world/breakingnews/3892551\n",
            "https://news.ltn.com.tw/news/world/breakingnews/3887880\n",
            "https://news.ltn.com.tw/news/world/breakingnews/3891366\n",
            "https://news.ltn.com.tw/topic/%E7%83%8F%E5%85%8B%E8%98%AD\n",
            "https://news.ltn.com.tw/news/world/breakingnews/3887321\n",
            "https://news.ltn.com.tw/news/world/breakingnews/3887350\n",
            "https://news.ltn.com.tw/news/world/breakingnews/3883533\n",
            "https://ec.ltn.com.tw/article/breakingnews/3888749\n",
            "https://news.ltn.com.tw/news/world/breakingnews/3883252\n",
            "https://news.ltn.com.tw/news/world/breakingnews/3882878\n",
            "https://news.ltn.com.tw/news/world/breakingnews/3885881\n",
            "https://news.ltn.com.tw/news/world/breakingnews/3884098\n",
            "https://news.ltn.com.tw/news/world/breakingnews/3846717\n",
            "https://news.ltn.com.tw/news/world/breakingnews/3843248\n",
            "https://news.ltn.com.tw/news/world/breakingnews/3866475\n",
            "https://news.ltn.com.tw/news/world/breakingnews/3801777\n",
            "https://news.ltn.com.tw/news/world/breakingnews/3837007\n",
            "https://news.ltn.com.tw/news/world/breakingnews/3758210\n",
            "https://news.ltn.com.tw/news/world/breakingnews/3745214\n",
            "https://news.ltn.com.tw/news/politics/breakingnews/3840337\n",
            "https://news.ltn.com.tw/news/world/breakingnews/3854626\n",
            "https://news.ltn.com.tw/news/world/breakingnews/3876109\n",
            "https://news.ltn.com.tw/news/world/breakingnews/3834547\n",
            "https://news.ltn.com.tw/news/world/breakingnews/3864647\n",
            "https://news.ltn.com.tw/news/world/breakingnews/3838993\n",
            "https://news.ltn.com.tw/news/world/breakingnews/3854379\n",
            "https://news.ltn.com.tw/news/world/breakingnews/3872687\n",
            "https://news.ltn.com.tw/news/world/breakingnews/3850965\n",
            "https://talk.ltn.com.tw/article/paper/1500769\n",
            "https://news.ltn.com.tw/news/world/breakingnews/3856752\n",
            "https://news.ltn.com.tw/news/world/breakingnews/3839623\n",
            "https://news.ltn.com.tw/news/world/breakingnews/3822557\n",
            "https://talk.ltn.com.tw/article/paper/1502818\n",
            "https://ec.ltn.com.tw/article/breakingnews/3865245\n",
            "https://news.ltn.com.tw/news/politics/breakingnews/3857536\n",
            "https://news.ltn.com.tw/news/world/breakingnews/3891930\n",
            "https://news.ltn.com.tw/news/world/breakingnews/3881703\n",
            "https://news.ltn.com.tw/news/world/breakingnews/3839428\n",
            "https://ec.ltn.com.tw/article/breakingnews/3855205\n",
            "https://news.ltn.com.tw/news/world/breakingnews/3888577\n",
            "https://ec.ltn.com.tw/article/breakingnews/3795929\n",
            "https://news.ltn.com.tw/news/world/breakingnews/3852085\n",
            "https://news.ltn.com.tw/news/world/breakingnews/3839920\n",
            "https://news.ltn.com.tw/news/world/breakingnews/3888348\n",
            "https://news.ltn.com.tw/news/world/breakingnews/3873322\n",
            "https://ec.ltn.com.tw/article/breakingnews/3878753\n",
            "https://news.ltn.com.tw/news/world/breakingnews/3883565\n",
            "https://news.ltn.com.tw/news/world/breakingnews/3882346\n",
            "https://news.ltn.com.tw/news/world/breakingnews/3840338\n",
            "https://news.ltn.com.tw/news/world/breakingnews/3858723\n",
            "https://news.ltn.com.tw/news/world/breakingnews/3857808\n",
            "https://news.ltn.com.tw/news/world/breakingnews/3839196\n",
            "https://news.ltn.com.tw/news/world/breakingnews/3843736\n",
            "https://news.ltn.com.tw/news/world/breakingnews/3835907\n",
            "https://news.ltn.com.tw/news/world/breakingnews/3842262\n",
            "https://news.ltn.com.tw/news/world/breakingnews/3874499\n",
            "https://news.ltn.com.tw/news/world/breakingnews/3839454\n",
            "https://news.ltn.com.tw/news/world/breakingnews/3846949\n",
            "https://news.ltn.com.tw/news/world/breakingnews/3885954\n",
            "https://news.ltn.com.tw/news/politics/breakingnews/3840636\n",
            "https://news.ltn.com.tw/news/world/breakingnews/3869899\n",
            "https://news.ltn.com.tw/news/world/breakingnews/3821523\n",
            "https://news.ltn.com.tw/news/world/breakingnews/3835871\n",
            "https://talk.ltn.com.tw/article/paper/1502488\n",
            "https://news.ltn.com.tw/news/world/breakingnews/3857531\n",
            "https://news.ltn.com.tw/news/world/breakingnews/3888272\n",
            "https://news.ltn.com.tw/news/world/breakingnews/3846581\n",
            "https://news.ltn.com.tw/news/world/breakingnews/3854434\n",
            "https://news.ltn.com.tw/news/world/breakingnews/3840115\n",
            "https://news.ltn.com.tw/news/world/breakingnews/3840793\n",
            "https://news.ltn.com.tw/news/world/breakingnews/3840878\n",
            "https://news.ltn.com.tw/news/world/breakingnews/3842388\n",
            "https://news.ltn.com.tw/news/world/breakingnews/3842398\n",
            "https://news.ltn.com.tw/news/politics/breakingnews/3841845\n",
            "https://news.ltn.com.tw/news/world/breakingnews/3871158\n",
            "https://news.ltn.com.tw/news/world/breakingnews/3874046\n",
            "https://news.ltn.com.tw/news/politics/breakingnews/3842409\n",
            "https://news.ltn.com.tw/news/world/breakingnews/3840049\n",
            "https://news.ltn.com.tw/news/politics/breakingnews/3843246\n",
            "https://news.ltn.com.tw/news/world/breakingnews/3853297\n",
            "https://news.ltn.com.tw/news/world/breakingnews/3840652\n",
            "https://news.ltn.com.tw/news/world/breakingnews/3819377\n",
            "https://news.ltn.com.tw/news/world/breakingnews/3807060\n",
            "https://news.ltn.com.tw/news/politics/breakingnews/3841839\n",
            "https://news.ltn.com.tw/news/world/breakingnews/3876102\n",
            "https://news.ltn.com.tw/news/world/breakingnews/3762019\n",
            "https://news.ltn.com.tw/news/world/breakingnews/3842646\n",
            "https://news.ltn.com.tw/news/politics/breakingnews/3840672\n",
            "https://news.ltn.com.tw/news/world/paper/1511220\n",
            "https://news.ltn.com.tw/news/world/paper/1504828\n",
            "https://news.ltn.com.tw/news/world/breakingnews/3875122\n",
            "https://news.ltn.com.tw/news/world/breakingnews/3873432\n",
            "https://news.ltn.com.tw/news/world/breakingnews/3840128\n",
            "https://news.ltn.com.tw/news/world/breakingnews/3856714\n",
            "https://news.ltn.com.tw/news/world/breakingnews/3835720\n",
            "https://news.ltn.com.tw/news/politics/breakingnews/3844745\n",
            "https://news.ltn.com.tw/news/world/breakingnews/3831168\n",
            "https://news.ltn.com.tw/news/world/breakingnews/3884534\n",
            "https://news.ltn.com.tw/news/politics/breakingnews/3812330\n",
            "https://news.ltn.com.tw/news/world/breakingnews/3881850\n",
            "https://news.ltn.com.tw/news/world/breakingnews/3755110\n",
            "https://talk.ltn.com.tw/article/breakingnews/3849485\n",
            "https://news.ltn.com.tw/news/world/breakingnews/3841771\n",
            "https://ec.ltn.com.tw/article/breakingnews/3879149\n",
            "https://news.ltn.com.tw/news/world/breakingnews/3839511\n",
            "https://news.ltn.com.tw/news/world/breakingnews/3881024\n",
            "https://news.ltn.com.tw/news/world/breakingnews/3887337\n",
            "https://news.ltn.com.tw/news/world/breakingnews/3842281\n",
            "https://news.ltn.com.tw/news/world/breakingnews/3842322\n",
            "https://news.ltn.com.tw/news/world/breakingnews/3859608\n",
            "https://news.ltn.com.tw/news/world/breakingnews/3873824\n",
            "https://news.ltn.com.tw/news/world/breakingnews/3745261\n",
            "https://news.ltn.com.tw/news/world/breakingnews/3840762\n",
            "https://news.ltn.com.tw/news/world/breakingnews/3841835\n",
            "https://news.ltn.com.tw/news/world/breakingnews/3843814\n",
            "https://news.ltn.com.tw/news/world/breakingnews/3892702\n",
            "https://news.ltn.com.tw/news/world/breakingnews/3849680\n",
            "https://news.ltn.com.tw/news/world/breakingnews/3806380\n",
            "https://news.ltn.com.tw/news/world/breakingnews/3847910\n",
            "https://news.ltn.com.tw/news/world/breakingnews/3842087\n",
            "https://news.ltn.com.tw/news/world/breakingnews/3843381\n",
            "https://news.ltn.com.tw/news/world/breakingnews/3842850\n",
            "https://news.ltn.com.tw/news/world/breakingnews/3837168\n",
            "https://news.ltn.com.tw/news/world/breakingnews/3871208\n",
            "https://news.ltn.com.tw/news/world/breakingnews/3889948\n",
            "https://news.ltn.com.tw/news/world/breakingnews/3843752\n",
            "https://news.ltn.com.tw/news/world/breakingnews/3889653\n",
            "https://news.ltn.com.tw/news/world/breakingnews/3829508\n",
            "https://news.ltn.com.tw/news/world/breakingnews/3886954\n",
            "https://news.ltn.com.tw/news/world/breakingnews/3889892\n",
            "https://news.ltn.com.tw/news/world/breakingnews/3844109\n",
            "https://news.ltn.com.tw/news/world/breakingnews/3887300\n",
            "https://news.ltn.com.tw/news/politics/breakingnews/3847248\n",
            "https://news.ltn.com.tw/news/politics/breakingnews/3845636\n",
            "https://news.ltn.com.tw/news/world/breakingnews/3882030\n",
            "https://news.ltn.com.tw/news/world/breakingnews/3892602\n",
            "https://news.ltn.com.tw/news/world/breakingnews/3842460\n",
            "https://news.ltn.com.tw/news/world/breakingnews/3887332\n",
            "https://news.ltn.com.tw/news/world/breakingnews/3842010\n",
            "https://news.ltn.com.tw/news/world/breakingnews/3845378\n",
            "https://news.ltn.com.tw/news/world/breakingnews/3892581\n",
            "https://news.ltn.com.tw/news/world/breakingnews/3890490\n",
            "https://ec.ltn.com.tw/article/breakingnews/3888307\n",
            "https://news.ltn.com.tw/news/world/breakingnews/3880652\n",
            "https://news.ltn.com.tw/news/world/breakingnews/3886897\n",
            "https://news.ltn.com.tw/news/world/breakingnews/3872398\n",
            "https://news.ltn.com.tw/news/world/breakingnews/3893701\n",
            "https://news.ltn.com.tw/news/world/breakingnews/3890112\n",
            "https://news.ltn.com.tw/news/world/breakingnews/3891267\n",
            "https://news.ltn.com.tw/news/world/breakingnews/3881533\n",
            "https://news.ltn.com.tw/news/world/breakingnews/3889088\n",
            "https://news.ltn.com.tw/news/world/breakingnews/3883608\n",
            "https://news.ltn.com.tw/news/world/breakingnews/3892523\n",
            "https://news.ltn.com.tw/news/world/breakingnews/3889912\n",
            "https://news.ltn.com.tw/news/world/breakingnews/3890101\n",
            "https://news.ltn.com.tw/news/world/breakingnews/3892524\n",
            "https://news.ltn.com.tw/news/world/breakingnews/3882582\n",
            "https://news.ltn.com.tw/news/world/breakingnews/3888134\n",
            "https://news.ltn.com.tw/news/world/breakingnews/3890036\n",
            "https://news.ltn.com.tw/news/world/breakingnews/3883489\n",
            "https://news.ltn.com.tw/news/world/breakingnews/3892697\n",
            "https://news.ltn.com.tw/news/world/breakingnews/3883601\n",
            "https://news.ltn.com.tw/news/world/breakingnews/3890686\n",
            "https://news.ltn.com.tw/news/world/breakingnews/3887075\n",
            "https://news.ltn.com.tw/news/world/breakingnews/3893625\n",
            "https://news.ltn.com.tw/news/world/breakingnews/3886997\n",
            "https://news.ltn.com.tw/news/world/breakingnews/3892658\n",
            "https://video.ltn.com.tw/article/4QlNKabWizw/PLI7xntdRxhw3Qcbd70QE2FRWgpOQ-hBHO\n",
            "https://news.ltn.com.tw/news/world/breakingnews/3874990\n",
            "https://news.ltn.com.tw/news/world/breakingnews/3892723\n",
            "https://news.ltn.com.tw/news/world/breakingnews/3888143\n",
            "https://news.ltn.com.tw/news/world/breakingnews/3888132\n",
            "https://news.ltn.com.tw/news/world/breakingnews/3888923\n",
            "https://news.ltn.com.tw/news/world/breakingnews/3890787\n",
            "https://news.ltn.com.tw/news/world/breakingnews/3892567\n",
            "https://news.ltn.com.tw/news/politics/paper/1509473\n",
            "https://news.ltn.com.tw/news/world/breakingnews/3880973\n",
            "https://news.ltn.com.tw/news/world/breakingnews/3867011\n",
            "https://news.ltn.com.tw/news/world/breakingnews/3891211\n",
            "https://news.ltn.com.tw/news/politics/breakingnews/3846490\n",
            "https://news.ltn.com.tw/news/world/breakingnews/3867232\n",
            "https://news.ltn.com.tw/news/world/breakingnews/3857845\n",
            "https://news.ltn.com.tw/news/world/breakingnews/3880197\n",
            "https://news.ltn.com.tw/news/world/breakingnews/3860953\n",
            "https://news.ltn.com.tw/news/world/breakingnews/3860415\n",
            "https://news.ltn.com.tw/news/world/breakingnews/3879901\n",
            "https://news.ltn.com.tw/news/world/breakingnews/3891309\n",
            "https://ec.ltn.com.tw/article/breakingnews/3865322\n",
            "https://news.ltn.com.tw/news/world/breakingnews/3880182\n",
            "https://news.ltn.com.tw/news/world/breakingnews/3878628\n",
            "https://news.ltn.com.tw/news/world/breakingnews/3891327\n",
            "https://talk.ltn.com.tw/article/breakingnews/3858524\n",
            "https://news.ltn.com.tw/news/world/breakingnews/3874069\n",
            "https://news.ltn.com.tw/news/world/breakingnews/3878745\n",
            "https://video.ltn.com.tw/article/CRdcgeK9fkI/PLI7xntdRxhw3Qcbd70QE2FRWgpOQ-hBHO\n",
            "https://news.ltn.com.tw/news/world/breakingnews/3873773\n",
            "https://talk.ltn.com.tw/article/paper/1504606\n",
            "https://news.ltn.com.tw/news/world/breakingnews/3875101\n",
            "https://news.ltn.com.tw/news/world/breakingnews/3893819\n",
            "https://news.ltn.com.tw/news/world/breakingnews/3893608\n",
            "https://news.ltn.com.tw/news/life/breakingnews/3892191\n",
            "https://news.ltn.com.tw/news/world/breakingnews/3852158\n",
            "https://news.ltn.com.tw/news/world/breakingnews/3869970\n",
            "https://news.ltn.com.tw/news/world/breakingnews/3889570\n",
            "https://news.ltn.com.tw/news/world/breakingnews/3851944\n",
            "https://news.ltn.com.tw/news/world/breakingnews/3872587\n",
            "https://news.ltn.com.tw/news/world/breakingnews/3893087\n",
            "https://news.ltn.com.tw/news/world/breakingnews/3872332\n",
            "https://talk.ltn.com.tw/article/breakingnews/3871129\n",
            "https://news.ltn.com.tw/news/world/breakingnews/3868513\n",
            "https://news.ltn.com.tw/news/world/breakingnews/3868352\n",
            "https://news.ltn.com.tw/news/world/breakingnews/3892684\n",
            "https://news.ltn.com.tw/news/world/breakingnews/3867812\n",
            "https://news.ltn.com.tw/news/world/breakingnews/3893208\n",
            "https://news.ltn.com.tw/news/world/breakingnews/3863590\n",
            "https://news.ltn.com.tw/news/world/breakingnews/3845408\n",
            "https://ec.ltn.com.tw/article/breakingnews/3858310\n",
            "https://news.ltn.com.tw/news/world/breakingnews/3892083\n",
            "https://news.ltn.com.tw/news/world/breakingnews/3859620\n",
            "https://news.ltn.com.tw/news/world/breakingnews/3847096\n",
            "https://news.ltn.com.tw/news/politics/paper/1505520\n",
            "https://news.ltn.com.tw/news/world/breakingnews/3859410\n",
            "https://news.ltn.com.tw/news/world/breakingnews/3842599\n",
            "https://news.ltn.com.tw/news/world/breakingnews/3860864\n",
            "https://news.ltn.com.tw/news/world/breakingnews/3843393\n",
            "https://news.ltn.com.tw/news/world/breakingnews/3859653\n",
            "https://news.ltn.com.tw/news/world/breakingnews/3851963\n",
            "https://news.ltn.com.tw/news/world/breakingnews/3860897\n",
            "https://news.ltn.com.tw/news/politics/breakingnews/3845012\n",
            "https://news.ltn.com.tw/news/world/breakingnews/3845274\n",
            "https://news.ltn.com.tw/news/world/breakingnews/3850827\n",
            "https://news.ltn.com.tw/news/world/paper/1502486\n",
            "https://news.ltn.com.tw/news/world/paper/1503305\n",
            "https://news.ltn.com.tw/news/world/breakingnews/3851781\n",
            "https://news.ltn.com.tw/news/world/breakingnews/3851381\n",
            "https://news.ltn.com.tw/news/world/breakingnews/3855340\n",
            "https://news.ltn.com.tw/news/politics/breakingnews/3850354\n",
            "https://news.ltn.com.tw/news/world/breakingnews/3855988\n",
            "https://news.ltn.com.tw/news/world/breakingnews/3851914\n",
            "https://news.ltn.com.tw/news/world/breakingnews/3849236\n",
            "https://news.ltn.com.tw/news/world/breakingnews/3852956\n",
            "https://news.ltn.com.tw/news/world/paper/1504946\n",
            "https://news.ltn.com.tw/news/world/breakingnews/3853389\n",
            "https://news.ltn.com.tw/news/world/breakingnews/3835596\n",
            "https://talk.ltn.com.tw/article/breakingnews/3844524\n",
            "https://news.ltn.com.tw/news/world/breakingnews/3854036\n",
            "https://news.ltn.com.tw/news/world/breakingnews/3853006\n",
            "https://news.ltn.com.tw/news/world/breakingnews/3889938\n",
            "https://news.ltn.com.tw/news/world/breakingnews/3849244\n",
            "https://news.ltn.com.tw/news/world/paper/1500637\n",
            "https://news.ltn.com.tw/news/world/breakingnews/3843331\n",
            "https://news.ltn.com.tw/news/world/breakingnews/3821317\n",
            "https://news.ltn.com.tw/news/world/breakingnews/3842094\n",
            "https://news.ltn.com.tw/news/world/breakingnews/3840745\n",
            "https://news.ltn.com.tw/news/world/breakingnews/3840358\n",
            "https://news.ltn.com.tw/news/world/breakingnews/3835211\n",
            "https://news.ltn.com.tw/news/world/breakingnews/3840746\n",
            "https://news.ltn.com.tw/news/world/paper/1500318\n",
            "https://news.ltn.com.tw/news/world/breakingnews/3845447\n",
            "https://news.ltn.com.tw/news/world/breakingnews/3846834\n",
            "https://talk.ltn.com.tw/article/breakingnews/3846673\n",
            "https://art.ltn.com.tw/article/breakingnews/3893719\n",
            "https://news.ltn.com.tw/news/politics/paper/1501662\n",
            "https://news.ltn.com.tw/news/world/breakingnews/3846667\n",
            "https://news.ltn.com.tw/news/world/breakingnews/3844204\n",
            "https://talk.ltn.com.tw/article/paper/1503223\n",
            "https://news.ltn.com.tw/news/world/breakingnews/3840794\n",
            "https://news.ltn.com.tw/news/world/breakingnews/3843992\n",
            "https://news.ltn.com.tw/news/world/breakingnews/3828116\n",
            "https://news.ltn.com.tw/news/world/breakingnews/3814546\n",
            "https://news.ltn.com.tw/news/world/breakingnews/3840685\n",
            "https://talk.ltn.com.tw/article/breakingnews/3809702\n",
            "https://news.ltn.com.tw/news/world/breakingnews/3830722\n",
            "https://news.ltn.com.tw/news/world/breakingnews/3843201\n",
            "https://news.ltn.com.tw/news/world/breakingnews/3843294\n",
            "https://news.ltn.com.tw/news/world/breakingnews/3835079\n",
            "https://news.ltn.com.tw/news/politics/breakingnews/3842512\n",
            "https://ec.ltn.com.tw/article/breakingnews/3840293\n",
            "https://news.ltn.com.tw/news/world/breakingnews/3840750\n",
            "https://news.ltn.com.tw/news/world/breakingnews/3843302\n",
            "https://news.ltn.com.tw/news/world/breakingnews/3834549\n",
            "https://news.ltn.com.tw/news/world/paper/1502586\n",
            "https://news.ltn.com.tw/news/world/breakingnews/3841820\n",
            "https://news.ltn.com.tw/news/world/breakingnews/3834575\n",
            "https://news.ltn.com.tw/news/world/breakingnews/3820995\n",
            "https://news.ltn.com.tw/news/world/breakingnews/3811615\n",
            "https://news.ltn.com.tw/news/world/breakingnews/3817562\n",
            "https://news.ltn.com.tw/news/world/breakingnews/3810861\n",
            "https://news.ltn.com.tw/news/world/breakingnews/3841852\n",
            "https://news.ltn.com.tw/news/world/breakingnews/3841780\n",
            "https://news.ltn.com.tw/news/world/breakingnews/3842657\n",
            "https://news.ltn.com.tw/news/world/breakingnews/3843676\n",
            "https://talk.ltn.com.tw/article/breakingnews/3830366\n",
            "https://news.ltn.com.tw/news/world/breakingnews/3843265\n",
            "https://news.ltn.com.tw/news/world/breakingnews/3840614\n",
            "https://news.ltn.com.tw/news/world/breakingnews/3841875\n",
            "https://talk.ltn.com.tw/article/paper/1502057\n",
            "https://news.ltn.com.tw/news/world/breakingnews/3832873\n",
            "https://talk.ltn.com.tw/article/breakingnews/3838197\n",
            "https://news.ltn.com.tw/news/world/breakingnews/3839442\n",
            "https://news.ltn.com.tw/news/world/breakingnews/3840372\n",
            "https://news.ltn.com.tw/news/world/breakingnews/3843991\n",
            "https://news.ltn.com.tw/news/world/breakingnews/3827343\n",
            "https://news.ltn.com.tw/news/world/breakingnews/3833966\n",
            "https://news.ltn.com.tw/news/world/breakingnews/3757553\n",
            "https://news.ltn.com.tw/news/world/breakingnews/3832561\n",
            "https://news.ltn.com.tw/news/world/breakingnews/3807969\n",
            "https://news.ltn.com.tw/news/world/breakingnews/3814535\n",
            "https://news.ltn.com.tw/news/world/breakingnews/3822124\n"
          ]
        }
      ],
      "source": [
        "for link in links:\n",
        "  print(link)"
      ]
    },
    {
      "cell_type": "code",
      "execution_count": null,
      "metadata": {
        "colab": {
          "base_uri": "https://localhost:8080/"
        },
        "id": "XkdGRQDogI51",
        "outputId": "691f2e10-9ae2-4f4b-d287-10352a605684"
      },
      "outputs": [
        {
          "name": "stdout",
          "output_type": "stream",
          "text": [
            "365\n",
            "365\n"
          ]
        }
      ],
      "source": [
        "print(len(links))\n",
        "#去除重複\n",
        "links = list(dict.fromkeys(links))\n",
        "print(len(links))"
      ]
    },
    {
      "cell_type": "code",
      "execution_count": null,
      "metadata": {
        "colab": {
          "base_uri": "https://localhost:8080/"
        },
        "id": "wL75ACI6iU0m",
        "outputId": "ff4fab3f-7777-4570-e937-b45acf9cd78a"
      },
      "outputs": [
        {
          "name": "stdout",
          "output_type": "stream",
          "text": [
            "<class 'list'>\n",
            "https://news.ltn.com.tw/news/world/breakingnews/3893838\n",
            "{'title': ['普廷堅持5/9取勝 《彭博》：俄軍恐在烏克蘭再次慘敗'], 'image': ['https://img.ltn.com.tw/Upload/news/600/2022/04/14/3893838_1_1.jpg'], 'publish_date': [<Element span at 0x7fce4d075b40>], 'content': '首次上稿 04-14 23:44\\n更新時間 04-15 06:23\\n〔編譯楊芙宜／台北報導〕《彭博》報導，如果俄國仍試圖爭取在5月9日前取得在烏克蘭戰爭的某種勝利，可能重蹈之前失誤，再次慘敗；據專家分析，受限於天氣條件，需要後勤準備工作、建立空中主導優勢、以及重新部署在基輔附近受挫的俄國部隊，需花更多時間才能奪回仍在烏克蘭控制下的頓巴斯（Donbas）其他地區。\\n請繼續往下閱讀...\\n報導指出，如果俄羅斯在春季地面泥濘的高峰期將部隊投入戰鬥，那將很難達到目的；屆時地面濕軟，卡車和移動火砲離開道路就可能陷住，這種情況在基輔以北曾發生過，導致一些俄國車隊滯留，易受攻擊。\\n一位不具名的莫斯科分析師表示，這個季節將在5月份結束，但可能來不及讓俄羅斯總統普廷在5月9日「勝利日」遊行前取得重大勝利。5月9日是俄羅斯慶祝在二次世界大戰蘇聯擊敗納粹德國的勝利日，莫斯科傳統會在當日舉行大閱兵。\\n知情歐洲和北約外交官表示，普廷下令發起攻勢之前，烏克蘭盟友認為有兩週的時間窗口，來悄悄調動重型武器如坦克等。歐盟外交和安全政策高級代表波瑞爾（Josep Borrell）13日表示，「未來幾週將是決定性的」。歐盟已決議再另撥5億歐元（約新台幣160.14億元），向烏克蘭提供軍事援助；這使歐盟軍援烏克蘭累計達到15億歐元（約新台幣480.45億元）。\\n俄羅斯官媒14日報導，其黑海艦隊旗艦「莫斯科號」因彈藥爆炸「嚴重受損」。烏克蘭南部軍事指揮部證實，俄軍這艘巡洋艦莫斯科號就是遭到烏軍2枚飛彈擊中而起火燃燒。\\n普廷似乎已認識到俄軍遭遇到慘烈傷亡，速度和傷亡之間的取捨是一個問題。普廷12日記者會上提到，自己經常被問到是否無法更快結束戰爭，「這是可能的。這取決於軍事行動的強度，不幸的是，軍事行動的強度總牽連損失」、「我們的任務是實現既定目標，並把損失降至最低」。\\n報導說，各方對俄軍迄今戰亡人數估計差異相當大，俄羅斯本身僅估計2343名士兵死亡，美國估計約在1萬人以上，北大西洋公約組織估計約介於7000人至1.5萬人，烏克蘭估計達1.98萬人。\\n俄軍現仍然無法占領如烏國哈爾科夫等主要城市，代表俄軍無法使用烏國主要公路來移動設備，只能被迫在較小、也更慢的道路上運送坦克和卡車。這位不具名的莫斯科分析師表示，這些地方更適合烏軍埋伏突襲，尤其是隨著樹木重新長出綠葉時，更是如此。\\n\\n    不用抽 不用搶 現在用APP看新聞 保證天天中獎\\u3000\\n    \\n\\u3000\\n    \\n\\n'}\n"
          ]
        }
      ],
      "source": [
        "print(type(links))\n",
        "print(links[0])\n",
        "\n",
        "dom = requestHtml(links[0])\n",
        "#取得標題、內文、發文日期、圖檔連結\n",
        "title = dom.xpath('//h1/text()')\n",
        "image = dom.xpath('//a[@class=\"image-popup-vertical-fit\"]/@href')\n",
        "publish_date = dom.xpath('//span[@class=\"time\"]/text()')\n",
        "content = dom.xpath('//span[@class=\"time\"]/following-sibling::p/text()')\n",
        "#連接 list 內的值，使用斷行 \\n\n",
        "content = '\\n'.join(content)\n",
        "#組成dict\n",
        "article = {\n",
        "    \"title\": title,\n",
        "    \"image\": image,\n",
        "    \"publish_date\": publish_date,\n",
        "    \"content\": content\n",
        "}\n",
        "\n",
        "print(article)"
      ]
    },
    {
      "cell_type": "code",
      "execution_count": null,
      "metadata": {
        "id": "r6lFBHfEnvn8"
      },
      "outputs": [],
      "source": [
        "def composeArticle(dom, link):\n",
        "  #取得標題、內文、發文日期、圖檔連結\n",
        "  title = dom.xpath('//h1/text()')\n",
        "  image = dom.xpath('//a[@class=\"image-popup-vertical-fit\"]/@href')\n",
        "  publish_date = dom.xpath('//span[@class=\"time\"]/text()')\n",
        "  content = dom.xpath('//span[@class=\"time\"]/following-sibling::p/text()')\n",
        "  #連接 list 內的值，使用斷行 \\n\n",
        "  content = '\\n'.join(content)\n",
        "\n",
        "  article_image = ''\n",
        "  if image:\n",
        "    article_image = image[0]\n",
        "  #組成dict\n",
        "  return {\n",
        "    \"title\": title[0],\n",
        "    \"image\": article_image,\n",
        "    \"publish_date\": publish_date[0],\n",
        "    \"content\": content,\n",
        "    \"link\": link\n",
        "  }"
      ]
    },
    {
      "cell_type": "code",
      "execution_count": null,
      "metadata": {
        "id": "M19uG_L1hoVz"
      },
      "outputs": [],
      "source": [
        "from random import randint\n",
        "from time import sleep"
      ]
    },
    {
      "cell_type": "code",
      "execution_count": null,
      "metadata": {
        "colab": {
          "base_uri": "https://localhost:8080/"
        },
        "id": "UHRmXeIJgMGG",
        "outputId": "70e7b207-81d2-4c12-a743-742f8d60c92a"
      },
      "outputs": [
        {
          "name": "stdout",
          "output_type": "stream",
          "text": [
            "{'title': '普廷堅持5/9取勝 《彭博》：俄軍恐在烏克蘭再次慘敗', 'image': 'https://img.ltn.com.tw/Upload/news/600/2022/04/14/3893838_1_1.jpg', 'publish_date': '\\n    2022/04/15 06:23', 'content': '首次上稿 04-14 23:44\\n更新時間 04-15 06:23\\n〔編譯楊芙宜／台北報導〕《彭博》報導，如果俄國仍試圖爭取在5月9日前取得在烏克蘭戰爭的某種勝利，可能重蹈之前失誤，再次慘敗；據專家分析，受限於天氣條件，需要後勤準備工作、建立空中主導優勢、以及重新部署在基輔附近受挫的俄國部隊，需花更多時間才能奪回仍在烏克蘭控制下的頓巴斯（Donbas）其他地區。\\n請繼續往下閱讀...\\n報導指出，如果俄羅斯在春季地面泥濘的高峰期將部隊投入戰鬥，那將很難達到目的；屆時地面濕軟，卡車和移動火砲離開道路就可能陷住，這種情況在基輔以北曾發生過，導致一些俄國車隊滯留，易受攻擊。\\n一位不具名的莫斯科分析師表示，這個季節將在5月份結束，但可能來不及讓俄羅斯總統普廷在5月9日「勝利日」遊行前取得重大勝利。5月9日是俄羅斯慶祝在二次世界大戰蘇聯擊敗納粹德國的勝利日，莫斯科傳統會在當日舉行大閱兵。\\n知情歐洲和北約外交官表示，普廷下令發起攻勢之前，烏克蘭盟友認為有兩週的時間窗口，來悄悄調動重型武器如坦克等。歐盟外交和安全政策高級代表波瑞爾（Josep Borrell）13日表示，「未來幾週將是決定性的」。歐盟已決議再另撥5億歐元（約新台幣160.14億元），向烏克蘭提供軍事援助；這使歐盟軍援烏克蘭累計達到15億歐元（約新台幣480.45億元）。\\n俄羅斯官媒14日報導，其黑海艦隊旗艦「莫斯科號」因彈藥爆炸「嚴重受損」。烏克蘭南部軍事指揮部證實，俄軍這艘巡洋艦莫斯科號就是遭到烏軍2枚飛彈擊中而起火燃燒。\\n普廷似乎已認識到俄軍遭遇到慘烈傷亡，速度和傷亡之間的取捨是一個問題。普廷12日記者會上提到，自己經常被問到是否無法更快結束戰爭，「這是可能的。這取決於軍事行動的強度，不幸的是，軍事行動的強度總牽連損失」、「我們的任務是實現既定目標，並把損失降至最低」。\\n報導說，各方對俄軍迄今戰亡人數估計差異相當大，俄羅斯本身僅估計2343名士兵死亡，美國估計約在1萬人以上，北大西洋公約組織估計約介於7000人至1.5萬人，烏克蘭估計達1.98萬人。\\n俄軍現仍然無法占領如烏國哈爾科夫等主要城市，代表俄軍無法使用烏國主要公路來移動設備，只能被迫在較小、也更慢的道路上運送坦克和卡車。這位不具名的莫斯科分析師表示，這些地方更適合烏軍埋伏突襲，尤其是隨著樹木重新長出綠葉時，更是如此。\\n\\n    不用抽 不用搶 現在用APP看新聞 保證天天中獎\\u3000\\n    \\n\\u3000\\n    \\n\\n', 'link': 'https://news.ltn.com.tw/news/world/breakingnews/3893838'}\n",
            "{'title': '德前總統籲「放棄舒適」挺烏克蘭 過半數德國人不買單', 'image': 'https://img.ltn.com.tw/Upload/news/600/2022/04/14/phpDyVd1b.jpg', 'publish_date': '\\n    2022/04/14 15:10', 'content': '〔即時新聞／綜合報導〕俄烏戰爭爆發以來，高漲的能源價格全球有感，戰爭初期德國曾有聲音呼籲國民減少對俄羅斯油氣資源依賴以支持烏克蘭，但最新民調卻顯示，大部分德國人「不願為力挺自由而受凍」。\\n，在俄烏激戰的當前，與俄羅斯能源脫鉤被認為是間接支持烏克蘭的途徑之一，德國前總統高克（Joachim Gauck）為表達對烏克蘭的支持曾公開喊話，呼籲民眾放棄一部分生活的舒適感，「為了支持自由，我們也可以受點凍」。\\n請繼續往下閱讀...\\n德國阿倫斯巴赫研究所（Allensbach Institute）最新公布的民調報告卻顯示，當前德國民眾最擔憂的便是能源供給的價格上漲，共有71％民眾持此意見，另有62％受訪者認為德國能源供給並不安全，更有多達86％的德國人認為，在接下來數年間該國將面臨能源困境。\\n報告顯示，與2019年同期進行的調查相比，德國當時擔憂此一情況的國民僅占26％。\\n從這份民調中還可以得知，大部分德國民眾不認同前總統「為自由挨凍」一說，僅24％受訪者響應他的呼籲，另有過半數的59％直言反對。\\n\\n    不用抽 不用搶 現在用APP看新聞 保證天天中獎\\u3000\\n    \\n\\u3000\\n    \\n\\n', 'link': 'https://news.ltn.com.tw/news/world/breakingnews/3892829'}\n",
            "{'title': '烏克蘭2飛官獲釋 情報局局長親自接見', 'image': 'https://img.ltn.com.tw/Upload/news/600/2022/04/14/phpQl1Tj2.jpg', 'publish_date': '\\n    2022/04/14 21:08', 'content': '〔即時新聞／綜合報導〕烏克蘭國防情報局局長布達諾夫（Kirill Budanov）今（14）日接見了2名被俄軍釋放的飛官，不過烏克蘭國防部並未詳細說明事件始末，僅在聲明中表示，「2名被俄羅斯占領者俘虜的烏克蘭飛官已被釋放」。\\n《法新社》報導，這兩名飛官分別為佩佩利亞申科（Ivan Pepelyashko）與契則（Oleksiy Chyzh），他們3月上旬在烏克蘭北部切爾尼戈夫 （Chernihiv）附近的一座村莊被俄軍抓住。\\n請繼續往下閱讀...\\n2名飛行員表示，他們的關押地點一開始不斷變動，之後被轉移到庫斯科地區（Kursk），他們在那裏與另外8名被俘虜的烏克蘭軍人關在一起。\\n契則指控俄軍對他們採取了敵視的審訊態度，並且也不幫他們治療傷口。他說：「我們被迫錄製政治宣傳影片，如果拒絕，他們就威脅不再為我們的同袍包紮傷口。」\\n\\n    不用抽 不用搶 現在用APP看新聞 保證天天中獎\\u3000\\n    \\n\\u3000\\n    \\n\\n', 'link': 'https://news.ltn.com.tw/news/world/breakingnews/3893493'}\n",
            "{'title': '烏克蘭稱2枚飛彈擊中「莫斯科號」 俄軍證實船艦嚴重受損', 'image': 'https://img.ltn.com.tw/Upload/news/600/2022/04/14/phpLpfnLZ.jpg', 'publish_date': '\\n    2022/04/14 09:19', 'content': '〔即時新聞／綜合報導〕烏克蘭官員聲稱，海軍13日以「海王星」反艦飛彈（Neptune missiles）擊中俄軍「莫斯科號」飛彈巡洋艦（Moskva missile cruiser）。俄羅斯國防部14日證實，彈藥在艦上引爆，導致「莫斯科號」嚴重受損。\\n請繼續往下閱讀...\\n數名烏克蘭政府官員13日聲稱，表示，烏克蘭海軍在黑海戰略港口城市奧德薩以2枚「海王星」反艦飛彈擊中「莫斯科號」飛彈巡洋艦，使船身受創起火。\\n報導，俄羅斯國防部聲明指出，由於彈藥爆炸導致船艦起火，「莫斯科號」嚴重受損，機組人員已完全撤離，軍方正在調查詳細原因。\\n奧德薩政府首長馬爾琴科（Maksym Marchenko）稍早在網路上稱，2枚反艦飛彈擊中「莫斯科號」，但沒有提供證據。\\n上個月，烏克蘭軍方宣布擊毀停泊在亞速海畔別爾江斯克港內的俄軍黑海艦隊大型登陸艦「奧爾斯克號」（Orsk）。\\n\\n    不用抽 不用搶 現在用APP看新聞 保證天天中獎\\u3000\\n    \\n\\u3000\\n    \\n\\n', 'link': 'https://news.ltn.com.tw/news/world/breakingnews/3892625'}\n",
            "{'title': '通話曝光！ 俄軍強姦烏克蘭女性頻傳 老婆還提醒「記得戴套」', 'image': 'https://img.ltn.com.tw/Upload/news/600/2022/04/13/phpK7jt61.jpg', 'publish_date': '\\n    2022/04/13 20:44', 'content': '〔即時新聞／綜合報導〕俄羅斯入侵烏克蘭已近一個半月，除了殺害平民，性侵婦女幼童等駭人聽聞的消息也頻傳。近日烏克蘭國家安全局（SBU）攔截到一段錄音內容，內容竟然是一名俄羅斯人妻告訴在烏國打仗的丈夫，聲稱如果要性侵當地女性，記得「要戴套」，令人傻眼至極。\\n烏克蘭女性主義活動家舍甫琴科（Inna Shevchenko）及《基輔獨立報》（the Kyiv Independent）記者拉帕蒂娜（Anastasiia Lapatina）12日都在推特分享這段由SBU攔截到的音檔內容。\\n請繼續往下閱讀...\\n舍甫琴科表示，內容可以得知一名俄羅斯人妻告訴丈夫，想性侵烏克蘭女性可以，但不要讓她知道，而且記得要戴保險套。拉帕蒂娜則氣憤地說：「我以為我已經看過最糟糕的情況，直到我聽到這段對話...一名俄羅斯婦女竟允許丈夫強姦烏克蘭婦女，我他X的聽了什麼！」\\n烏克蘭國家安全局直言，這段對話足以看出俄羅斯人淪喪的道德觀，強調烏軍將會贏得勝利，盡快將這些披著人皮的魔鬼趕出烏克蘭。\\n\\n    不用抽 不用搶 現在用APP看新聞 保證天天中獎\\u3000\\n    \\n\\u3000\\n    \\n\\n', 'link': 'https://news.ltn.com.tw/news/world/breakingnews/3892189'}\n",
            "{'title': '烏東大戰一觸即發！  歐盟火力支援烏克蘭 週三再批准158億', 'image': 'https://img.ltn.com.tw/Upload/news/600/2022/04/13/phpAS7AYa.jpg', 'publish_date': '\\n    2022/04/14 06:16', 'content': '首次上稿 00:38\\n更新時間 06:16\\n〔即時新聞／綜合報導〕眼看俄羅斯軍隊逐漸聚集烏克蘭東部，準備在頓巴斯（Donbass）地區爆發大戰之際，歐盟週三（13日）批准進一步對烏軍事援助，目前歐盟援烏總額已達16.3億美元（約新台幣473億元）。\\n請繼續往下閱讀...\\n根據\\n報導，歐洲理事會指出，歐盟13日撥出5.43億美元（約新台幣158億元），批准對烏進一步軍援，除了以防禦為導向的武器和軍事設備，還提供個人防護設備、急救箱、燃料等物資。\\n歐盟外交和安全政策高級代表波瑞爾（Josep Borrell）則發聲明表示，「隨著俄軍準備在烏克蘭東部發動另一波進攻，我們必須繼續且加強對烏克蘭的軍事支持，以協助保衛旗領土和人口遭受苦難。」\\n\\n    不用抽 不用搶 現在用APP看新聞 保證天天中獎\\u3000\\n    \\n\\u3000\\n    \\n\\n', 'link': 'https://news.ltn.com.tw/news/world/breakingnews/3892538'}\n",
            "{'title': '抗俄開銷  澤倫斯基：烏克蘭每月要燒掉2千億', 'image': '', 'publish_date': '2022/04/14 20:23', 'content': '', 'link': 'https://ec.ltn.com.tw/article/breakingnews/3893662'}\n",
            "{'title': '烏克蘭再傳戰果 「海王星飛彈」擊中俄軍艦「莫斯科號」', 'image': 'https://img.ltn.com.tw/Upload/news/600/2022/04/14/phptOVVkl.jpg', 'publish_date': '\\n    2022/04/14 07:35', 'content': '〔即時新聞／綜合報導〕烏克蘭官員聲稱，海軍以反艦飛彈打擊俄軍「莫斯科號」飛彈巡洋艦。俄政府證實，莫斯科號艦上彈藥爆炸導致船艦起火，已疏散全體船員。\\n報導，數名烏克蘭政府官員當地時間週三表示，烏海軍在黑海戰略港口城市奧德薩以2枚「海王星反艦飛彈」擊中莫斯科號飛彈巡洋艦，使船身受創起火。\\n請繼續往下閱讀...\\n發布消息的包括烏國民衛隊亞速營與內政部顧問吉拉成柯（Anton Gerashchenko）和奧德薩政府首長馬爾琴科（Maksym Marchenko）。後者表示，「海王星飛彈對俄國軍艦造成非常嚴重的損害。」\\n另有一段據稱是烏克蘭部隊回報攻擊莫斯科號的錄音檔，目前已在社群媒體上流傳。但此戰果還未獲得官方或他國政府證實。莫斯科國防部未明確表示遭飛彈打擊，只說因彈藥爆炸起火，導致「黑海艦隊的莫斯科號巡洋艦嚴重受損」。\\n\\n    不用抽 不用搶 現在用APP看新聞 保證天天中獎\\u3000\\n    \\n\\u3000\\n    \\n\\n', 'link': 'https://news.ltn.com.tw/news/world/breakingnews/3892607'}\n",
            "{'title': '拜登加碼8億美元軍援挺烏克蘭  首度提供榴彈砲', 'image': 'https://img.ltn.com.tw/Upload/news/600/2022/04/14/phpUAXv1w.jpg', 'publish_date': '\\n    2022/04/14 13:45', 'content': '首次上稿：06:51\\n更新時間：13:45\\n〔即時新聞／綜合報導〕美國總統拜登於美東時間13日上午11點40分與烏克蘭總統澤倫斯基通話近1小時，隨後拜登發表聲明表示，將向烏克蘭提供8億美元（約新台幣232億）的額外軍事援助，其中包括榴彈砲，這也是美國首度向烏克蘭提供重型火砲系統。\\n請繼續往下閱讀...\\n綜合外媒報導，此次拜登宣布的8億軍援中，包括18門155毫米榴彈砲、4萬發榴彈砲砲彈、炮彈定位雷達、200輛裝甲運兵車、300架「彈簧刀」無人機，以及11架Mi-17直升機，這批直升機原本是要給去年垮台前的阿富汗政府使用。此外，這也是美國首次提供榴彈砲給烏克蘭軍隊使用。\\n拜登在聲明中表示：「美國及盟國、合作夥伴穩定地供應烏克蘭武器，這對於支持烏克蘭對抗俄羅斯入侵十分重要，並有助於確保普廷征服和控制烏克蘭的戰爭目標中失敗，現在我們不能停下腳步。正如我向澤倫斯基總統保證的那樣，美國人民將繼續與勇敢的烏克蘭人民站在一起，為自由而戰。」\\n美國國防部發言人柯比（John Kirby）表示，此次軍援的部分系統，例如榴彈砲和雷達，不熟悉上述系統的烏克蘭軍隊需要額外培訓。此次美國提供8億美元的額外軍援後，使得美國向烏克蘭提供的軍事援助總額已超過30億美元。\\n另外，近日在推特流傳一段美軍從運送大量自走榴彈砲的\\n，影片中列車以貨運棧板運送9輛M577機動指揮裝甲車以及多輛M109A6「帕拉丁」自走榴彈砲，據傳為美軍從德國向波蘭運送，不過詳細狀況如何仍有待查證。\\n\\n    不用抽 不用搶 現在用APP看新聞 保證天天中獎\\u3000\\n    \\n\\u3000\\n    \\n\\n', 'link': 'https://news.ltn.com.tw/news/world/breakingnews/3892596'}\n",
            "{'title': '烏親俄領袖被捕 拜登控普廷試圖滅絕烏克蘭人（不斷更新）', 'image': 'https://img.ltn.com.tw/Upload/news/600/2022/04/13/phpxV7jup.jpg', 'publish_date': '\\n    2022/04/13 23:56', 'content': \"首次上稿 4/13 08:53\\n更新時間 4/13 23:56\\n〔即時新聞／綜合報導〕俄羅斯總統普廷無視全球譴責和多國制裁，2月24日逕行宣布對烏克蘭採取特殊軍事作戰，開啟戰爭。本報根據路透、法新社、彭博、CNN、BBC等外電，整理了截至台灣時間4月13日最新情勢發展，讓讀者快速掌握俄烏衝突最新進展。\\n請繼續往下閱讀...\\n＊根據《波羅的海時報》（The Baltic Times）報導，澤倫斯基13日在愛沙尼亞國會發表視訊談話，指控俄羅斯人強制將烏克蘭人驅逐出烏國，以人道救援為由將他們帶到俄羅斯偏遠地區，至今已有超過50萬人受害；此外，俄國更故意將烏國孩童與父母拆散，計畫交由俄國家庭非法收養他們。\\n＊世界最大安全組織歐洲安全暨合作組織（OSCE）的報告指控，俄羅斯在烏克蘭有「違反國際人道法的明確模式」。\\n＊國際刑事法院（International Criminal Court）首席檢察官卡林汗（Karim Khan）告訴記者：「烏克蘭是犯罪現場。我們來到這裡是因為我們有合理的依據相信，這裡發生了國際刑事法院管轄範圍內的罪行。」\\n*俄羅斯侵略烏克蘭進入第49天，俄軍從基輔周邊撤離後，正將部隊重新部署到烏克蘭南部和東部，最新衛星照顯示俄軍車隊正朝烏東推進，頓巴斯大戰一觸即發，烏克蘭軍隊嚴陣以待，炸通道、開水庫洩洪，提前佈局。\\n*德國總統史坦麥爾（Frank-Walter Steinmeier）訪問烏克蘭遭拒絕，烏克蘭總統澤倫斯基的顧問阿列斯托維奇（Oleksiy Arestovych）13日表示，基輔政府希望德國聯邦總理蕭茲（Olaf Scholz）來訪、而且承諾提供更多武器援助。\\n*俄羅斯國防部今（13）日表示，在俄軍與烏東「頓內茨克人民共和國」（Donetsk People's Republic）民兵的攻勢之下，已有部分駐守馬立波（Mariupol）烏克蘭官兵選擇投降，人數逾千人。\\n*烏克蘭東北部的哈爾科夫州首長西涅古波夫（Oleh Synegubov）13日表示，該區在過去24小時遭俄羅斯部隊狂轟猛炸，至少有7人死亡與22受傷，死者中包括一名2歲男童。\\n*波蘭總統杜達的顧問庫莫奇13日表示，波蘭、立陶宛、拉脫維亞和愛沙尼亞總統正前往烏克蘭首都基輔，準備會見烏國總統澤倫斯基（Volodimir Zelensky）。\\n*據《衛報》報導，傳俄羅斯政府為了解決問題，開始使用從伊朗的走私武器用在烏克蘭戰爭，包含伊朗製的Bavar 373防空飛彈系統。\\n*烏軍日前公布一段擊落俄軍無人機的影片，其中所使用的飛彈，是連英軍都還沒正式裝備的最新型「岩燕」（Martlet）輕型多功能飛彈（Lightweight Multirole Missile, LMM）。\\n*馬立波市長波成柯（Vadym Boychenko）12日透露，根據最新統計，自從俄軍入侵後，至今約達2萬1千位平民過世\\n*英國防部最新烏俄戰情報告指出，俄軍總指揮由將領「敘利亞屠夫」德沃爾尼科夫（Alexander Dvornikov）擔任，此舉是為了要將指揮和控制系統集中化。\\n*總統普廷和白俄羅斯總統盧卡申科堅稱布查屠殺事件並非俄軍所為，盧卡申科還說，真相其實是英國人員在當地進行了一次「心理性特殊行動」，但沒有提供任何證據或細節。\\n*軍事專家認為，俄軍裝甲載具之所以出現重大損失，主要出自於兩個原因，一是西方國家援助烏克蘭的反戰車武器十分有效，二來是俄軍戰術運用不當。\\n*《彭博》報導，由於印度拒絕譴責俄羅斯，德國可能不邀請印度參加七國集團（G7）峰會。\\n*烏克蘭官方週二表示，俄羅斯駭客上週企圖對其電網發動網攻受挫。政府發言人佐拉（Victor Zhora）指出，「這是一個軍事駭客團隊，目標是廢掉包括變電所在內等部分設施，但沒成功，我們正在調查中」。外媒未能即時取得俄方回應，但莫斯科一直否認對烏網攻相關指控。\\n*《彭博》報導，全球最大獨立原油貿易商Vitol集團計畫在今年底前，完全停止交易俄羅斯原產石油及產品。\\n*北約軍事委員會主席、荷蘭海軍上將包爾（Rob Bauer）12日召開記者會時針對芬蘭、瑞典加入北約的議題回應，「北約沒有排除任何可能的新成員，將由瑞典、芬蘭自行決定是否提出申請加入」。\\n*波蘭政府指出，當局4月6日逮捕了一名俄羅斯公民，該人已在波蘭生活18年，平時為商界人士，但他在俄羅斯特種部隊指導下，蒐集了有關波蘭軍隊與北約部隊關於軍事整備狀況等相關資訊。\\n*布查市長費多魯克（Anatoliy Fedoruk）表示，當局迄今已發現403具屍體，他們認為這些人都是在俄軍佔領期間被殺害的，費多魯克表示，數字還會再增加，他指出目前居民想返回該鎮還為時過早。\\n*法國媒體《觀點報》（L'Opinion）報導指出，自俄羅斯入侵烏克蘭以來，法國已向烏克蘭提供1.2億歐元的軍事援助。在軍事援助部分最為重要的是提供衛星圖像共享服務，由於法國擁有多顆偵察衛星，能夠每天提供烏軍總參謀部各種衛星照片。\\n*德國總統史坦麥爾（Frank-Walter Steinmeier）表示，他原本也希望訪問烏克蘭，但遭到烏克蘭拒絕。烏克蘭方面表示，這是因其過去親俄的立場。\\n*烏克蘭親俄派政治領袖兼國會議員、普廷密友梅德維楚克（Viktor Medvedchuk）在俄軍入侵後逃亡下落不明。烏克蘭政府表示，情報部門在一次特別行動中，逮捕梅德維楚克，指他身穿烏克蘭軍裝試圖掩人耳目。\\n*美總統拜登指控俄總統普廷犯下種族滅絕，他說，「我稱它（入侵烏克蘭）為種族滅絕，因為這件事情的演變越來越清楚，那就是普廷想讓『烏克蘭人』這個概念消失。證據正在浮現。」\\n*美國官員透露，拜登政府最快將於週三（13日）向烏克蘭提供7.5億美元（約新台幣217.5億）的額外軍事援助，用於抵抗俄軍入侵。具體內容政府仍在討論中。\\n\\n    不用抽 不用搶 現在用APP看新聞 保證天天中獎\\u3000\\n    \\n\\u3000\\n    \\n\\n\", 'link': 'https://news.ltn.com.tw/news/world/breakingnews/3891350'}\n"
          ]
        }
      ],
      "source": [
        "articles = []\n",
        "for link in links[:10]:\n",
        "  dom = requestHtml(link)\n",
        "\n",
        "  article = composeArticle(dom, link)\n",
        "  print(article)\n",
        "  articles.append(article)\n",
        "\n",
        "  sleep(randint(1,3))"
      ]
    },
    {
      "cell_type": "code",
      "execution_count": null,
      "metadata": {
        "id": "nun4omVYsVRL"
      },
      "outputs": [],
      "source": [
        "import csv\n",
        "\n",
        "csv_file = '自由時報_烏克蘭.csv'\n",
        "csv_columns = ['title', 'image', 'publish_date', 'content', 'link']\n",
        "try:\n",
        "    with open(csv_file, 'w', newline='', encoding='utf-8') as csvfile:\n",
        "        writer = csv.DictWriter(csvfile, fieldnames=csv_columns)\n",
        "        writer.writeheader()\n",
        "        for data in articles:\n",
        "            writer.writerow(data)\n",
        "except IOError:\n",
        "    print(\"I/O error\")"
      ]
    },
    {
      "cell_type": "code",
      "execution_count": null,
      "metadata": {
        "colab": {
          "base_uri": "https://localhost:8080/"
        },
        "id": "AeP0TOZ6pb0Z",
        "outputId": "b1b70a78-5617-4b52-d648-29de33bdac65"
      },
      "outputs": [
        {
          "name": "stdout",
          "output_type": "stream",
          "text": [
            "[\n",
            "    {\n",
            "        \"title\": \"普廷堅持5/9取勝 《彭博》：俄軍恐在烏克蘭再次慘敗\",\n",
            "        \"image\": \"https://img.ltn.com.tw/Upload/news/600/2022/04/14/3893838_1_1.jpg\",\n",
            "        \"publish_date\": \"\\n    2022/04/15 06:23\",\n",
            "        \"content\": \"首次上稿 04-14 23:44\\n更新時間 04-15 06:23\\n〔編譯楊芙宜／台北報導〕《彭博》報導，如果俄國仍試圖爭取在5月9日前取得在烏克蘭戰爭的某種勝利，可能重蹈之前失誤，再次慘敗；據專家分析，受限於天氣條件，需要後勤準備工作、建立空中主導優勢、以及重新部署在基輔附近受挫的俄國部隊，需花更多時間才能奪回仍在烏克蘭控制下的頓巴斯（Donbas）其他地區。\\n請繼續往下閱讀...\\n報導指出，如果俄羅斯在春季地面泥濘的高峰期將部隊投入戰鬥，那將很難達到目的；屆時地面濕軟，卡車和移動火砲離開道路就可能陷住，這種情況在基輔以北曾發生過，導致一些俄國車隊滯留，易受攻擊。\\n一位不具名的莫斯科分析師表示，這個季節將在5月份結束，但可能來不及讓俄羅斯總統普廷在5月9日「勝利日」遊行前取得重大勝利。5月9日是俄羅斯慶祝在二次世界大戰蘇聯擊敗納粹德國的勝利日，莫斯科傳統會在當日舉行大閱兵。\\n知情歐洲和北約外交官表示，普廷下令發起攻勢之前，烏克蘭盟友認為有兩週的時間窗口，來悄悄調動重型武器如坦克等。歐盟外交和安全政策高級代表波瑞爾（Josep Borrell）13日表示，「未來幾週將是決定性的」。歐盟已決議再另撥5億歐元（約新台幣160.14億元），向烏克蘭提供軍事援助；這使歐盟軍援烏克蘭累計達到15億歐元（約新台幣480.45億元）。\\n俄羅斯官媒14日報導，其黑海艦隊旗艦「莫斯科號」因彈藥爆炸「嚴重受損」。烏克蘭南部軍事指揮部證實，俄軍這艘巡洋艦莫斯科號就是遭到烏軍2枚飛彈擊中而起火燃燒。\\n普廷似乎已認識到俄軍遭遇到慘烈傷亡，速度和傷亡之間的取捨是一個問題。普廷12日記者會上提到，自己經常被問到是否無法更快結束戰爭，「這是可能的。這取決於軍事行動的強度，不幸的是，軍事行動的強度總牽連損失」、「我們的任務是實現既定目標，並把損失降至最低」。\\n報導說，各方對俄軍迄今戰亡人數估計差異相當大，俄羅斯本身僅估計2343名士兵死亡，美國估計約在1萬人以上，北大西洋公約組織估計約介於7000人至1.5萬人，烏克蘭估計達1.98萬人。\\n俄軍現仍然無法占領如烏國哈爾科夫等主要城市，代表俄軍無法使用烏國主要公路來移動設備，只能被迫在較小、也更慢的道路上運送坦克和卡車。這位不具名的莫斯科分析師表示，這些地方更適合烏軍埋伏突襲，尤其是隨著樹木重新長出綠葉時，更是如此。\\n\\n    不用抽 不用搶 現在用APP看新聞 保證天天中獎　\\n    \\n　\\n    \\n\\n\",\n",
            "        \"link\": \"https://news.ltn.com.tw/news/world/breakingnews/3893838\"\n",
            "    },\n",
            "    {\n",
            "        \"title\": \"德前總統籲「放棄舒適」挺烏克蘭 過半數德國人不買單\",\n",
            "        \"image\": \"https://img.ltn.com.tw/Upload/news/600/2022/04/14/phpDyVd1b.jpg\",\n",
            "        \"publish_date\": \"\\n    2022/04/14 15:10\",\n",
            "        \"content\": \"〔即時新聞／綜合報導〕俄烏戰爭爆發以來，高漲的能源價格全球有感，戰爭初期德國曾有聲音呼籲國民減少對俄羅斯油氣資源依賴以支持烏克蘭，但最新民調卻顯示，大部分德國人「不願為力挺自由而受凍」。\\n，在俄烏激戰的當前，與俄羅斯能源脫鉤被認為是間接支持烏克蘭的途徑之一，德國前總統高克（Joachim Gauck）為表達對烏克蘭的支持曾公開喊話，呼籲民眾放棄一部分生活的舒適感，「為了支持自由，我們也可以受點凍」。\\n請繼續往下閱讀...\\n德國阿倫斯巴赫研究所（Allensbach Institute）最新公布的民調報告卻顯示，當前德國民眾最擔憂的便是能源供給的價格上漲，共有71％民眾持此意見，另有62％受訪者認為德國能源供給並不安全，更有多達86％的德國人認為，在接下來數年間該國將面臨能源困境。\\n報告顯示，與2019年同期進行的調查相比，德國當時擔憂此一情況的國民僅占26％。\\n從這份民調中還可以得知，大部分德國民眾不認同前總統「為自由挨凍」一說，僅24％受訪者響應他的呼籲，另有過半數的59％直言反對。\\n\\n    不用抽 不用搶 現在用APP看新聞 保證天天中獎　\\n    \\n　\\n    \\n\\n\",\n",
            "        \"link\": \"https://news.ltn.com.tw/news/world/breakingnews/3892829\"\n",
            "    },\n",
            "    {\n",
            "        \"title\": \"烏克蘭2飛官獲釋 情報局局長親自接見\",\n",
            "        \"image\": \"https://img.ltn.com.tw/Upload/news/600/2022/04/14/phpQl1Tj2.jpg\",\n",
            "        \"publish_date\": \"\\n    2022/04/14 21:08\",\n",
            "        \"content\": \"〔即時新聞／綜合報導〕烏克蘭國防情報局局長布達諾夫（Kirill Budanov）今（14）日接見了2名被俄軍釋放的飛官，不過烏克蘭國防部並未詳細說明事件始末，僅在聲明中表示，「2名被俄羅斯占領者俘虜的烏克蘭飛官已被釋放」。\\n《法新社》報導，這兩名飛官分別為佩佩利亞申科（Ivan Pepelyashko）與契則（Oleksiy Chyzh），他們3月上旬在烏克蘭北部切爾尼戈夫 （Chernihiv）附近的一座村莊被俄軍抓住。\\n請繼續往下閱讀...\\n2名飛行員表示，他們的關押地點一開始不斷變動，之後被轉移到庫斯科地區（Kursk），他們在那裏與另外8名被俘虜的烏克蘭軍人關在一起。\\n契則指控俄軍對他們採取了敵視的審訊態度，並且也不幫他們治療傷口。他說：「我們被迫錄製政治宣傳影片，如果拒絕，他們就威脅不再為我們的同袍包紮傷口。」\\n\\n    不用抽 不用搶 現在用APP看新聞 保證天天中獎　\\n    \\n　\\n    \\n\\n\",\n",
            "        \"link\": \"https://news.ltn.com.tw/news/world/breakingnews/3893493\"\n",
            "    },\n",
            "    {\n",
            "        \"title\": \"烏克蘭稱2枚飛彈擊中「莫斯科號」 俄軍證實船艦嚴重受損\",\n",
            "        \"image\": \"https://img.ltn.com.tw/Upload/news/600/2022/04/14/phpLpfnLZ.jpg\",\n",
            "        \"publish_date\": \"\\n    2022/04/14 09:19\",\n",
            "        \"content\": \"〔即時新聞／綜合報導〕烏克蘭官員聲稱，海軍13日以「海王星」反艦飛彈（Neptune missiles）擊中俄軍「莫斯科號」飛彈巡洋艦（Moskva missile cruiser）。俄羅斯國防部14日證實，彈藥在艦上引爆，導致「莫斯科號」嚴重受損。\\n請繼續往下閱讀...\\n數名烏克蘭政府官員13日聲稱，表示，烏克蘭海軍在黑海戰略港口城市奧德薩以2枚「海王星」反艦飛彈擊中「莫斯科號」飛彈巡洋艦，使船身受創起火。\\n報導，俄羅斯國防部聲明指出，由於彈藥爆炸導致船艦起火，「莫斯科號」嚴重受損，機組人員已完全撤離，軍方正在調查詳細原因。\\n奧德薩政府首長馬爾琴科（Maksym Marchenko）稍早在網路上稱，2枚反艦飛彈擊中「莫斯科號」，但沒有提供證據。\\n上個月，烏克蘭軍方宣布擊毀停泊在亞速海畔別爾江斯克港內的俄軍黑海艦隊大型登陸艦「奧爾斯克號」（Orsk）。\\n\\n    不用抽 不用搶 現在用APP看新聞 保證天天中獎　\\n    \\n　\\n    \\n\\n\",\n",
            "        \"link\": \"https://news.ltn.com.tw/news/world/breakingnews/3892625\"\n",
            "    },\n",
            "    {\n",
            "        \"title\": \"通話曝光！ 俄軍強姦烏克蘭女性頻傳 老婆還提醒「記得戴套」\",\n",
            "        \"image\": \"https://img.ltn.com.tw/Upload/news/600/2022/04/13/phpK7jt61.jpg\",\n",
            "        \"publish_date\": \"\\n    2022/04/13 20:44\",\n",
            "        \"content\": \"〔即時新聞／綜合報導〕俄羅斯入侵烏克蘭已近一個半月，除了殺害平民，性侵婦女幼童等駭人聽聞的消息也頻傳。近日烏克蘭國家安全局（SBU）攔截到一段錄音內容，內容竟然是一名俄羅斯人妻告訴在烏國打仗的丈夫，聲稱如果要性侵當地女性，記得「要戴套」，令人傻眼至極。\\n烏克蘭女性主義活動家舍甫琴科（Inna Shevchenko）及《基輔獨立報》（the Kyiv Independent）記者拉帕蒂娜（Anastasiia Lapatina）12日都在推特分享這段由SBU攔截到的音檔內容。\\n請繼續往下閱讀...\\n舍甫琴科表示，內容可以得知一名俄羅斯人妻告訴丈夫，想性侵烏克蘭女性可以，但不要讓她知道，而且記得要戴保險套。拉帕蒂娜則氣憤地說：「我以為我已經看過最糟糕的情況，直到我聽到這段對話...一名俄羅斯婦女竟允許丈夫強姦烏克蘭婦女，我他X的聽了什麼！」\\n烏克蘭國家安全局直言，這段對話足以看出俄羅斯人淪喪的道德觀，強調烏軍將會贏得勝利，盡快將這些披著人皮的魔鬼趕出烏克蘭。\\n\\n    不用抽 不用搶 現在用APP看新聞 保證天天中獎　\\n    \\n　\\n    \\n\\n\",\n",
            "        \"link\": \"https://news.ltn.com.tw/news/world/breakingnews/3892189\"\n",
            "    },\n",
            "    {\n",
            "        \"title\": \"烏東大戰一觸即發！  歐盟火力支援烏克蘭 週三再批准158億\",\n",
            "        \"image\": \"https://img.ltn.com.tw/Upload/news/600/2022/04/13/phpAS7AYa.jpg\",\n",
            "        \"publish_date\": \"\\n    2022/04/14 06:16\",\n",
            "        \"content\": \"首次上稿 00:38\\n更新時間 06:16\\n〔即時新聞／綜合報導〕眼看俄羅斯軍隊逐漸聚集烏克蘭東部，準備在頓巴斯（Donbass）地區爆發大戰之際，歐盟週三（13日）批准進一步對烏軍事援助，目前歐盟援烏總額已達16.3億美元（約新台幣473億元）。\\n請繼續往下閱讀...\\n根據\\n報導，歐洲理事會指出，歐盟13日撥出5.43億美元（約新台幣158億元），批准對烏進一步軍援，除了以防禦為導向的武器和軍事設備，還提供個人防護設備、急救箱、燃料等物資。\\n歐盟外交和安全政策高級代表波瑞爾（Josep Borrell）則發聲明表示，「隨著俄軍準備在烏克蘭東部發動另一波進攻，我們必須繼續且加強對烏克蘭的軍事支持，以協助保衛旗領土和人口遭受苦難。」\\n\\n    不用抽 不用搶 現在用APP看新聞 保證天天中獎　\\n    \\n　\\n    \\n\\n\",\n",
            "        \"link\": \"https://news.ltn.com.tw/news/world/breakingnews/3892538\"\n",
            "    },\n",
            "    {\n",
            "        \"title\": \"抗俄開銷  澤倫斯基：烏克蘭每月要燒掉2千億\",\n",
            "        \"image\": \"\",\n",
            "        \"publish_date\": \"2022/04/14 20:23\",\n",
            "        \"content\": \"\",\n",
            "        \"link\": \"https://ec.ltn.com.tw/article/breakingnews/3893662\"\n",
            "    },\n",
            "    {\n",
            "        \"title\": \"烏克蘭再傳戰果 「海王星飛彈」擊中俄軍艦「莫斯科號」\",\n",
            "        \"image\": \"https://img.ltn.com.tw/Upload/news/600/2022/04/14/phptOVVkl.jpg\",\n",
            "        \"publish_date\": \"\\n    2022/04/14 07:35\",\n",
            "        \"content\": \"〔即時新聞／綜合報導〕烏克蘭官員聲稱，海軍以反艦飛彈打擊俄軍「莫斯科號」飛彈巡洋艦。俄政府證實，莫斯科號艦上彈藥爆炸導致船艦起火，已疏散全體船員。\\n報導，數名烏克蘭政府官員當地時間週三表示，烏海軍在黑海戰略港口城市奧德薩以2枚「海王星反艦飛彈」擊中莫斯科號飛彈巡洋艦，使船身受創起火。\\n請繼續往下閱讀...\\n發布消息的包括烏國民衛隊亞速營與內政部顧問吉拉成柯（Anton Gerashchenko）和奧德薩政府首長馬爾琴科（Maksym Marchenko）。後者表示，「海王星飛彈對俄國軍艦造成非常嚴重的損害。」\\n另有一段據稱是烏克蘭部隊回報攻擊莫斯科號的錄音檔，目前已在社群媒體上流傳。但此戰果還未獲得官方或他國政府證實。莫斯科國防部未明確表示遭飛彈打擊，只說因彈藥爆炸起火，導致「黑海艦隊的莫斯科號巡洋艦嚴重受損」。\\n\\n    不用抽 不用搶 現在用APP看新聞 保證天天中獎　\\n    \\n　\\n    \\n\\n\",\n",
            "        \"link\": \"https://news.ltn.com.tw/news/world/breakingnews/3892607\"\n",
            "    },\n",
            "    {\n",
            "        \"title\": \"拜登加碼8億美元軍援挺烏克蘭  首度提供榴彈砲\",\n",
            "        \"image\": \"https://img.ltn.com.tw/Upload/news/600/2022/04/14/phpUAXv1w.jpg\",\n",
            "        \"publish_date\": \"\\n    2022/04/14 13:45\",\n",
            "        \"content\": \"首次上稿：06:51\\n更新時間：13:45\\n〔即時新聞／綜合報導〕美國總統拜登於美東時間13日上午11點40分與烏克蘭總統澤倫斯基通話近1小時，隨後拜登發表聲明表示，將向烏克蘭提供8億美元（約新台幣232億）的額外軍事援助，其中包括榴彈砲，這也是美國首度向烏克蘭提供重型火砲系統。\\n請繼續往下閱讀...\\n綜合外媒報導，此次拜登宣布的8億軍援中，包括18門155毫米榴彈砲、4萬發榴彈砲砲彈、炮彈定位雷達、200輛裝甲運兵車、300架「彈簧刀」無人機，以及11架Mi-17直升機，這批直升機原本是要給去年垮台前的阿富汗政府使用。此外，這也是美國首次提供榴彈砲給烏克蘭軍隊使用。\\n拜登在聲明中表示：「美國及盟國、合作夥伴穩定地供應烏克蘭武器，這對於支持烏克蘭對抗俄羅斯入侵十分重要，並有助於確保普廷征服和控制烏克蘭的戰爭目標中失敗，現在我們不能停下腳步。正如我向澤倫斯基總統保證的那樣，美國人民將繼續與勇敢的烏克蘭人民站在一起，為自由而戰。」\\n美國國防部發言人柯比（John Kirby）表示，此次軍援的部分系統，例如榴彈砲和雷達，不熟悉上述系統的烏克蘭軍隊需要額外培訓。此次美國提供8億美元的額外軍援後，使得美國向烏克蘭提供的軍事援助總額已超過30億美元。\\n另外，近日在推特流傳一段美軍從運送大量自走榴彈砲的\\n，影片中列車以貨運棧板運送9輛M577機動指揮裝甲車以及多輛M109A6「帕拉丁」自走榴彈砲，據傳為美軍從德國向波蘭運送，不過詳細狀況如何仍有待查證。\\n\\n    不用抽 不用搶 現在用APP看新聞 保證天天中獎　\\n    \\n　\\n    \\n\\n\",\n",
            "        \"link\": \"https://news.ltn.com.tw/news/world/breakingnews/3892596\"\n",
            "    },\n",
            "    {\n",
            "        \"title\": \"烏親俄領袖被捕 拜登控普廷試圖滅絕烏克蘭人（不斷更新）\",\n",
            "        \"image\": \"https://img.ltn.com.tw/Upload/news/600/2022/04/13/phpxV7jup.jpg\",\n",
            "        \"publish_date\": \"\\n    2022/04/13 23:56\",\n",
            "        \"content\": \"首次上稿 4/13 08:53\\n更新時間 4/13 23:56\\n〔即時新聞／綜合報導〕俄羅斯總統普廷無視全球譴責和多國制裁，2月24日逕行宣布對烏克蘭採取特殊軍事作戰，開啟戰爭。本報根據路透、法新社、彭博、CNN、BBC等外電，整理了截至台灣時間4月13日最新情勢發展，讓讀者快速掌握俄烏衝突最新進展。\\n請繼續往下閱讀...\\n＊根據《波羅的海時報》（The Baltic Times）報導，澤倫斯基13日在愛沙尼亞國會發表視訊談話，指控俄羅斯人強制將烏克蘭人驅逐出烏國，以人道救援為由將他們帶到俄羅斯偏遠地區，至今已有超過50萬人受害；此外，俄國更故意將烏國孩童與父母拆散，計畫交由俄國家庭非法收養他們。\\n＊世界最大安全組織歐洲安全暨合作組織（OSCE）的報告指控，俄羅斯在烏克蘭有「違反國際人道法的明確模式」。\\n＊國際刑事法院（International Criminal Court）首席檢察官卡林汗（Karim Khan）告訴記者：「烏克蘭是犯罪現場。我們來到這裡是因為我們有合理的依據相信，這裡發生了國際刑事法院管轄範圍內的罪行。」\\n*俄羅斯侵略烏克蘭進入第49天，俄軍從基輔周邊撤離後，正將部隊重新部署到烏克蘭南部和東部，最新衛星照顯示俄軍車隊正朝烏東推進，頓巴斯大戰一觸即發，烏克蘭軍隊嚴陣以待，炸通道、開水庫洩洪，提前佈局。\\n*德國總統史坦麥爾（Frank-Walter Steinmeier）訪問烏克蘭遭拒絕，烏克蘭總統澤倫斯基的顧問阿列斯托維奇（Oleksiy Arestovych）13日表示，基輔政府希望德國聯邦總理蕭茲（Olaf Scholz）來訪、而且承諾提供更多武器援助。\\n*俄羅斯國防部今（13）日表示，在俄軍與烏東「頓內茨克人民共和國」（Donetsk People's Republic）民兵的攻勢之下，已有部分駐守馬立波（Mariupol）烏克蘭官兵選擇投降，人數逾千人。\\n*烏克蘭東北部的哈爾科夫州首長西涅古波夫（Oleh Synegubov）13日表示，該區在過去24小時遭俄羅斯部隊狂轟猛炸，至少有7人死亡與22受傷，死者中包括一名2歲男童。\\n*波蘭總統杜達的顧問庫莫奇13日表示，波蘭、立陶宛、拉脫維亞和愛沙尼亞總統正前往烏克蘭首都基輔，準備會見烏國總統澤倫斯基（Volodimir Zelensky）。\\n*據《衛報》報導，傳俄羅斯政府為了解決問題，開始使用從伊朗的走私武器用在烏克蘭戰爭，包含伊朗製的Bavar 373防空飛彈系統。\\n*烏軍日前公布一段擊落俄軍無人機的影片，其中所使用的飛彈，是連英軍都還沒正式裝備的最新型「岩燕」（Martlet）輕型多功能飛彈（Lightweight Multirole Missile, LMM）。\\n*馬立波市長波成柯（Vadym Boychenko）12日透露，根據最新統計，自從俄軍入侵後，至今約達2萬1千位平民過世\\n*英國防部最新烏俄戰情報告指出，俄軍總指揮由將領「敘利亞屠夫」德沃爾尼科夫（Alexander Dvornikov）擔任，此舉是為了要將指揮和控制系統集中化。\\n*總統普廷和白俄羅斯總統盧卡申科堅稱布查屠殺事件並非俄軍所為，盧卡申科還說，真相其實是英國人員在當地進行了一次「心理性特殊行動」，但沒有提供任何證據或細節。\\n*軍事專家認為，俄軍裝甲載具之所以出現重大損失，主要出自於兩個原因，一是西方國家援助烏克蘭的反戰車武器十分有效，二來是俄軍戰術運用不當。\\n*《彭博》報導，由於印度拒絕譴責俄羅斯，德國可能不邀請印度參加七國集團（G7）峰會。\\n*烏克蘭官方週二表示，俄羅斯駭客上週企圖對其電網發動網攻受挫。政府發言人佐拉（Victor Zhora）指出，「這是一個軍事駭客團隊，目標是廢掉包括變電所在內等部分設施，但沒成功，我們正在調查中」。外媒未能即時取得俄方回應，但莫斯科一直否認對烏網攻相關指控。\\n*《彭博》報導，全球最大獨立原油貿易商Vitol集團計畫在今年底前，完全停止交易俄羅斯原產石油及產品。\\n*北約軍事委員會主席、荷蘭海軍上將包爾（Rob Bauer）12日召開記者會時針對芬蘭、瑞典加入北約的議題回應，「北約沒有排除任何可能的新成員，將由瑞典、芬蘭自行決定是否提出申請加入」。\\n*波蘭政府指出，當局4月6日逮捕了一名俄羅斯公民，該人已在波蘭生活18年，平時為商界人士，但他在俄羅斯特種部隊指導下，蒐集了有關波蘭軍隊與北約部隊關於軍事整備狀況等相關資訊。\\n*布查市長費多魯克（Anatoliy Fedoruk）表示，當局迄今已發現403具屍體，他們認為這些人都是在俄軍佔領期間被殺害的，費多魯克表示，數字還會再增加，他指出目前居民想返回該鎮還為時過早。\\n*法國媒體《觀點報》（L'Opinion）報導指出，自俄羅斯入侵烏克蘭以來，法國已向烏克蘭提供1.2億歐元的軍事援助。在軍事援助部分最為重要的是提供衛星圖像共享服務，由於法國擁有多顆偵察衛星，能夠每天提供烏軍總參謀部各種衛星照片。\\n*德國總統史坦麥爾（Frank-Walter Steinmeier）表示，他原本也希望訪問烏克蘭，但遭到烏克蘭拒絕。烏克蘭方面表示，這是因其過去親俄的立場。\\n*烏克蘭親俄派政治領袖兼國會議員、普廷密友梅德維楚克（Viktor Medvedchuk）在俄軍入侵後逃亡下落不明。烏克蘭政府表示，情報部門在一次特別行動中，逮捕梅德維楚克，指他身穿烏克蘭軍裝試圖掩人耳目。\\n*美總統拜登指控俄總統普廷犯下種族滅絕，他說，「我稱它（入侵烏克蘭）為種族滅絕，因為這件事情的演變越來越清楚，那就是普廷想讓『烏克蘭人』這個概念消失。證據正在浮現。」\\n*美國官員透露，拜登政府最快將於週三（13日）向烏克蘭提供7.5億美元（約新台幣217.5億）的額外軍事援助，用於抵抗俄軍入侵。具體內容政府仍在討論中。\\n\\n    不用抽 不用搶 現在用APP看新聞 保證天天中獎　\\n    \\n　\\n    \\n\\n\",\n",
            "        \"link\": \"https://news.ltn.com.tw/news/world/breakingnews/3891350\"\n",
            "    }\n",
            "]\n"
          ]
        }
      ],
      "source": [
        "#將 dict 轉換成 json 字串\n",
        "import json\n",
        "# Serializing json  \n",
        "json_object = json.dumps(articles, indent = 4, ensure_ascii=False).encode('utf-8').decode('utf-8')\n",
        "print(json_object)"
      ]
    },
    {
      "cell_type": "code",
      "execution_count": null,
      "metadata": {
        "id": "riW9ygbCpx9V"
      },
      "outputs": [],
      "source": [
        "with open(\"自由時報_烏克蘭.json\", \"w\", encoding='utf-8') as outfile:\n",
        "    json.dump(articles, outfile, ensure_ascii=False)"
      ]
    },
    {
      "cell_type": "code",
      "execution_count": null,
      "metadata": {
        "id": "LhGkc-z-quOx"
      },
      "outputs": [],
      "source": []
    }
  ],
  "metadata": {
    "colab": {
      "collapsed_sections": [],
      "name": "3.Basic-Fetech-List-Articles.ipynb",
      "provenance": []
    },
    "kernelspec": {
      "display_name": "Python 3",
      "name": "python3"
    },
    "language_info": {
      "name": "python"
    }
  },
  "nbformat": 4,
  "nbformat_minor": 0
}
