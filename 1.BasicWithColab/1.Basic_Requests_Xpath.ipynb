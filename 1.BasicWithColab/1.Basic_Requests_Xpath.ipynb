{
  "cells": [
    {
      "cell_type": "code",
      "execution_count": null,
      "metadata": {
        "colab": {
          "base_uri": "https://localhost:8080/"
        },
        "id": "Qx2-x52Jukta",
        "outputId": "6bb14e6d-9dfb-4624-c4b0-1a0243c71bf3"
      },
      "outputs": [
        {
          "name": "stdout",
          "output_type": "stream",
          "text": [
            "Requirement already satisfied: requests in /usr/local/lib/python3.7/dist-packages (2.23.0)\n",
            "Requirement already satisfied: certifi>=2017.4.17 in /usr/local/lib/python3.7/dist-packages (from requests) (2021.10.8)\n",
            "Requirement already satisfied: chardet<4,>=3.0.2 in /usr/local/lib/python3.7/dist-packages (from requests) (3.0.4)\n",
            "Requirement already satisfied: urllib3!=1.25.0,!=1.25.1,<1.26,>=1.21.1 in /usr/local/lib/python3.7/dist-packages (from requests) (1.24.3)\n",
            "Requirement already satisfied: idna<3,>=2.5 in /usr/local/lib/python3.7/dist-packages (from requests) (2.10)\n"
          ]
        }
      ],
      "source": [
        "#安裝相關函式庫\n",
        "#!pip install requests"
      ]
    },
    {
      "cell_type": "code",
      "execution_count": null,
      "metadata": {
        "id": "ik4lks-CvyhA"
      },
      "outputs": [],
      "source": [
        "import requests\n",
        "from lxml import etree\n"
      ]
    },
    {
      "cell_type": "code",
      "execution_count": null,
      "metadata": {
        "id": "A7uNjPcyyBnr"
      },
      "outputs": [],
      "source": [
        "#可以從瀏覽器的開發者工具取得 request 的 header 資訊\n",
        "headers_Get = {\n",
        "        'User-Agent': 'Mozilla/5.0 (Macintosh; Intel Mac OS X 10_15_7) AppleWebKit/537.36 (KHTML, like Gecko) Chrome/100.0.4896.75 Safari/537.36',\n",
        "        'Accept': 'text/html,application/xhtml+xml,application/xml;q=0.9,image/avif,image/webp,image/apng,*/*;q=0.8,application/signed-exchange;v=b3;q=0.9',\n",
        "        'Accept-Language': 'zh-TW,zh;q=0.9,en-US;q=0.8,en;q=0.7,zh-CN;q=0.6',\n",
        "        'Accept-Encoding': 'gzip, deflate, br',\n",
        "        'DNT': '1',\n",
        "        'Connection': 'keep-alive',\n",
        "        'Upgrade-Insecure-Requests': '1'\n",
        "    }"
      ]
    },
    {
      "cell_type": "code",
      "execution_count": null,
      "metadata": {
        "id": "1ypo36eCxHkC"
      },
      "outputs": [],
      "source": [
        "#請求網頁\n",
        "def requestHtml(url):\n",
        "  s = requests.Session()\n",
        "  r = s.get(url, headers=headers_Get)\n",
        "  return etree.HTML(r.text)"
      ]
    },
    {
      "cell_type": "code",
      "execution_count": null,
      "metadata": {
        "id": "mpf_p7toxk8w"
      },
      "outputs": [],
      "source": [
        "url = 'https://news.google.com/topstories?hl=zh-TW&gl=TW&ceid=TW%3Azh-Hant'\n",
        "dom = requestHtml(url)"
      ]
    },
    {
      "cell_type": "code",
      "execution_count": null,
      "metadata": {
        "colab": {
          "base_uri": "https://localhost:8080/"
        },
        "id": "zAlGb4P2xoxa",
        "outputId": "b3165f62-8007-407c-c9d4-98a38544e53f"
      },
      "outputs": [
        {
          "name": "stdout",
          "output_type": "stream",
          "text": [
            "<Element html at 0x7f8a8bd9de60>\n"
          ]
        }
      ],
      "source": [
        "print(dom)"
      ]
    },
    {
      "cell_type": "code",
      "execution_count": null,
      "metadata": {
        "colab": {
          "base_uri": "https://localhost:8080/"
        },
        "id": "uMBeuYKlyphW",
        "outputId": "9670ff27-f413-4fcc-e23a-8456fe1022c3"
      },
      "outputs": [
        {
          "name": "stdout",
          "output_type": "stream",
          "text": [
            "['美6跨黨派參眾議員專機閃電訪台 將會國安高層', '同場2記者快篩陽性 陳時中莊人祥免篩僅需自我健康監測', '一文看懂｜重創黑海艦隊旗艦莫斯科號的反艦飛彈台灣的這型飛彈更厲害｜ 蘋果新聞網｜ 蘋果日報', '高雄增40例新冠肺炎確診 累計5例阿妹演唱會衍生個案簡訊通知逾900人採檢', '放寬停課標準引反彈 全教產：12歲以下學童應提供公費快篩', '警告芬蘭、瑞典勿入北約 俄揚言波羅的海部署核武']\n"
          ]
        }
      ],
      "source": [
        "\n",
        "#links = dom.xpath('//li[@class=\"browse-recipe-item\"]/a[@class=\"browse-recipe-link\"]/@href')\n",
        "titles = dom.xpath('//h3[contains(@class, \"pQwMb\")]/a/text()')\n",
        "print(titles)"
      ]
    }
  ],
  "metadata": {
    "colab": {
      "collapsed_sections": [],
      "name": "1.Basic-Requests-Xpath.ipynb",
      "provenance": []
    },
    "kernelspec": {
      "display_name": "Python 3",
      "name": "python3"
    },
    "language_info": {
      "name": "python"
    }
  },
  "nbformat": 4,
  "nbformat_minor": 0
}
