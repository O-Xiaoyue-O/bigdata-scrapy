{
  "nbformat": 4,
  "nbformat_minor": 0,
  "metadata": {
    "colab": {
      "provenance": []
    },
    "kernelspec": {
      "name": "python3",
      "display_name": "Python 3"
    },
    "language_info": {
      "name": "python"
    }
  },
  "cells": [
    {
      "cell_type": "markdown",
      "source": [
        "**Colab 的作業系統環境為不完整的 Debian ** \n",
        "\n",
        "可以勉強在 colab 環境上跑 Selenium，只是看不到，需要先在本機上細膩的操作，或也在本機操作一次 Selenium 環境，確認程序可用後，再移植到 Colab 上來。"
      ],
      "metadata": {
        "id": "P62xG6V9s8j2"
      }
    },
    {
      "cell_type": "code",
      "source": [
        "#查詢\n",
        "import platform\n",
        "print(platform.platform())\n",
        "\n",
        "#查詢目前 Google Chrome 的版本\n",
        "!google-chrome-stable --version"
      ],
      "metadata": {
        "colab": {
          "base_uri": "https://localhost:8080/"
        },
        "id": "uD1RWqvtfy8I",
        "outputId": "807ee319-f4cf-44fb-fc78-a01e741705c0"
      },
      "execution_count": 17,
      "outputs": [
        {
          "output_type": "stream",
          "name": "stdout",
          "text": [
            "Linux-5.10.147+-x86_64-with-glibc2.31\n",
            "Google Chrome 111.0.5563.110 \n"
          ]
        }
      ]
    },
    {
      "cell_type": "code",
      "source": [
        "!apt-get update\n",
        "!apt-get install -y wget curl unzip gnupg\n",
        "!wget -q -O - https://dl-ssl.google.com/linux/linux_signing_key.pub | apt-key add -\n",
        "!echo \"deb http://dl.google.com/linux/chrome/deb/ stable main\" > /etc/apt/sources.list.d/google-chrome.list\n",
        "!apt-get update\n",
        "!apt-get install -y google-chrome-stable\n",
        "#需查看一下 Chromedriver 能用的版本：https://chromedriver.storage.googleapis.com/\n",
        "!wget -N https://chromedriver.storage.googleapis.com/111.0.5563.64/chromedriver_linux64.zip\n",
        "!unzip chromedriver_linux64.zip\n",
        "!chmod +x chromedriver\n"
      ],
      "metadata": {
        "colab": {
          "base_uri": "https://localhost:8080/"
        },
        "id": "ERLT7YWjdBGT",
        "outputId": "6f729f27-da01-4e83-e587-609b704b6fbb"
      },
      "execution_count": 2,
      "outputs": [
        {
          "output_type": "stream",
          "name": "stdout",
          "text": [
            "\r0% [Working]\r            \rHit:1 https://cloud.r-project.org/bin/linux/ubuntu focal-cran40/ InRelease\n",
            "\r0% [Connecting to archive.ubuntu.com (185.125.190.39)] [Connecting to security.\r                                                                               \rHit:2 https://developer.download.nvidia.com/compute/cuda/repos/ubuntu2004/x86_64  InRelease\n",
            "\r0% [Waiting for headers] [Waiting for headers] [Waiting for headers] [Waiting f\r0% [Waiting for headers] [Waiting for headers] [Waiting for headers] [Waiting f\r                                                                               \rHit:3 https://dl.google.com/linux/chrome/deb stable InRelease\n",
            "\r                                                                               \r0% [Waiting for headers] [Waiting for headers] [Waiting for headers]\r                                                                    \rHit:4 http://ppa.launchpad.net/c2d4u.team/c2d4u4.0+/ubuntu focal InRelease\n",
            "\r0% [Waiting for headers] [Waiting for headers] [Connecting to ppa.launchpad.net\r                                                                               \rHit:5 http://archive.ubuntu.com/ubuntu focal InRelease\n",
            "Hit:6 http://security.ubuntu.com/ubuntu focal-security InRelease\n",
            "Hit:7 http://archive.ubuntu.com/ubuntu focal-updates InRelease\n",
            "Hit:8 http://ppa.launchpad.net/cran/libgit2/ubuntu focal InRelease\n",
            "Hit:9 http://archive.ubuntu.com/ubuntu focal-backports InRelease\n",
            "Hit:10 http://ppa.launchpad.net/deadsnakes/ppa/ubuntu focal InRelease\n",
            "Hit:11 http://ppa.launchpad.net/graphics-drivers/ppa/ubuntu focal InRelease\n",
            "Hit:12 http://ppa.launchpad.net/ubuntugis/ppa/ubuntu focal InRelease\n",
            "Reading package lists... Done\n",
            "Reading package lists... Done\n",
            "Building dependency tree       \n",
            "Reading state information... Done\n",
            "curl is already the newest version (7.68.0-1ubuntu2.18).\n",
            "gnupg is already the newest version (2.2.19-3ubuntu2.2).\n",
            "unzip is already the newest version (6.0-25ubuntu1.1).\n",
            "wget is already the newest version (1.20.3-1ubuntu2).\n",
            "0 upgraded, 0 newly installed, 0 to remove and 23 not upgraded.\n",
            "OK\n",
            "Hit:1 https://cloud.r-project.org/bin/linux/ubuntu focal-cran40/ InRelease\n",
            "Hit:2 http://dl.google.com/linux/chrome/deb stable InRelease\n",
            "Hit:3 https://developer.download.nvidia.com/compute/cuda/repos/ubuntu2004/x86_64  InRelease\n",
            "Hit:4 http://security.ubuntu.com/ubuntu focal-security InRelease\n",
            "Hit:5 http://archive.ubuntu.com/ubuntu focal InRelease\n",
            "Hit:6 http://ppa.launchpad.net/c2d4u.team/c2d4u4.0+/ubuntu focal InRelease\n",
            "Hit:7 http://archive.ubuntu.com/ubuntu focal-updates InRelease\n",
            "Hit:8 http://archive.ubuntu.com/ubuntu focal-backports InRelease\n",
            "Hit:9 http://ppa.launchpad.net/cran/libgit2/ubuntu focal InRelease\n",
            "Hit:10 http://ppa.launchpad.net/deadsnakes/ppa/ubuntu focal InRelease\n",
            "Hit:11 http://ppa.launchpad.net/graphics-drivers/ppa/ubuntu focal InRelease\n",
            "Hit:12 http://ppa.launchpad.net/ubuntugis/ppa/ubuntu focal InRelease\n",
            "Reading package lists... Done\n",
            "Reading package lists... Done\n",
            "Building dependency tree       \n",
            "Reading state information... Done\n",
            "google-chrome-stable is already the newest version (111.0.5563.110-1).\n",
            "0 upgraded, 0 newly installed, 0 to remove and 23 not upgraded.\n",
            "--2023-03-26 20:02:55--  https://chromedriver.storage.googleapis.com/111.0.5563.64/chromedriver_linux64.zip\n",
            "Resolving chromedriver.storage.googleapis.com (chromedriver.storage.googleapis.com)... 142.251.16.128, 2607:f8b0:4004:c08::80\n",
            "Connecting to chromedriver.storage.googleapis.com (chromedriver.storage.googleapis.com)|142.251.16.128|:443... connected.\n",
            "HTTP request sent, awaiting response... 200 OK\n",
            "Length: 7160988 (6.8M) [application/zip]\n",
            "Saving to: ‘chromedriver_linux64.zip’\n",
            "\n",
            "chromedriver_linux6 100%[===================>]   6.83M  --.-KB/s    in 0.05s   \n",
            "\n",
            "2023-03-26 20:02:55 (126 MB/s) - ‘chromedriver_linux64.zip’ saved [7160988/7160988]\n",
            "\n",
            "Archive:  chromedriver_linux64.zip\n",
            "  inflating: chromedriver            \n",
            "  inflating: LICENSE.chromedriver    \n"
          ]
        }
      ]
    },
    {
      "cell_type": "code",
      "source": [
        "#查詢 Chromedriver 的路徑，通常是 /usr/bin/chromedriver\n",
        "!which chromedriver\n",
        "\n",
        "#設定 os 環境路徑\n",
        "import os\n",
        "os.environ[\"PATH\"] += os.pathsep + \"/usr/bin/chromedriver\""
      ],
      "metadata": {
        "id": "xwHTctHceBsa"
      },
      "execution_count": 3,
      "outputs": []
    },
    {
      "cell_type": "code",
      "source": [
        "# 安裝 Selenium\n",
        "!pip install selenium"
      ],
      "metadata": {
        "colab": {
          "base_uri": "https://localhost:8080/"
        },
        "id": "7F-Pj-WuhdHT",
        "outputId": "dc65d029-5470-485c-98af-a36a9fde65fe"
      },
      "execution_count": 5,
      "outputs": [
        {
          "output_type": "stream",
          "name": "stdout",
          "text": [
            "Looking in indexes: https://pypi.org/simple, https://us-python.pkg.dev/colab-wheels/public/simple/\n",
            "Collecting selenium\n",
            "  Downloading selenium-4.8.3-py3-none-any.whl (6.5 MB)\n",
            "\u001b[2K     \u001b[90m━━━━━━━━━━━━━━━━━━━━━━━━━━━━━━━━━━━━━━━━\u001b[0m \u001b[32m6.5/6.5 MB\u001b[0m \u001b[31m61.1 MB/s\u001b[0m eta \u001b[36m0:00:00\u001b[0m\n",
            "\u001b[?25hCollecting trio~=0.17\n",
            "  Downloading trio-0.22.0-py3-none-any.whl (384 kB)\n",
            "\u001b[2K     \u001b[90m━━━━━━━━━━━━━━━━━━━━━━━━━━━━━━━━━━━━━━\u001b[0m \u001b[32m384.9/384.9 KB\u001b[0m \u001b[31m35.0 MB/s\u001b[0m eta \u001b[36m0:00:00\u001b[0m\n",
            "\u001b[?25hRequirement already satisfied: urllib3[socks]~=1.26 in /usr/local/lib/python3.9/dist-packages (from selenium) (1.26.15)\n",
            "Requirement already satisfied: certifi>=2021.10.8 in /usr/local/lib/python3.9/dist-packages (from selenium) (2022.12.7)\n",
            "Collecting trio-websocket~=0.9\n",
            "  Downloading trio_websocket-0.10.2-py3-none-any.whl (17 kB)\n",
            "Collecting outcome\n",
            "  Downloading outcome-1.2.0-py2.py3-none-any.whl (9.7 kB)\n",
            "Requirement already satisfied: attrs>=19.2.0 in /usr/local/lib/python3.9/dist-packages (from trio~=0.17->selenium) (22.2.0)\n",
            "Requirement already satisfied: idna in /usr/local/lib/python3.9/dist-packages (from trio~=0.17->selenium) (3.4)\n",
            "Collecting sniffio\n",
            "  Downloading sniffio-1.3.0-py3-none-any.whl (10 kB)\n",
            "Requirement already satisfied: sortedcontainers in /usr/local/lib/python3.9/dist-packages (from trio~=0.17->selenium) (2.4.0)\n",
            "Collecting async-generator>=1.9\n",
            "  Downloading async_generator-1.10-py3-none-any.whl (18 kB)\n",
            "Requirement already satisfied: exceptiongroup>=1.0.0rc9 in /usr/local/lib/python3.9/dist-packages (from trio~=0.17->selenium) (1.1.1)\n",
            "Collecting wsproto>=0.14\n",
            "  Downloading wsproto-1.2.0-py3-none-any.whl (24 kB)\n",
            "Requirement already satisfied: PySocks!=1.5.7,<2.0,>=1.5.6 in /usr/local/lib/python3.9/dist-packages (from urllib3[socks]~=1.26->selenium) (1.7.1)\n",
            "Collecting h11<1,>=0.9.0\n",
            "  Downloading h11-0.14.0-py3-none-any.whl (58 kB)\n",
            "\u001b[2K     \u001b[90m━━━━━━━━━━━━━━━━━━━━━━━━━━━━━━━━━━━━━━━━\u001b[0m \u001b[32m58.3/58.3 KB\u001b[0m \u001b[31m4.8 MB/s\u001b[0m eta \u001b[36m0:00:00\u001b[0m\n",
            "\u001b[?25hInstalling collected packages: sniffio, outcome, h11, async-generator, wsproto, trio, trio-websocket, selenium\n",
            "Successfully installed async-generator-1.10 h11-0.14.0 outcome-1.2.0 selenium-4.8.3 sniffio-1.3.0 trio-0.22.0 trio-websocket-0.10.2 wsproto-1.2.0\n"
          ]
        }
      ]
    },
    {
      "cell_type": "code",
      "source": [
        "\n",
        "# set options to be headless, ..\n",
        "from selenium import webdriver\n",
        "from selenium.webdriver.support.ui import WebDriverWait\n",
        "from selenium.webdriver.support import expected_conditions\n",
        "from selenium.webdriver.common.by import By\n",
        "\n",
        "options = webdriver.ChromeOptions()\n",
        "#找 user-agent 的網站： https://www.whatsmyua.info/\n",
        "userAgent = \"Mozilla/5.0 (Macintosh; Intel Mac OS X 10_15_7) AppleWebKit/537.36 (KHTML, like Gecko) Chrome/100.0.4896.127 Safari/537.36\";\n",
        "#許多網站會檢查 user-agent\n",
        "options.add_argument(\"user-agent={}\".format(userAgent))\n",
        "#不讓瀏覽器執行在前台，而是在背景執行，開發前期(或在本機執行)先不加才看的到畫面\n",
        "options.add_argument('--headless')\n",
        "# 在非沙盒測試環境下，可以 root 權限運行\n",
        "options.add_argument('--no-sandbox')\n",
        "# 不以 /dev/shm 作為暫存區(使用 /tmp)\n",
        "options.add_argument('--disable-dev-shm-usage')\n",
        "# 設定瀏覽器的解析度\n",
        "# options.add_argument('--window-size=1920,1080')\n",
        "# 關閉 GPU ，Google 文件提到需要加上這個參數以解決部份的 bug\n",
        "# options.add_argument('--disable-gpu')\n",
        "\n",
        "# open it, go to a website, and get results\n",
        "wd = webdriver.Chrome(options=options)"
      ],
      "metadata": {
        "id": "JSNm21gusObP"
      },
      "execution_count": 6,
      "outputs": []
    },
    {
      "cell_type": "markdown",
      "source": [
        "需要使用 Selenium 進行爬蟲的網站：\n",
        "\n",
        "\n",
        "1.   該網站有多道防爬蟲機制，因此使用 Selenium 來爬可以降低被擋的機會\n",
        "2.   該網站的內容加載不是用換頁的，而是類似延遲加載的方式 Lazy Loading \n",
        "3.   該網站是使用前端語言框架所寫的 Single Page App (SPA)架構，內容更動都不會變動網址。\n",
        "4.   需要頻繁且複雜的互動操作才能擷取到內容的網站，例：有會員機制或彈出視窗阻擋操作等機制。\n",
        "5.   自動訂票、限時搶購的網站操作。\n",
        "6.   需要經常填寫資料(例：生產履歷)，但該網站卻沒提供 API\n",
        "\n"
      ],
      "metadata": {
        "id": "sdol4gwExJk9"
      }
    },
    {
      "cell_type": "code",
      "source": [
        "#此網址是 Nasdaq 網站的 Tesla 即時股價，此股價在換頁時，網址並不會更動，因此適合使用 Selenium\n",
        "baseUrl = 'https://www.nasdaq.com/market-activity/stocks/tsla/latest-real-time-trades'\n",
        "wd.get(baseUrl)\n",
        "#隱式等待：是在嘗試發現某個元素的時候，如果沒能立刻發現，就等待固定長度的時間。預設設定是0秒。\n",
        "wd.implicitly_wait(5)"
      ],
      "metadata": {
        "id": "PZcQT7s2vBxm"
      },
      "execution_count": 11,
      "outputs": []
    },
    {
      "cell_type": "code",
      "source": [
        "# 傾印網頁內容，以測試網頁是否有正確(權限)讀取完整內容\n",
        "# 注意：內容會很長\n",
        "# print(wd.page_source) "
      ],
      "metadata": {
        "id": "pKlIuVA73esQ"
      },
      "execution_count": null,
      "outputs": []
    },
    {
      "cell_type": "code",
      "source": [
        "results = wd.find_element(By.XPATH, '//table[@class=\"latest-real-time-trades__table\"]').get_attribute('innerHTML')\n",
        "print(results)"
      ],
      "metadata": {
        "id": "eM3CIDO9zMZm",
        "colab": {
          "base_uri": "https://localhost:8080/"
        },
        "outputId": "cc005a8b-351d-48f9-abb5-1b217624b6ba"
      },
      "execution_count": 12,
      "outputs": [
        {
          "output_type": "stream",
          "name": "stdout",
          "text": [
            "\n",
            "          <thead class=\"latest-real-time-trades__table-headings\">\n",
            "            <tr class=\"latest-real-time-trades__row latest-real-time-trades__row--headings\"><th class=\"latest-real-time-trades__table-heading\" scope=\"col\">NLS Time (ET)</th><th class=\"latest-real-time-trades__table-heading\" scope=\"col\">NLS Price</th><th class=\"latest-real-time-trades__table-heading\" scope=\"col\">NLS Share Volume</th></tr>\n",
            "          </thead>\n",
            "          <tbody class=\"latest-real-time-trades__table-body\"><tr class=\"latest-real-time-trades__row\"><th scope=\"row\" class=\"latest-real-time-trades__cell\">16:00:04</th><td scope=\"row\" class=\"latest-real-time-trades__cell\">$ 190.41</td><td scope=\"row\" class=\"latest-real-time-trades__cell\">300</td></tr><tr class=\"latest-real-time-trades__row\"><th scope=\"row\" class=\"latest-real-time-trades__cell\">16:00:04</th><td scope=\"row\" class=\"latest-real-time-trades__cell\">$ 190.41</td><td scope=\"row\" class=\"latest-real-time-trades__cell\">10,500</td></tr><tr class=\"latest-real-time-trades__row\"><th scope=\"row\" class=\"latest-real-time-trades__cell\">16:00:04</th><td scope=\"row\" class=\"latest-real-time-trades__cell\">$ 190.41</td><td scope=\"row\" class=\"latest-real-time-trades__cell\">360</td></tr><tr class=\"latest-real-time-trades__row\"><th scope=\"row\" class=\"latest-real-time-trades__cell\">16:00:04</th><td scope=\"row\" class=\"latest-real-time-trades__cell\">$ 190.41</td><td scope=\"row\" class=\"latest-real-time-trades__cell\">259</td></tr><tr class=\"latest-real-time-trades__row\"><th scope=\"row\" class=\"latest-real-time-trades__cell\">16:00:04</th><td scope=\"row\" class=\"latest-real-time-trades__cell\">$ 190.41</td><td scope=\"row\" class=\"latest-real-time-trades__cell\">175</td></tr><tr class=\"latest-real-time-trades__row\"><th scope=\"row\" class=\"latest-real-time-trades__cell\">16:00:04</th><td scope=\"row\" class=\"latest-real-time-trades__cell\">$ 190.41</td><td scope=\"row\" class=\"latest-real-time-trades__cell\">300</td></tr><tr class=\"latest-real-time-trades__row\"><th scope=\"row\" class=\"latest-real-time-trades__cell\">16:00:04</th><td scope=\"row\" class=\"latest-real-time-trades__cell\">$ 190.41</td><td scope=\"row\" class=\"latest-real-time-trades__cell\">300</td></tr><tr class=\"latest-real-time-trades__row\"><th scope=\"row\" class=\"latest-real-time-trades__cell\">16:00:04</th><td scope=\"row\" class=\"latest-real-time-trades__cell\">$ 190.41</td><td scope=\"row\" class=\"latest-real-time-trades__cell\">1</td></tr><tr class=\"latest-real-time-trades__row\"><th scope=\"row\" class=\"latest-real-time-trades__cell\">16:00:04</th><td scope=\"row\" class=\"latest-real-time-trades__cell\">$ 190.41</td><td scope=\"row\" class=\"latest-real-time-trades__cell\">10</td></tr><tr class=\"latest-real-time-trades__row\"><th scope=\"row\" class=\"latest-real-time-trades__cell\">16:00:04</th><td scope=\"row\" class=\"latest-real-time-trades__cell\">$ 190.41</td><td scope=\"row\" class=\"latest-real-time-trades__cell\">38</td></tr><tr class=\"latest-real-time-trades__row\"><th scope=\"row\" class=\"latest-real-time-trades__cell\">16:00:04</th><td scope=\"row\" class=\"latest-real-time-trades__cell\">$ 190.41</td><td scope=\"row\" class=\"latest-real-time-trades__cell\">91</td></tr><tr class=\"latest-real-time-trades__row\"><th scope=\"row\" class=\"latest-real-time-trades__cell\">16:00:04</th><td scope=\"row\" class=\"latest-real-time-trades__cell\">$ 190.41</td><td scope=\"row\" class=\"latest-real-time-trades__cell\">50</td></tr><tr class=\"latest-real-time-trades__row\"><th scope=\"row\" class=\"latest-real-time-trades__cell\">16:00:04</th><td scope=\"row\" class=\"latest-real-time-trades__cell\">$ 190.41</td><td scope=\"row\" class=\"latest-real-time-trades__cell\">150</td></tr><tr class=\"latest-real-time-trades__row\"><th scope=\"row\" class=\"latest-real-time-trades__cell\">16:00:04</th><td scope=\"row\" class=\"latest-real-time-trades__cell\">$ 190.41</td><td scope=\"row\" class=\"latest-real-time-trades__cell\">9</td></tr><tr class=\"latest-real-time-trades__row\"><th scope=\"row\" class=\"latest-real-time-trades__cell\">16:00:04</th><td scope=\"row\" class=\"latest-real-time-trades__cell\">$ 190.41</td><td scope=\"row\" class=\"latest-real-time-trades__cell\">7</td></tr><tr class=\"latest-real-time-trades__row\"><th scope=\"row\" class=\"latest-real-time-trades__cell\">16:00:04</th><td scope=\"row\" class=\"latest-real-time-trades__cell\">$ 190.41</td><td scope=\"row\" class=\"latest-real-time-trades__cell\">52</td></tr><tr class=\"latest-real-time-trades__row\"><th scope=\"row\" class=\"latest-real-time-trades__cell\">16:00:04</th><td scope=\"row\" class=\"latest-real-time-trades__cell\">$ 190.41</td><td scope=\"row\" class=\"latest-real-time-trades__cell\">241</td></tr><tr class=\"latest-real-time-trades__row\"><th scope=\"row\" class=\"latest-real-time-trades__cell\">16:00:04</th><td scope=\"row\" class=\"latest-real-time-trades__cell\">$ 190.41</td><td scope=\"row\" class=\"latest-real-time-trades__cell\">300</td></tr><tr class=\"latest-real-time-trades__row\"><th scope=\"row\" class=\"latest-real-time-trades__cell\">16:00:04</th><td scope=\"row\" class=\"latest-real-time-trades__cell\">$ 190.41</td><td scope=\"row\" class=\"latest-real-time-trades__cell\">182</td></tr><tr class=\"latest-real-time-trades__row\"><th scope=\"row\" class=\"latest-real-time-trades__cell\">16:00:04</th><td scope=\"row\" class=\"latest-real-time-trades__cell\">$ 190.41</td><td scope=\"row\" class=\"latest-real-time-trades__cell\">118</td></tr></tbody>\n",
            "        \n"
          ]
        }
      ]
    },
    {
      "cell_type": "code",
      "source": [
        "# 向下捲動捲軸 500 像素\n",
        "wd.execute_script(\"window.scrollBy(0, 500)\")\n",
        "wd.implicitly_wait(5)\n",
        "#點擊下一頁\n",
        "nextButton = wd.find_element(By.XPATH, '//button[@class=\"pagination__next\"]')\n",
        "nextButton.click()\n",
        "# 顯示等待：等待目標元素的出現，最多等待10秒\n",
        "element = WebDriverWait(wd, 10).until(expected_conditions.presence_of_element_located((By.XPATH, '//div[@class=\"latest-real-time-trades__data\"]')))\n",
        "\n",
        "results = wd.find_element(By.XPATH, '//table[@class=\"latest-real-time-trades__table\"]').get_attribute('innerHTML')\n",
        "print(results)"
      ],
      "metadata": {
        "id": "NZ2Bpg526OUx",
        "colab": {
          "base_uri": "https://localhost:8080/"
        },
        "outputId": "7d092ff4-580d-40eb-8366-98161f821c4b"
      },
      "execution_count": 16,
      "outputs": [
        {
          "output_type": "stream",
          "name": "stdout",
          "text": [
            "\n",
            "          <thead class=\"latest-real-time-trades__table-headings\">\n",
            "            <tr class=\"latest-real-time-trades__row latest-real-time-trades__row--headings\"><th class=\"latest-real-time-trades__table-heading\" scope=\"col\">NLS Time (ET)</th><th class=\"latest-real-time-trades__table-heading\" scope=\"col\">NLS Price</th><th class=\"latest-real-time-trades__table-heading\" scope=\"col\">NLS Share Volume</th></tr>\n",
            "          </thead>\n",
            "          <tbody class=\"latest-real-time-trades__table-body\"><tr class=\"latest-real-time-trades__row\"><th scope=\"row\" class=\"latest-real-time-trades__cell\">16:00:04</th><td scope=\"row\" class=\"latest-real-time-trades__cell\">$ 190.41</td><td scope=\"row\" class=\"latest-real-time-trades__cell\">172</td></tr><tr class=\"latest-real-time-trades__row\"><th scope=\"row\" class=\"latest-real-time-trades__cell\">16:00:04</th><td scope=\"row\" class=\"latest-real-time-trades__cell\">$ 190.41</td><td scope=\"row\" class=\"latest-real-time-trades__cell\">100</td></tr><tr class=\"latest-real-time-trades__row\"><th scope=\"row\" class=\"latest-real-time-trades__cell\">16:00:04</th><td scope=\"row\" class=\"latest-real-time-trades__cell\">$ 190.41</td><td scope=\"row\" class=\"latest-real-time-trades__cell\">28</td></tr><tr class=\"latest-real-time-trades__row\"><th scope=\"row\" class=\"latest-real-time-trades__cell\">16:00:04</th><td scope=\"row\" class=\"latest-real-time-trades__cell\">$ 190.41</td><td scope=\"row\" class=\"latest-real-time-trades__cell\">100</td></tr><tr class=\"latest-real-time-trades__row\"><th scope=\"row\" class=\"latest-real-time-trades__cell\">16:00:04</th><td scope=\"row\" class=\"latest-real-time-trades__cell\">$ 190.41</td><td scope=\"row\" class=\"latest-real-time-trades__cell\">1,579</td></tr><tr class=\"latest-real-time-trades__row\"><th scope=\"row\" class=\"latest-real-time-trades__cell\">16:00:04</th><td scope=\"row\" class=\"latest-real-time-trades__cell\">$ 190.41</td><td scope=\"row\" class=\"latest-real-time-trades__cell\">127</td></tr><tr class=\"latest-real-time-trades__row\"><th scope=\"row\" class=\"latest-real-time-trades__cell\">16:00:04</th><td scope=\"row\" class=\"latest-real-time-trades__cell\">$ 190.41</td><td scope=\"row\" class=\"latest-real-time-trades__cell\">10</td></tr><tr class=\"latest-real-time-trades__row\"><th scope=\"row\" class=\"latest-real-time-trades__cell\">16:00:04</th><td scope=\"row\" class=\"latest-real-time-trades__cell\">$ 190.41</td><td scope=\"row\" class=\"latest-real-time-trades__cell\">310</td></tr><tr class=\"latest-real-time-trades__row\"><th scope=\"row\" class=\"latest-real-time-trades__cell\">16:00:04</th><td scope=\"row\" class=\"latest-real-time-trades__cell\">$ 190.41</td><td scope=\"row\" class=\"latest-real-time-trades__cell\">310</td></tr><tr class=\"latest-real-time-trades__row\"><th scope=\"row\" class=\"latest-real-time-trades__cell\">16:00:04</th><td scope=\"row\" class=\"latest-real-time-trades__cell\">$ 190.41</td><td scope=\"row\" class=\"latest-real-time-trades__cell\">105</td></tr><tr class=\"latest-real-time-trades__row\"><th scope=\"row\" class=\"latest-real-time-trades__cell\">16:00:04</th><td scope=\"row\" class=\"latest-real-time-trades__cell\">$ 190.41</td><td scope=\"row\" class=\"latest-real-time-trades__cell\">2</td></tr><tr class=\"latest-real-time-trades__row\"><th scope=\"row\" class=\"latest-real-time-trades__cell\">16:00:04</th><td scope=\"row\" class=\"latest-real-time-trades__cell\">$ 190.41</td><td scope=\"row\" class=\"latest-real-time-trades__cell\">478</td></tr><tr class=\"latest-real-time-trades__row\"><th scope=\"row\" class=\"latest-real-time-trades__cell\">16:00:04</th><td scope=\"row\" class=\"latest-real-time-trades__cell\">$ 190.41</td><td scope=\"row\" class=\"latest-real-time-trades__cell\">1</td></tr><tr class=\"latest-real-time-trades__row\"><th scope=\"row\" class=\"latest-real-time-trades__cell\">16:00:04</th><td scope=\"row\" class=\"latest-real-time-trades__cell\">$ 190.41</td><td scope=\"row\" class=\"latest-real-time-trades__cell\">1</td></tr><tr class=\"latest-real-time-trades__row\"><th scope=\"row\" class=\"latest-real-time-trades__cell\">16:00:04</th><td scope=\"row\" class=\"latest-real-time-trades__cell\">$ 190.41</td><td scope=\"row\" class=\"latest-real-time-trades__cell\">1</td></tr><tr class=\"latest-real-time-trades__row\"><th scope=\"row\" class=\"latest-real-time-trades__cell\">16:00:04</th><td scope=\"row\" class=\"latest-real-time-trades__cell\">$ 190.41</td><td scope=\"row\" class=\"latest-real-time-trades__cell\">55</td></tr><tr class=\"latest-real-time-trades__row\"><th scope=\"row\" class=\"latest-real-time-trades__cell\">16:00:04</th><td scope=\"row\" class=\"latest-real-time-trades__cell\">$ 190.41</td><td scope=\"row\" class=\"latest-real-time-trades__cell\">138</td></tr><tr class=\"latest-real-time-trades__row\"><th scope=\"row\" class=\"latest-real-time-trades__cell\">16:00:04</th><td scope=\"row\" class=\"latest-real-time-trades__cell\">$ 190.41</td><td scope=\"row\" class=\"latest-real-time-trades__cell\">5</td></tr><tr class=\"latest-real-time-trades__row\"><th scope=\"row\" class=\"latest-real-time-trades__cell\">16:00:04</th><td scope=\"row\" class=\"latest-real-time-trades__cell\">$ 190.41</td><td scope=\"row\" class=\"latest-real-time-trades__cell\">478</td></tr><tr class=\"latest-real-time-trades__row\"><th scope=\"row\" class=\"latest-real-time-trades__cell\">16:00:04</th><td scope=\"row\" class=\"latest-real-time-trades__cell\">$ 190.41</td><td scope=\"row\" class=\"latest-real-time-trades__cell\">106</td></tr></tbody>\n",
            "        \n"
          ]
        }
      ]
    },
    {
      "cell_type": "code",
      "source": [],
      "metadata": {
        "id": "NRmnskijjLZM"
      },
      "execution_count": null,
      "outputs": []
    }
  ]
}