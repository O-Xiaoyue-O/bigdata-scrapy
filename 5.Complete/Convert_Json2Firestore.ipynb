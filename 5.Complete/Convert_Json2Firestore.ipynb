{
  "nbformat": 4,
  "nbformat_minor": 0,
  "metadata": {
    "colab": {
      "name": "Convert_Json2Firestore.ipynb",
      "provenance": [],
      "collapsed_sections": []
    },
    "kernelspec": {
      "name": "python3",
      "display_name": "Python 3"
    },
    "language_info": {
      "name": "python"
    }
  },
  "cells": [
    {
      "cell_type": "code",
      "execution_count": 8,
      "metadata": {
        "id": "i-WuWg4rmOsZ"
      },
      "outputs": [],
      "source": [
        "# 匯入 json 模組\n",
        "import json\n",
        "# 匯入 datetime 模組\n",
        "from datetime import datetime\n",
        "# 匯入 uuid 模組\n",
        "import uuid\n",
        "\n",
        "# Required imports\n",
        "import os\n",
        "import firebase_admin\n",
        "from firebase_admin import credentials, firestore, initialize_app"
      ]
    },
    {
      "cell_type": "code",
      "source": [
        "# Initialize Firestore DB\n",
        "cred = credentials.Certificate('key.json')\n",
        "default_app = initialize_app(cred)\n",
        "db = firestore.client()"
      ],
      "metadata": {
        "id": "MXQMaSkfozfn"
      },
      "execution_count": 4,
      "outputs": []
    },
    {
      "cell_type": "code",
      "source": [
        "def convertProductJson(row):\n",
        "  # 取得目前時間\n",
        "  current_time = datetime.today().strftime('%Y-%m-%d %H:%M:%S')\n",
        "  excerpt = row[\"detail\"].replace(\"\\n\", \"\").replace(\" \",\"\")[:60] + \"...\"\n",
        "  return {\n",
        "      \"id\": str(uuid.uuid4()),\n",
        "      \"Author\": \"1\",\n",
        "      \"Content\": row[\"detail\"],\n",
        "      \"Created\": current_time,\n",
        "      \"Excerpt\": excerpt,\n",
        "      \"FeatureImage\": row[\"images\"][0],\n",
        "      \"Images\": row[\"images\"],\n",
        "      \"Modified\": current_time,\n",
        "      \"Price\": row[\"price\"],\n",
        "      \"Status\": \"publish\",\n",
        "      \"StockQuantity\": row[\"stock\"],\n",
        "      \"Title\": row[\"title\"],\n",
        "      \"Url\": \"https://shopee.tw/\" + row[\"link\"],\n",
        "      \"Virtual\": \"false\"\n",
        "  }"
      ],
      "metadata": {
        "id": "c4kULcKFpPxk"
      },
      "execution_count": 22,
      "outputs": []
    },
    {
      "cell_type": "code",
      "source": [
        "# 讀取 JSON 格式資料，輸出商品主表的 insert into 指令\n",
        "with open(r'Shopee_NaNa.json', encoding=\"utf-8\") as json_file:\n",
        "    product_ref = db.collection('Products')\n",
        "    data = json.load(json_file)\n",
        "\n",
        "    for row in data:\n",
        "      if row[\"detail\"]!='' and row[\"images\"]!='' and row[\"price\"]!='':\n",
        "        product = convertProductJson(row)\n",
        "        #print(product)\n",
        "        \n",
        "        try:\n",
        "          product_ref.document(product[\"id\"]).set(product)\n",
        "          print(\"Success\")\n",
        "        except Exception as e:\n",
        "          print(f\"An Error Occurred: {e}\")\n",
        "        "
      ],
      "metadata": {
        "colab": {
          "base_uri": "https://localhost:8080/"
        },
        "id": "MfND7Q8imkbd",
        "outputId": "5f86e165-eb8b-4f63-b43e-c3c845771487"
      },
      "execution_count": 26,
      "outputs": [
        {
          "output_type": "stream",
          "name": "stdout",
          "text": [
            "Success\n",
            "Success\n",
            "Success\n",
            "Success\n",
            "Success\n",
            "Success\n",
            "Success\n",
            "Success\n",
            "Success\n",
            "Success\n",
            "Success\n",
            "Success\n",
            "Success\n",
            "Success\n",
            "Success\n",
            "Success\n",
            "Success\n",
            "Success\n",
            "Success\n",
            "Success\n",
            "Success\n",
            "Success\n",
            "Success\n",
            "Success\n",
            "Success\n",
            "Success\n",
            "Success\n",
            "Success\n",
            "Success\n",
            "Success\n",
            "Success\n",
            "Success\n",
            "Success\n",
            "Success\n",
            "Success\n",
            "Success\n",
            "Success\n",
            "Success\n",
            "Success\n",
            "Success\n",
            "Success\n",
            "Success\n",
            "Success\n",
            "Success\n",
            "Success\n",
            "Success\n",
            "Success\n",
            "Success\n",
            "Success\n",
            "Success\n",
            "Success\n",
            "Success\n",
            "Success\n",
            "Success\n",
            "Success\n",
            "Success\n",
            "Success\n",
            "Success\n",
            "Success\n",
            "Success\n",
            "Success\n",
            "Success\n",
            "Success\n",
            "Success\n",
            "Success\n",
            "Success\n",
            "Success\n",
            "Success\n",
            "Success\n",
            "Success\n",
            "Success\n",
            "Success\n",
            "Success\n",
            "Success\n"
          ]
        }
      ]
    }
  ]
}